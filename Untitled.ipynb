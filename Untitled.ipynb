{
 "cells": [
  {
   "cell_type": "code",
   "execution_count": 7,
   "metadata": {},
   "outputs": [],
   "source": [
    "import json\n",
    "import requests\n",
    "import pandas as pd"
   ]
  },
  {
   "cell_type": "code",
   "execution_count": 8,
   "metadata": {},
   "outputs": [],
   "source": [
    "url = 'https://www.alphavantage.co/query?function=TIME_SERIES_DAILY&symbol=XLV&outputsize=full&apikey=Y8YQFOIVHPA381U4'"
   ]
  },
  {
   "cell_type": "code",
   "execution_count": 9,
   "metadata": {},
   "outputs": [],
   "source": [
    "response = requests.get(url)\n",
    "xlv_file = response.json()\n",
    "xlv_values = xlv_file['Time Series (Daily)']"
   ]
  },
  {
   "cell_type": "code",
   "execution_count": 10,
   "metadata": {},
   "outputs": [],
   "source": [
    "for value in xlv_values:\n",
    "    open_prices = []"
   ]
  },
  {
   "cell_type": "code",
   "execution_count": 11,
   "metadata": {},
   "outputs": [
    {
     "data": {
      "text/html": [
       "<div>\n",
       "<style scoped>\n",
       "    .dataframe tbody tr th:only-of-type {\n",
       "        vertical-align: middle;\n",
       "    }\n",
       "\n",
       "    .dataframe tbody tr th {\n",
       "        vertical-align: top;\n",
       "    }\n",
       "\n",
       "    .dataframe thead th {\n",
       "        text-align: right;\n",
       "    }\n",
       "</style>\n",
       "<table border=\"1\" class=\"dataframe\">\n",
       "  <thead>\n",
       "    <tr style=\"text-align: right;\">\n",
       "      <th></th>\n",
       "      <th>open</th>\n",
       "      <th>high</th>\n",
       "      <th>low</th>\n",
       "      <th>close</th>\n",
       "      <th>volume</th>\n",
       "    </tr>\n",
       "  </thead>\n",
       "  <tbody>\n",
       "    <tr>\n",
       "      <td>2019-12-10</td>\n",
       "      <td>99.6900</td>\n",
       "      <td>100.0200</td>\n",
       "      <td>99.2950</td>\n",
       "      <td>99.8150</td>\n",
       "      <td>1165879</td>\n",
       "    </tr>\n",
       "    <tr>\n",
       "      <td>2019-12-09</td>\n",
       "      <td>100.4500</td>\n",
       "      <td>100.4700</td>\n",
       "      <td>99.7100</td>\n",
       "      <td>99.7100</td>\n",
       "      <td>5008359</td>\n",
       "    </tr>\n",
       "    <tr>\n",
       "      <td>2019-12-06</td>\n",
       "      <td>100.2700</td>\n",
       "      <td>100.7500</td>\n",
       "      <td>100.2000</td>\n",
       "      <td>100.4100</td>\n",
       "      <td>5658514</td>\n",
       "    </tr>\n",
       "    <tr>\n",
       "      <td>2019-12-05</td>\n",
       "      <td>99.8100</td>\n",
       "      <td>99.9000</td>\n",
       "      <td>98.9100</td>\n",
       "      <td>99.7500</td>\n",
       "      <td>7390352</td>\n",
       "    </tr>\n",
       "    <tr>\n",
       "      <td>2019-12-04</td>\n",
       "      <td>99.2300</td>\n",
       "      <td>99.8800</td>\n",
       "      <td>99.1300</td>\n",
       "      <td>99.7500</td>\n",
       "      <td>6237642</td>\n",
       "    </tr>\n",
       "  </tbody>\n",
       "</table>\n",
       "</div>"
      ],
      "text/plain": [
       "                open      high       low     close   volume\n",
       "2019-12-10   99.6900  100.0200   99.2950   99.8150  1165879\n",
       "2019-12-09  100.4500  100.4700   99.7100   99.7100  5008359\n",
       "2019-12-06  100.2700  100.7500  100.2000  100.4100  5658514\n",
       "2019-12-05   99.8100   99.9000   98.9100   99.7500  7390352\n",
       "2019-12-04   99.2300   99.8800   99.1300   99.7500  6237642"
      ]
     },
     "execution_count": 11,
     "metadata": {},
     "output_type": "execute_result"
    }
   ],
   "source": [
    "df = pd.DataFrame(xlv_values)\n",
    "xlv_df = df.T\n",
    "column_head = ['open', 'high', 'low', 'close', 'volume']\n",
    "xlv_df.columns = column_head\n",
    "xlv_df.head()"
   ]
  },
  {
   "cell_type": "code",
   "execution_count": 12,
   "metadata": {},
   "outputs": [
    {
     "data": {
      "text/html": [
       "<div>\n",
       "<style scoped>\n",
       "    .dataframe tbody tr th:only-of-type {\n",
       "        vertical-align: middle;\n",
       "    }\n",
       "\n",
       "    .dataframe tbody tr th {\n",
       "        vertical-align: top;\n",
       "    }\n",
       "\n",
       "    .dataframe thead th {\n",
       "        text-align: right;\n",
       "    }\n",
       "</style>\n",
       "<table border=\"1\" class=\"dataframe\">\n",
       "  <thead>\n",
       "    <tr style=\"text-align: right;\">\n",
       "      <th></th>\n",
       "      <th>index</th>\n",
       "      <th>open</th>\n",
       "      <th>high</th>\n",
       "      <th>low</th>\n",
       "      <th>close</th>\n",
       "      <th>volume</th>\n",
       "    </tr>\n",
       "  </thead>\n",
       "  <tbody>\n",
       "    <tr>\n",
       "      <td>0</td>\n",
       "      <td>2019-12-10</td>\n",
       "      <td>99.6900</td>\n",
       "      <td>100.0200</td>\n",
       "      <td>99.2950</td>\n",
       "      <td>99.8150</td>\n",
       "      <td>1165879</td>\n",
       "    </tr>\n",
       "    <tr>\n",
       "      <td>1</td>\n",
       "      <td>2019-12-09</td>\n",
       "      <td>100.4500</td>\n",
       "      <td>100.4700</td>\n",
       "      <td>99.7100</td>\n",
       "      <td>99.7100</td>\n",
       "      <td>5008359</td>\n",
       "    </tr>\n",
       "    <tr>\n",
       "      <td>2</td>\n",
       "      <td>2019-12-06</td>\n",
       "      <td>100.2700</td>\n",
       "      <td>100.7500</td>\n",
       "      <td>100.2000</td>\n",
       "      <td>100.4100</td>\n",
       "      <td>5658514</td>\n",
       "    </tr>\n",
       "    <tr>\n",
       "      <td>3</td>\n",
       "      <td>2019-12-05</td>\n",
       "      <td>99.8100</td>\n",
       "      <td>99.9000</td>\n",
       "      <td>98.9100</td>\n",
       "      <td>99.7500</td>\n",
       "      <td>7390352</td>\n",
       "    </tr>\n",
       "    <tr>\n",
       "      <td>4</td>\n",
       "      <td>2019-12-04</td>\n",
       "      <td>99.2300</td>\n",
       "      <td>99.8800</td>\n",
       "      <td>99.1300</td>\n",
       "      <td>99.7500</td>\n",
       "      <td>6237642</td>\n",
       "    </tr>\n",
       "    <tr>\n",
       "      <td>...</td>\n",
       "      <td>...</td>\n",
       "      <td>...</td>\n",
       "      <td>...</td>\n",
       "      <td>...</td>\n",
       "      <td>...</td>\n",
       "      <td>...</td>\n",
       "    </tr>\n",
       "    <tr>\n",
       "      <td>5029</td>\n",
       "      <td>1999-12-14</td>\n",
       "      <td>29.5300</td>\n",
       "      <td>29.8300</td>\n",
       "      <td>29.5300</td>\n",
       "      <td>29.7500</td>\n",
       "      <td>16000</td>\n",
       "    </tr>\n",
       "    <tr>\n",
       "      <td>5030</td>\n",
       "      <td>1999-12-13</td>\n",
       "      <td>29.6900</td>\n",
       "      <td>29.9500</td>\n",
       "      <td>29.6900</td>\n",
       "      <td>29.6900</td>\n",
       "      <td>10700</td>\n",
       "    </tr>\n",
       "    <tr>\n",
       "      <td>5031</td>\n",
       "      <td>1999-12-10</td>\n",
       "      <td>30.2500</td>\n",
       "      <td>30.2500</td>\n",
       "      <td>29.7700</td>\n",
       "      <td>29.8900</td>\n",
       "      <td>18800</td>\n",
       "    </tr>\n",
       "    <tr>\n",
       "      <td>5032</td>\n",
       "      <td>1999-12-09</td>\n",
       "      <td>29.8300</td>\n",
       "      <td>30.1300</td>\n",
       "      <td>29.8300</td>\n",
       "      <td>30.0800</td>\n",
       "      <td>12100</td>\n",
       "    </tr>\n",
       "    <tr>\n",
       "      <td>5033</td>\n",
       "      <td>1999-12-08</td>\n",
       "      <td>29.4100</td>\n",
       "      <td>29.7300</td>\n",
       "      <td>29.4100</td>\n",
       "      <td>29.6300</td>\n",
       "      <td>38900</td>\n",
       "    </tr>\n",
       "  </tbody>\n",
       "</table>\n",
       "<p>5034 rows × 6 columns</p>\n",
       "</div>"
      ],
      "text/plain": [
       "           index      open      high       low     close   volume\n",
       "0     2019-12-10   99.6900  100.0200   99.2950   99.8150  1165879\n",
       "1     2019-12-09  100.4500  100.4700   99.7100   99.7100  5008359\n",
       "2     2019-12-06  100.2700  100.7500  100.2000  100.4100  5658514\n",
       "3     2019-12-05   99.8100   99.9000   98.9100   99.7500  7390352\n",
       "4     2019-12-04   99.2300   99.8800   99.1300   99.7500  6237642\n",
       "...          ...       ...       ...       ...       ...      ...\n",
       "5029  1999-12-14   29.5300   29.8300   29.5300   29.7500    16000\n",
       "5030  1999-12-13   29.6900   29.9500   29.6900   29.6900    10700\n",
       "5031  1999-12-10   30.2500   30.2500   29.7700   29.8900    18800\n",
       "5032  1999-12-09   29.8300   30.1300   29.8300   30.0800    12100\n",
       "5033  1999-12-08   29.4100   29.7300   29.4100   29.6300    38900\n",
       "\n",
       "[5034 rows x 6 columns]"
      ]
     },
     "execution_count": 12,
     "metadata": {},
     "output_type": "execute_result"
    }
   ],
   "source": [
    "xlv_df.reset_index(inplace = False)\n",
    "xlv_df['index'] = "
   ]
  },
  {
   "cell_type": "code",
   "execution_count": 16,
   "metadata": {},
   "outputs": [
    {
     "data": {
      "text/plain": [
       "str"
      ]
     },
     "execution_count": 16,
     "metadata": {},
     "output_type": "execute_result"
    }
   ],
   "source": [
    "type(xlv_df['close'][0])"
   ]
  },
  {
   "cell_type": "code",
   "execution_count": 17,
   "metadata": {},
   "outputs": [
    {
     "data": {
      "text/plain": [
       "'29.4100'"
      ]
     },
     "execution_count": 17,
     "metadata": {},
     "output_type": "execute_result"
    }
   ],
   "source": [
    "xlv_df['open'][-1]"
   ]
  },
  {
   "cell_type": "code",
   "execution_count": null,
   "metadata": {},
   "outputs": [],
   "source": []
  }
 ],
 "metadata": {
  "kernelspec": {
   "display_name": "Python 3",
   "language": "python",
   "name": "python3"
  },
  "language_info": {
   "codemirror_mode": {
    "name": "ipython",
    "version": 3
   },
   "file_extension": ".py",
   "mimetype": "text/x-python",
   "name": "python",
   "nbconvert_exporter": "python",
   "pygments_lexer": "ipython3",
   "version": "3.6.9"
  }
 },
 "nbformat": 4,
 "nbformat_minor": 4
}
