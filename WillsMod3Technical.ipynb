{
 "cells": [
  {
   "cell_type": "markdown",
   "metadata": {},
   "source": [
    "# Healthcare RSI Statistical significance\n",
    "## Null Hypothesis 1 - The RSI of the heathcare fund, XLV, is the same as the RSI for the S&P 500\n",
    "## Alternative Hypothesis 1 - The RSI of the heathcare fund, XLV, is different from the RSI for the S&P 500"
   ]
  },
  {
   "cell_type": "code",
   "execution_count": 3,
   "metadata": {},
   "outputs": [
    {
     "ename": "NameError",
     "evalue": "name 'key_alphavantage' is not defined",
     "output_type": "error",
     "traceback": [
      "\u001b[0;31m---------------------------------------------------------------------------\u001b[0m",
      "\u001b[0;31mNameError\u001b[0m                                 Traceback (most recent call last)",
      "\u001b[0;32m<ipython-input-3-8f433d5aafc2>\u001b[0m in \u001b[0;36m<module>\u001b[0;34m\u001b[0m\n\u001b[1;32m      8\u001b[0m \u001b[0;34m\u001b[0m\u001b[0m\n\u001b[1;32m      9\u001b[0m \u001b[0;32mimport\u001b[0m \u001b[0mWill_key\u001b[0m\u001b[0;34m\u001b[0m\u001b[0;34m\u001b[0m\u001b[0m\n\u001b[0;32m---> 10\u001b[0;31m \u001b[0mkey_alphavantage\u001b[0m\u001b[0;34m.\u001b[0m\u001b[0mkey\u001b[0m\u001b[0;34m(\u001b[0m\u001b[0;34m)\u001b[0m\u001b[0;34m\u001b[0m\u001b[0;34m\u001b[0m\u001b[0m\n\u001b[0m\u001b[1;32m     11\u001b[0m \u001b[0;31m# '9HXBL1MHLXSUW3XP'\u001b[0m\u001b[0;34m\u001b[0m\u001b[0;34m\u001b[0m\u001b[0;34m\u001b[0m\u001b[0m\n\u001b[1;32m     12\u001b[0m \u001b[0mfunction\u001b[0m \u001b[0;34m=\u001b[0m \u001b[0;34m'RSI'\u001b[0m\u001b[0;34m\u001b[0m\u001b[0;34m\u001b[0m\u001b[0m\n",
      "\u001b[0;31mNameError\u001b[0m: name 'key_alphavantage' is not defined"
     ]
    }
   ],
   "source": [
    "import pandas as pd\n",
    "import requests\n",
    "import matplotlib.pyplot as plt\n",
    "import seaborn as sns\n",
    "import numpy as np\n",
    "from scipy import stats\n",
    "from statsmodels.stats.power import zt_ind_solve_power\n",
    "\n",
    "import 'Will_key'\n",
    "key_alphavantage = key\n",
    "# '9HXBL1MHLXSUW3XP'\n",
    "function = 'RSI'\n",
    "interval = 'daily'\n"
   ]
  },
  {
   "cell_type": "code",
   "execution_count": null,
   "metadata": {},
   "outputs": [],
   "source": []
  },
  {
   "cell_type": "code",
   "execution_count": null,
   "metadata": {},
   "outputs": [],
   "source": [
    "symbol1 = 'XLV'\n",
    "\n",
    "response = requests.get(f'https://www.alphavantage.co/query?function={function}&symbol={symbol1}&interval={interval}&time_period=10&series_type=open&apikey={key_alphavantage}')\n",
    "response = response.json()"
   ]
  },
  {
   "cell_type": "code",
   "execution_count": null,
   "metadata": {},
   "outputs": [],
   "source": [
    "symbol2 = '.INX'\n",
    "\n",
    "response2 = requests.get(f'https://www.alphavantage.co/query?function={function}&symbol={symbol2}&interval=daily&time_period=10&series_type=open&apikey={key_alphavantage}')\n",
    "response2 = response2.json()"
   ]
  },
  {
   "cell_type": "code",
   "execution_count": null,
   "metadata": {},
   "outputs": [],
   "source": [
    "xlv_dates= list(response[f'Technical Analysis: {function}'].keys())\n",
    "xlv_dates = xlv_dates[1:]"
   ]
  },
  {
   "cell_type": "code",
   "execution_count": null,
   "metadata": {},
   "outputs": [],
   "source": [
    "sp500_dates = list(response2[f'Technical Analysis: {function}'].keys())\n",
    "sp500_dates = sp500_dates[1:]"
   ]
  },
  {
   "cell_type": "code",
   "execution_count": null,
   "metadata": {},
   "outputs": [],
   "source": [
    "xlv_dates_rsi = {}\n",
    "\n",
    "count = 0\n",
    "for i in xlv_dates:\n",
    "    rsi = response[f'Technical Analysis: {function}'][i][f'{function}']\n",
    "    count += 1\n",
    "    xlv_dates_rsi[f'{i}'] = float(rsi)"
   ]
  },
  {
   "cell_type": "code",
   "execution_count": null,
   "metadata": {},
   "outputs": [],
   "source": [
    "sp500_dates_rsi = {}\n",
    "\n",
    "count2 = 0 \n",
    "for i in sp500_dates:\n",
    "    rsi2 = response2[f'Technical Analysis: {function}'][i][f'{function}']\n",
    "    count2 += 1\n",
    "    sp500_dates_rsi[f'{i}'] = float(rsi2)"
   ]
  },
  {
   "cell_type": "code",
   "execution_count": null,
   "metadata": {},
   "outputs": [],
   "source": [
    "xlvdf = pd.DataFrame(xlv_dates_rsi.items(), columns = ['date', f'{function}'])"
   ]
  },
  {
   "cell_type": "code",
   "execution_count": null,
   "metadata": {},
   "outputs": [],
   "source": [
    "sp500df = pd.DataFrame(sp500_dates_rsi.items(), columns = ['date', f'{function}'])"
   ]
  },
  {
   "cell_type": "code",
   "execution_count": null,
   "metadata": {},
   "outputs": [],
   "source": [
    "year = [int(xlv_dates[i].split('-')[0]) for i in range(len(xlv_dates))]\n",
    "month = [int(xlv_dates[i].split('-')[1]) for i in range(len(xlv_dates))]\n",
    "day = [int(xlv_dates[i].split('-')[2]) for i in range(len(xlv_dates))]"
   ]
  },
  {
   "cell_type": "code",
   "execution_count": null,
   "metadata": {},
   "outputs": [],
   "source": [
    "year2 = [int(sp500_dates[i].split('-')[0]) for i in range(len(sp500_dates))]\n",
    "month2 = [int(sp500_dates[i].split('-')[1]) for i in range(len(sp500_dates))]\n",
    "day2 = [int(sp500_dates[i].split('-')[2]) for i in range(len(sp500_dates))]"
   ]
  },
  {
   "cell_type": "code",
   "execution_count": null,
   "metadata": {},
   "outputs": [],
   "source": [
    "xlvdf['year'] = year\n",
    "xlvdf['month'] = month\n",
    "xlvdf['day'] = day"
   ]
  },
  {
   "cell_type": "code",
   "execution_count": null,
   "metadata": {},
   "outputs": [],
   "source": [
    "sp500df['year'] = year2\n",
    "sp500df['month'] = month2\n",
    "sp500df['day'] = day2"
   ]
  },
  {
   "cell_type": "code",
   "execution_count": null,
   "metadata": {},
   "outputs": [],
   "source": [
    "xlvdf = xlvdf.loc[xlvdf['year'] >= 2017]\n",
    "sp500df = sp500df.loc[sp500df['year'] >= 2017]"
   ]
  },
  {
   "cell_type": "markdown",
   "metadata": {},
   "source": [
    "## Comparing the normalized RSI data for XLV and S&P500 "
   ]
  },
  {
   "cell_type": "markdown",
   "metadata": {},
   "source": [
    "### 2017 Through 2019 YTD\n",
    "Taking samples and calculating the mean"
   ]
  },
  {
   "cell_type": "code",
   "execution_count": null,
   "metadata": {},
   "outputs": [],
   "source": [
    "xlv_sample_means = []\n",
    "sp500_sample_means = []\n",
    "for i in range(10000):\n",
    "    xlv_sample = xlvdf.sample(n=50, random_state=i) \n",
    "    xlv_sample_means.append(xlv_sample.RSI.mean()) \n",
    "        \n",
    "    sp500_sample = sp500df.sample(n=50, random_state=i) \n",
    "    sp500_sample_means.append(sp500_sample.RSI.mean()) "
   ]
  },
  {
   "cell_type": "markdown",
   "metadata": {},
   "source": [
    "### Evaluating z - score and statistical significance"
   ]
  },
  {
   "cell_type": "code",
   "execution_count": null,
   "metadata": {},
   "outputs": [],
   "source": [
    "xlv_bar = xlvdf.RSI.mean()  ### xlv population mean (subset)\n",
    "sp500_bar = sp500df.RSI.mean() ### S&P500 population mean (universal population)\n",
    "\n",
    "sp500_stan_dev = np.std(sp500df.RSI) ### S&P500 population standard dev\n",
    "sp500_stan_err = sp500_stan_dev/np.sqrt(len(sp500df))\n",
    "xlv_z_score = (xlv_bar - sp500_bar) / (sp500_stan_dev/np.sqrt(len(sp500df)))\n",
    "\n",
    "print(f'The z_score is: {xlv_z_score}')\n",
    "xlv_p_val = stats.norm.cdf(xlv_z_score)\n",
    "\n",
    "print(f'The p-value is: {xlv_p_val}')\n",
    "print(f'The standard deviation is {sp500_stan_dev}')\n",
    "print(f'The standard error is {sp500_stan_err}')   ### Z_score * Standard error = real difference between sample and pop means"
   ]
  },
  {
   "cell_type": "markdown",
   "metadata": {},
   "source": [
    "The p-value is extremely low >> .05, so we can reject our null-hypothesis that the RSI for the S&P500 and XLV are the same."
   ]
  },
  {
   "cell_type": "markdown",
   "metadata": {},
   "source": [
    "### Plotting Histogram Visual "
   ]
  },
  {
   "cell_type": "code",
   "execution_count": null,
   "metadata": {},
   "outputs": [],
   "source": [
    "plt.hist(xlv_sample_means, bins=500, color = 'blue', label='XLV 2017-19');\n",
    "plt.hist(sp500_sample_means, bins=500, color = 'red', label='S&P500 2017-19');\n",
    "plt.title('RSI Histogram')\n",
    "plt.legend();"
   ]
  },
  {
   "cell_type": "markdown",
   "metadata": {},
   "source": [
    "## Cohen's D and Power - How significant is the Difference?"
   ]
  },
  {
   "cell_type": "code",
   "execution_count": null,
   "metadata": {},
   "outputs": [],
   "source": [
    "def cohen_d(xlv, sp500):\n",
    "\n",
    "    diff_mean = xlv.mean() - sp500.mean()\n",
    "\n",
    "    n_xlv = len(xlv)\n",
    "    n_sp500 = len(sp500)\n",
    "    var_xlv = xlv.var()\n",
    "    var_sp500 = sp500.var()\n",
    "\n",
    "    pooled_var = (n_xlv * var_xlv + n_sp500 * var_sp500) / (n_xlv + n_sp500)\n",
    "\n",
    "    cod = diff_mean / np.sqrt(pooled_var)\n",
    "\n",
    "    return cod"
   ]
  },
  {
   "cell_type": "code",
   "execution_count": null,
   "metadata": {},
   "outputs": [],
   "source": [
    "xlv_cod = cohen_d(xlvdf['RSI'], sp500df['RSI'])"
   ]
  },
  {
   "cell_type": "code",
   "execution_count": null,
   "metadata": {},
   "outputs": [],
   "source": [
    "n1_xlv = len(xlvdf['RSI'])\n",
    "n2_sp500 = len(sp500df['RSI'])\n",
    "ratio = n1_xlv/n2_sp500\n",
    "xlv_power = zt_ind_solve_power(effect_size = xlv_cod, nobs1=n1_xlv, power = None, alpha = .05) \n",
    "print(f'Power= {xlv_power}\\nCohen D= {xlv_cod}')"
   ]
  },
  {
   "cell_type": "code",
   "execution_count": null,
   "metadata": {},
   "outputs": [],
   "source": [
    "xlvdf['RSI'].mean() - sp500df['RSI'].mean()"
   ]
  },
  {
   "cell_type": "markdown",
   "metadata": {},
   "source": [
    "It can be inferred that there is a difference, but since power is less than .8, it is less significant. This can be attributed to the small Cohen's D value, meaning there is a small effect on different populations"
   ]
  },
  {
   "cell_type": "markdown",
   "metadata": {},
   "source": [
    "### Null Hypothesis 2 - The RSI of Johnson & Johnson, the largest holdings in the XLV, mirrors the RSI of the XLV\n",
    "### Alternative Hypothesis 2 - The RSI of Johnson & Johnson, the largest holdings in the XLV, is different from the RSI of the XLV"
   ]
  },
  {
   "cell_type": "code",
   "execution_count": null,
   "metadata": {},
   "outputs": [],
   "source": [
    "symbol_list = ['JNJ'] "
   ]
  },
  {
   "cell_type": "code",
   "execution_count": null,
   "metadata": {},
   "outputs": [],
   "source": [
    "all_list = []\n",
    "for symbol in symbol_list:\n",
    "    response = requests.get(f'https://www.alphavantage.co/query?function={function}&symbol={symbol}&interval={interval}&time_period=10&series_type=open&apikey={key_alphavantage}')\n",
    "    jason = response.json()\n",
    "    all_list.append(jason)"
   ]
  },
  {
   "cell_type": "code",
   "execution_count": null,
   "metadata": {},
   "outputs": [],
   "source": [
    "dictjnj = {}\n",
    "\n",
    "len_jnj = len(all_list[0]['Technical Analysis: RSI'])\n",
    "for i in range(len_jnj):\n",
    "    date = list(all_list[0]['Technical Analysis: RSI'].keys())[i]\n",
    "    rsi = float(list(all_list[0]['Technical Analysis: RSI'].values())[i]['RSI'])\n",
    "    dictjnj[f'{date}'] = rsi\n",
    "df_jnj = pd.DataFrame(dictjnj.items(), columns = ['date', 'rsi'])\n",
    "\n",
    "year = []\n",
    "for i in range(len_jnj):\n",
    "    year.append(int(df_jnj['date'][i].split('-')[0]))"
   ]
  },
  {
   "cell_type": "code",
   "execution_count": null,
   "metadata": {},
   "outputs": [],
   "source": [
    "df_jnj['year'] = year\n",
    "df_jnj.drop(0, inplace = True)"
   ]
  },
  {
   "cell_type": "code",
   "execution_count": null,
   "metadata": {},
   "outputs": [],
   "source": [
    "df_jnj = df_jnj.loc[df_jnj['year'] >= 2017] #2017 and newer data"
   ]
  },
  {
   "cell_type": "markdown",
   "metadata": {},
   "source": [
    "### Taking samples, and evaluating the test statistics."
   ]
  },
  {
   "cell_type": "code",
   "execution_count": null,
   "metadata": {},
   "outputs": [],
   "source": [
    "jnj_sample_means = []\n",
    "\n",
    "for i in range(10000):\n",
    "    jnj_sample = df_jnj.sample(n=50, random_state=i) \n",
    "    jnj_sample_means.append(jnj_sample.rsi.mean()) "
   ]
  },
  {
   "cell_type": "code",
   "execution_count": null,
   "metadata": {},
   "outputs": [],
   "source": [
    "jnj_bar= df_jnj.rsi.mean()  ### johnson and johnson population mean (subset)\n",
    "\n",
    "xlv_stan_dev = np.std(xlvdf.RSI)\n",
    "xlv_stan_err = xlv_stan_dev/np.sqrt(len(xlvdf))\n",
    "\n",
    "jnj_z_score = (jnj_bar - xlv_bar) / (xlv_stan_dev/np.sqrt(len(xlvdf)))\n",
    "jnj_p_val = stats.norm.cdf(jnj_z_score)\n",
    "p_valjnj = stats.norm.cdf(jnj_z_score)\n",
    "\n",
    "print(f'The z_score is: {jnj_z_score}')\n",
    "print(f'The p-value is: {jnj_p_val}')\n",
    "print(f'The standard deviation is {xlv_stan_dev}')\n",
    "print(f'The standard error is {xlv_stan_err}')"
   ]
  },
  {
   "cell_type": "markdown",
   "metadata": {},
   "source": [
    "The p-value is much less than .05, so we can reject our null-hypothesis that Johnson & Johnson and XLV have the same RSI "
   ]
  },
  {
   "cell_type": "code",
   "execution_count": null,
   "metadata": {},
   "outputs": [],
   "source": [
    "plt.hist(jnj_sample_means, bins=500, color='blue', label='JNJ 2017-2019');\n",
    "plt.hist(xlv_sample_means, bins=500, color='red', label='XLV 2017-2019');\n",
    "plt.title('RSI 2017 - 2019')\n",
    "plt.legend();"
   ]
  },
  {
   "cell_type": "code",
   "execution_count": null,
   "metadata": {},
   "outputs": [],
   "source": [
    "print(jnj_z_score * xlv_stan_err)\n",
    "print(jnj_bar - xlv_bar)"
   ]
  },
  {
   "cell_type": "markdown",
   "metadata": {},
   "source": [
    "### Cohen's D for Johnson & Johnson and XLV - 2017-2019"
   ]
  },
  {
   "cell_type": "code",
   "execution_count": null,
   "metadata": {},
   "outputs": [],
   "source": [
    "codjnj = cohen_d(df_jnj['rsi'], xlvdf['RSI'])"
   ]
  },
  {
   "cell_type": "code",
   "execution_count": null,
   "metadata": {},
   "outputs": [],
   "source": [
    "n1_jnj = len(df_jnj['rsi'])\n",
    "n2_xlv = len(xlvdf['RSI'])\n",
    "ratio = n1_jnj/n2_xlv\n",
    "jnj_power = zt_ind_solve_power(effect_size = codjnj, nobs1=n1_jnj, power = None, alpha = .05) \n",
    "print(f'Power= {jnj_power}\\nCohen D= {codjnj}')"
   ]
  },
  {
   "cell_type": "markdown",
   "metadata": {},
   "source": [
    "In contrast to the prior power analysis between XLV and S&P500, the power is greater than .8, in spite of the relativly small Cohen's D. Meaning that there is a decisive difference in the two groups, although the effect size is small."
   ]
  },
  {
   "cell_type": "code",
   "execution_count": null,
   "metadata": {},
   "outputs": [],
   "source": []
  }
 ],
 "metadata": {
  "kernelspec": {
   "display_name": "Python 3",
   "language": "python",
   "name": "python3"
  },
  "language_info": {
   "codemirror_mode": {
    "name": "ipython",
    "version": 3
   },
   "file_extension": ".py",
   "mimetype": "text/x-python",
   "name": "python",
   "nbconvert_exporter": "python",
   "pygments_lexer": "ipython3",
   "version": "3.7.4"
  }
 },
 "nbformat": 4,
 "nbformat_minor": 4
}
