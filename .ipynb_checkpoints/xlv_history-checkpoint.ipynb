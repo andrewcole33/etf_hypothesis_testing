{
 "cells": [
  {
   "cell_type": "code",
   "execution_count": 86,
   "metadata": {},
   "outputs": [],
   "source": [
    "import json\n",
    "import requests\n",
    "import pandas as pd\n",
    "import matplotlib.pyplot as plt\n",
    "import scipy.stats as stats\n",
    "import math"
   ]
  },
  {
   "cell_type": "markdown",
   "metadata": {},
   "source": [
    "## Load XLV API \n",
    "#### Create percent change column"
   ]
  },
  {
   "cell_type": "code",
   "execution_count": 87,
   "metadata": {},
   "outputs": [],
   "source": [
    "url = 'https://www.alphavantage.co/query?function=TIME_SERIES_DAILY&symbol=XLV&outputsize=full&apikey=Y8YQFOIVHPA381U4'"
   ]
  },
  {
   "cell_type": "code",
   "execution_count": 88,
   "metadata": {
    "scrolled": true
   },
   "outputs": [],
   "source": [
    "response = requests.get(url)\n",
    "xlv_file = response.json()"
   ]
  },
  {
   "cell_type": "code",
   "execution_count": 89,
   "metadata": {
    "scrolled": true
   },
   "outputs": [],
   "source": [
    "xlv_values = xlv_file['Time Series (Daily)']"
   ]
  },
  {
   "cell_type": "code",
   "execution_count": 90,
   "metadata": {},
   "outputs": [],
   "source": [
    "for value in xlv_values:\n",
    "    open_prices = []"
   ]
  },
  {
   "cell_type": "code",
   "execution_count": 91,
   "metadata": {
    "scrolled": true
   },
   "outputs": [],
   "source": [
    "df = pd.DataFrame(xlv_values)\n",
    "xlv_df = df.T\n",
    "column_head = ['open', 'high', 'low', 'close', 'volume']\n",
    "xlv_df.columns = column_head\n",
    "xlv_df.reset_index(inplace = True)"
   ]
  },
  {
   "cell_type": "code",
   "execution_count": 92,
   "metadata": {},
   "outputs": [],
   "source": [
    "xlv_df['open'] = xlv_df.open.astype(float)\n",
    "xlv_df['high'] = xlv_df.high.astype(float)\n",
    "xlv_df['low'] = xlv_df.low.astype(float)\n",
    "xlv_df['close'] = xlv_df.close.astype(float)\n",
    "xlv_df['volume'] = xlv_df.volume.astype(float)"
   ]
  },
  {
   "cell_type": "code",
   "execution_count": 93,
   "metadata": {},
   "outputs": [],
   "source": [
    "xlv_df['day_pct_change'] = (xlv_df['close']-xlv_df['open'])/xlv_df['open']*100"
   ]
  },
  {
   "cell_type": "code",
   "execution_count": 94,
   "metadata": {},
   "outputs": [],
   "source": [
    "for entry in xlv_df:\n",
    "    pct_change = (xlv_df['close'] - xlv_df['open'].iloc[-1])/xlv_df['open'].iloc[-1]\n",
    "    xlv_df['overall_pct_change'] = pct_change * 100"
   ]
  },
  {
   "cell_type": "code",
   "execution_count": 95,
   "metadata": {},
   "outputs": [
    {
     "data": {
      "text/html": [
       "<div>\n",
       "<style scoped>\n",
       "    .dataframe tbody tr th:only-of-type {\n",
       "        vertical-align: middle;\n",
       "    }\n",
       "\n",
       "    .dataframe tbody tr th {\n",
       "        vertical-align: top;\n",
       "    }\n",
       "\n",
       "    .dataframe thead th {\n",
       "        text-align: right;\n",
       "    }\n",
       "</style>\n",
       "<table border=\"1\" class=\"dataframe\">\n",
       "  <thead>\n",
       "    <tr style=\"text-align: right;\">\n",
       "      <th></th>\n",
       "      <th>index</th>\n",
       "      <th>open</th>\n",
       "      <th>high</th>\n",
       "      <th>low</th>\n",
       "      <th>close</th>\n",
       "      <th>volume</th>\n",
       "      <th>day_pct_change</th>\n",
       "      <th>overall_pct_change</th>\n",
       "    </tr>\n",
       "  </thead>\n",
       "  <tbody>\n",
       "    <tr>\n",
       "      <td>0</td>\n",
       "      <td>2019-12-10</td>\n",
       "      <td>99.69</td>\n",
       "      <td>100.02</td>\n",
       "      <td>99.295</td>\n",
       "      <td>99.88</td>\n",
       "      <td>6024587.0</td>\n",
       "      <td>0.190591</td>\n",
       "      <td>239.612377</td>\n",
       "    </tr>\n",
       "    <tr>\n",
       "      <td>1</td>\n",
       "      <td>2019-12-09</td>\n",
       "      <td>100.45</td>\n",
       "      <td>100.47</td>\n",
       "      <td>99.710</td>\n",
       "      <td>99.71</td>\n",
       "      <td>5008359.0</td>\n",
       "      <td>-0.736685</td>\n",
       "      <td>239.034342</td>\n",
       "    </tr>\n",
       "    <tr>\n",
       "      <td>2</td>\n",
       "      <td>2019-12-06</td>\n",
       "      <td>100.27</td>\n",
       "      <td>100.75</td>\n",
       "      <td>100.200</td>\n",
       "      <td>100.41</td>\n",
       "      <td>5658514.0</td>\n",
       "      <td>0.139623</td>\n",
       "      <td>241.414485</td>\n",
       "    </tr>\n",
       "    <tr>\n",
       "      <td>3</td>\n",
       "      <td>2019-12-05</td>\n",
       "      <td>99.81</td>\n",
       "      <td>99.90</td>\n",
       "      <td>98.910</td>\n",
       "      <td>99.75</td>\n",
       "      <td>7390352.0</td>\n",
       "      <td>-0.060114</td>\n",
       "      <td>239.170350</td>\n",
       "    </tr>\n",
       "    <tr>\n",
       "      <td>4</td>\n",
       "      <td>2019-12-04</td>\n",
       "      <td>99.23</td>\n",
       "      <td>99.88</td>\n",
       "      <td>99.130</td>\n",
       "      <td>99.75</td>\n",
       "      <td>6237642.0</td>\n",
       "      <td>0.524035</td>\n",
       "      <td>239.170350</td>\n",
       "    </tr>\n",
       "  </tbody>\n",
       "</table>\n",
       "</div>"
      ],
      "text/plain": [
       "        index    open    high      low   close     volume  day_pct_change  \\\n",
       "0  2019-12-10   99.69  100.02   99.295   99.88  6024587.0        0.190591   \n",
       "1  2019-12-09  100.45  100.47   99.710   99.71  5008359.0       -0.736685   \n",
       "2  2019-12-06  100.27  100.75  100.200  100.41  5658514.0        0.139623   \n",
       "3  2019-12-05   99.81   99.90   98.910   99.75  7390352.0       -0.060114   \n",
       "4  2019-12-04   99.23   99.88   99.130   99.75  6237642.0        0.524035   \n",
       "\n",
       "   overall_pct_change  \n",
       "0          239.612377  \n",
       "1          239.034342  \n",
       "2          241.414485  \n",
       "3          239.170350  \n",
       "4          239.170350  "
      ]
     },
     "execution_count": 95,
     "metadata": {},
     "output_type": "execute_result"
    }
   ],
   "source": [
    "xlv_df.head()"
   ]
  },
  {
   "cell_type": "markdown",
   "metadata": {},
   "source": [
    "## Load S&P API\n"
   ]
  },
  {
   "cell_type": "code",
   "execution_count": 96,
   "metadata": {},
   "outputs": [],
   "source": [
    "url_sp = 'https://www.alphavantage.co/query?function=TIME_SERIES_DAILY&symbol=.INX&outputsize=full&apikey=Y8YQFOIVHPA381U4'"
   ]
  },
  {
   "cell_type": "code",
   "execution_count": 97,
   "metadata": {},
   "outputs": [],
   "source": [
    "response2 = requests.get(url_sp)\n",
    "sp_file = response2.json()"
   ]
  },
  {
   "cell_type": "code",
   "execution_count": 98,
   "metadata": {},
   "outputs": [],
   "source": [
    "sp_values = sp_file['Time Series (Daily)']\n",
    "sp_df = pd.DataFrame(sp_values)\n",
    "sp_df = sp_df.T\n",
    "sp_df.columns = column_head\n",
    "sp_df['open'] = sp_df.open.astype(float)\n",
    "sp_df['high'] = sp_df.high.astype(float)\n",
    "sp_df['low'] = sp_df.low.astype(float)\n",
    "sp_df['close'] = sp_df.close.astype(float)\n",
    "sp_df['volume'] = sp_df.volume.astype(float)"
   ]
  },
  {
   "cell_type": "code",
   "execution_count": 99,
   "metadata": {},
   "outputs": [],
   "source": [
    "sp_df['day_pct_change'] = (sp_df['close']-sp_df['open'])/sp_df['open']*100"
   ]
  },
  {
   "cell_type": "code",
   "execution_count": 100,
   "metadata": {},
   "outputs": [],
   "source": [
    "for entry in sp_df:\n",
    "    pct_change = (sp_df['close'] - sp_df['open'].iloc[-1])/sp_df['open'].iloc[-1]\n",
    "    sp_df['overall_pct_change'] = pct_change * 100"
   ]
  },
  {
   "cell_type": "code",
   "execution_count": 101,
   "metadata": {},
   "outputs": [
    {
     "data": {
      "text/html": [
       "<div>\n",
       "<style scoped>\n",
       "    .dataframe tbody tr th:only-of-type {\n",
       "        vertical-align: middle;\n",
       "    }\n",
       "\n",
       "    .dataframe tbody tr th {\n",
       "        vertical-align: top;\n",
       "    }\n",
       "\n",
       "    .dataframe thead th {\n",
       "        text-align: right;\n",
       "    }\n",
       "</style>\n",
       "<table border=\"1\" class=\"dataframe\">\n",
       "  <thead>\n",
       "    <tr style=\"text-align: right;\">\n",
       "      <th></th>\n",
       "      <th>open</th>\n",
       "      <th>high</th>\n",
       "      <th>low</th>\n",
       "      <th>close</th>\n",
       "      <th>volume</th>\n",
       "      <th>day_pct_change</th>\n",
       "      <th>overall_pct_change</th>\n",
       "    </tr>\n",
       "  </thead>\n",
       "  <tbody>\n",
       "    <tr>\n",
       "      <td>count</td>\n",
       "      <td>5034.000000</td>\n",
       "      <td>5034.000000</td>\n",
       "      <td>5034.000000</td>\n",
       "      <td>5034.000000</td>\n",
       "      <td>5.034000e+03</td>\n",
       "      <td>5034.000000</td>\n",
       "      <td>5034.000000</td>\n",
       "    </tr>\n",
       "    <tr>\n",
       "      <td>mean</td>\n",
       "      <td>45.291980</td>\n",
       "      <td>45.557728</td>\n",
       "      <td>44.993638</td>\n",
       "      <td>45.291059</td>\n",
       "      <td>5.178023e+06</td>\n",
       "      <td>-0.002841</td>\n",
       "      <td>53.998840</td>\n",
       "    </tr>\n",
       "    <tr>\n",
       "      <td>std</td>\n",
       "      <td>21.737666</td>\n",
       "      <td>21.835178</td>\n",
       "      <td>21.631401</td>\n",
       "      <td>21.743055</td>\n",
       "      <td>5.490469e+06</td>\n",
       "      <td>0.997468</td>\n",
       "      <td>73.930823</td>\n",
       "    </tr>\n",
       "    <tr>\n",
       "      <td>min</td>\n",
       "      <td>21.750000</td>\n",
       "      <td>22.100000</td>\n",
       "      <td>21.000000</td>\n",
       "      <td>21.880000</td>\n",
       "      <td>9.000000e+02</td>\n",
       "      <td>-8.646889</td>\n",
       "      <td>-25.603536</td>\n",
       "    </tr>\n",
       "    <tr>\n",
       "      <td>25%</td>\n",
       "      <td>29.550000</td>\n",
       "      <td>29.730000</td>\n",
       "      <td>29.350000</td>\n",
       "      <td>29.550000</td>\n",
       "      <td>4.494000e+05</td>\n",
       "      <td>-0.484426</td>\n",
       "      <td>0.476029</td>\n",
       "    </tr>\n",
       "    <tr>\n",
       "      <td>50%</td>\n",
       "      <td>32.900000</td>\n",
       "      <td>33.080000</td>\n",
       "      <td>32.670000</td>\n",
       "      <td>32.905000</td>\n",
       "      <td>4.409894e+06</td>\n",
       "      <td>0.021897</td>\n",
       "      <td>11.883713</td>\n",
       "    </tr>\n",
       "    <tr>\n",
       "      <td>75%</td>\n",
       "      <td>66.667500</td>\n",
       "      <td>67.307500</td>\n",
       "      <td>65.950000</td>\n",
       "      <td>66.827500</td>\n",
       "      <td>7.780256e+06</td>\n",
       "      <td>0.506973</td>\n",
       "      <td>127.227134</td>\n",
       "    </tr>\n",
       "    <tr>\n",
       "      <td>max</td>\n",
       "      <td>100.450000</td>\n",
       "      <td>100.750000</td>\n",
       "      <td>100.200000</td>\n",
       "      <td>100.410000</td>\n",
       "      <td>6.647018e+07</td>\n",
       "      <td>8.372274</td>\n",
       "      <td>241.414485</td>\n",
       "    </tr>\n",
       "  </tbody>\n",
       "</table>\n",
       "</div>"
      ],
      "text/plain": [
       "              open         high          low        close        volume  \\\n",
       "count  5034.000000  5034.000000  5034.000000  5034.000000  5.034000e+03   \n",
       "mean     45.291980    45.557728    44.993638    45.291059  5.178023e+06   \n",
       "std      21.737666    21.835178    21.631401    21.743055  5.490469e+06   \n",
       "min      21.750000    22.100000    21.000000    21.880000  9.000000e+02   \n",
       "25%      29.550000    29.730000    29.350000    29.550000  4.494000e+05   \n",
       "50%      32.900000    33.080000    32.670000    32.905000  4.409894e+06   \n",
       "75%      66.667500    67.307500    65.950000    66.827500  7.780256e+06   \n",
       "max     100.450000   100.750000   100.200000   100.410000  6.647018e+07   \n",
       "\n",
       "       day_pct_change  overall_pct_change  \n",
       "count     5034.000000         5034.000000  \n",
       "mean        -0.002841           53.998840  \n",
       "std          0.997468           73.930823  \n",
       "min         -8.646889          -25.603536  \n",
       "25%         -0.484426            0.476029  \n",
       "50%          0.021897           11.883713  \n",
       "75%          0.506973          127.227134  \n",
       "max          8.372274          241.414485  "
      ]
     },
     "execution_count": 101,
     "metadata": {},
     "output_type": "execute_result"
    }
   ],
   "source": [
    "xlv_df.describe()"
   ]
  },
  {
   "cell_type": "code",
   "execution_count": 102,
   "metadata": {},
   "outputs": [
    {
     "data": {
      "text/html": [
       "<div>\n",
       "<style scoped>\n",
       "    .dataframe tbody tr th:only-of-type {\n",
       "        vertical-align: middle;\n",
       "    }\n",
       "\n",
       "    .dataframe tbody tr th {\n",
       "        vertical-align: top;\n",
       "    }\n",
       "\n",
       "    .dataframe thead th {\n",
       "        text-align: right;\n",
       "    }\n",
       "</style>\n",
       "<table border=\"1\" class=\"dataframe\">\n",
       "  <thead>\n",
       "    <tr style=\"text-align: right;\">\n",
       "      <th></th>\n",
       "      <th>open</th>\n",
       "      <th>high</th>\n",
       "      <th>low</th>\n",
       "      <th>close</th>\n",
       "      <th>volume</th>\n",
       "      <th>day_pct_change</th>\n",
       "      <th>overall_pct_change</th>\n",
       "    </tr>\n",
       "  </thead>\n",
       "  <tbody>\n",
       "    <tr>\n",
       "      <td>count</td>\n",
       "      <td>5017.000000</td>\n",
       "      <td>5017.000000</td>\n",
       "      <td>5017.000000</td>\n",
       "      <td>5017.000000</td>\n",
       "      <td>5.017000e+03</td>\n",
       "      <td>5017.000000</td>\n",
       "      <td>5017.000000</td>\n",
       "    </tr>\n",
       "    <tr>\n",
       "      <td>mean</td>\n",
       "      <td>1570.285895</td>\n",
       "      <td>1579.167000</td>\n",
       "      <td>1560.654447</td>\n",
       "      <td>1570.462756</td>\n",
       "      <td>3.090419e+09</td>\n",
       "      <td>0.016930</td>\n",
       "      <td>6.888736</td>\n",
       "    </tr>\n",
       "    <tr>\n",
       "      <td>std</td>\n",
       "      <td>580.306227</td>\n",
       "      <td>581.043977</td>\n",
       "      <td>579.393696</td>\n",
       "      <td>580.388105</td>\n",
       "      <td>1.474772e+09</td>\n",
       "      <td>1.138870</td>\n",
       "      <td>39.502338</td>\n",
       "    </tr>\n",
       "    <tr>\n",
       "      <td>min</td>\n",
       "      <td>679.280000</td>\n",
       "      <td>695.270000</td>\n",
       "      <td>666.790000</td>\n",
       "      <td>676.530000</td>\n",
       "      <td>3.560700e+08</td>\n",
       "      <td>-8.723105</td>\n",
       "      <td>-53.954058</td>\n",
       "    </tr>\n",
       "    <tr>\n",
       "      <td>25%</td>\n",
       "      <td>1151.060100</td>\n",
       "      <td>1159.410000</td>\n",
       "      <td>1141.920000</td>\n",
       "      <td>1151.030000</td>\n",
       "      <td>1.667580e+09</td>\n",
       "      <td>-0.447713</td>\n",
       "      <td>-21.658669</td>\n",
       "    </tr>\n",
       "    <tr>\n",
       "      <td>50%</td>\n",
       "      <td>1359.990000</td>\n",
       "      <td>1368.160000</td>\n",
       "      <td>1348.600000</td>\n",
       "      <td>1360.140000</td>\n",
       "      <td>3.217610e+09</td>\n",
       "      <td>0.051732</td>\n",
       "      <td>-7.426238</td>\n",
       "    </tr>\n",
       "    <tr>\n",
       "      <td>75%</td>\n",
       "      <td>1979.750000</td>\n",
       "      <td>1987.180100</td>\n",
       "      <td>1970.890000</td>\n",
       "      <td>1981.569900</td>\n",
       "      <td>3.917950e+09</td>\n",
       "      <td>0.520161</td>\n",
       "      <td>34.869484</td>\n",
       "    </tr>\n",
       "    <tr>\n",
       "      <td>max</td>\n",
       "      <td>3147.179900</td>\n",
       "      <td>3154.260000</td>\n",
       "      <td>3143.409900</td>\n",
       "      <td>3153.629900</td>\n",
       "      <td>1.145623e+10</td>\n",
       "      <td>10.789002</td>\n",
       "      <td>114.642158</td>\n",
       "    </tr>\n",
       "  </tbody>\n",
       "</table>\n",
       "</div>"
      ],
      "text/plain": [
       "              open         high          low        close        volume  \\\n",
       "count  5017.000000  5017.000000  5017.000000  5017.000000  5.017000e+03   \n",
       "mean   1570.285895  1579.167000  1560.654447  1570.462756  3.090419e+09   \n",
       "std     580.306227   581.043977   579.393696   580.388105  1.474772e+09   \n",
       "min     679.280000   695.270000   666.790000   676.530000  3.560700e+08   \n",
       "25%    1151.060100  1159.410000  1141.920000  1151.030000  1.667580e+09   \n",
       "50%    1359.990000  1368.160000  1348.600000  1360.140000  3.217610e+09   \n",
       "75%    1979.750000  1987.180100  1970.890000  1981.569900  3.917950e+09   \n",
       "max    3147.179900  3154.260000  3143.409900  3153.629900  1.145623e+10   \n",
       "\n",
       "       day_pct_change  overall_pct_change  \n",
       "count     5017.000000         5017.000000  \n",
       "mean         0.016930            6.888736  \n",
       "std          1.138870           39.502338  \n",
       "min         -8.723105          -53.954058  \n",
       "25%         -0.447713          -21.658669  \n",
       "50%          0.051732           -7.426238  \n",
       "75%          0.520161           34.869484  \n",
       "max         10.789002          114.642158  "
      ]
     },
     "execution_count": 102,
     "metadata": {},
     "output_type": "execute_result"
    }
   ],
   "source": [
    "sp_df.describe()"
   ]
  },
  {
   "cell_type": "markdown",
   "metadata": {},
   "source": [
    "## Hypothesis 1 Testing: Average Returns"
   ]
  },
  {
   "cell_type": "markdown",
   "metadata": {},
   "source": [
    "#### H0: The daily avg percent change in the XLV index fund is <= to that of the overall S&P 500 \n",
    "#### HA: The daily avg percent change in the XLV index fund is greater than the S&P 500 "
   ]
  },
  {
   "cell_type": "code",
   "execution_count": 103,
   "metadata": {},
   "outputs": [],
   "source": [
    "xlv_avg_percent_moves = []\n",
    "sp_avg_percent_moves = []\n",
    "\n",
    "for i in range(5034):\n",
    "    \n",
    "    sample_xlv = xlv_df.sample(n = 50, random_state = i)\n",
    "    xlv_avg_percent_moves.append(sample_xlv.day_pct_change.mean())\n",
    "    \n",
    "    sample_sp = sp_df.sample(n = 50, random_state = i)\n",
    "    sp_avg_percent_moves.append(sample_sp.day_pct_change.mean())\n"
   ]
  },
  {
   "cell_type": "code",
   "execution_count": 104,
   "metadata": {},
   "outputs": [
    {
     "data": {
      "image/png": "[encoded data removed]",
      "text/plain": [
       "<Figure size 432x288 with 1 Axes>"
      ]
     },
     "metadata": {
      "needs_background": "light"
     },
     "output_type": "display_data"
    }
   ],
   "source": [
    "plt.hist(xlv_avg_percent_moves, bins = 500, color = 'red', label = 'XLV Index Fund');\n",
    "plt.hist(sp_avg_percent_moves, bins = 500, color = 'blue', label = 'S&P 500 Index Fund');\n",
    "plt.legend();"
   ]
  },
  {
   "cell_type": "code",
   "execution_count": 105,
   "metadata": {},
   "outputs": [],
   "source": [
    "#Z-test stat for S&P benchmark group\n",
    "import statistics\n",
    "x_hat = sum(xlv_avg_percent_moves)/len(xlv_avg_percent_moves)\n",
    "mu = sum(sp_avg_percent_moves)/len(xlv_avg_percent_moves)\n",
    "sigma = statistics.stdev(sp_avg_percent_moves)\n",
    "n = 5017"
   ]
  },
  {
   "cell_type": "code",
   "execution_count": 106,
   "metadata": {},
   "outputs": [
    {
     "name": "stdout",
     "output_type": "stream",
     "text": [
      "Z-statistic: -0.0022189581894144785\n",
      "P-Value: 0.49911476448624975\n"
     ]
    }
   ],
   "source": [
    "z_stat = (x_hat - mu)/sigma/math.sqrt(n)\n",
    "print(f\"Z-statistic: {z_stat}\")\n",
    "\n",
    "p_val = stats.norm.cdf(z_stat)\n",
    "print(f\"P-Value: {p_val}\")"
   ]
  },
  {
   "cell_type": "code",
   "execution_count": 107,
   "metadata": {},
   "outputs": [
    {
     "name": "stdout",
     "output_type": "stream",
     "text": [
      "T-test stat: -0.002575076037259661\n"
     ]
    }
   ],
   "source": [
    "#take a t test to see if there is a statistical significance in difference of means\n",
    "S = statistics.stdev(xlv_avg_percent_moves)\n",
    "t_stat = (x_hat - mu)/S/math.sqrt(n)\n",
    "print(f\"T-test stat: {t_stat}\")"
   ]
  },
  {
   "cell_type": "markdown",
   "metadata": {},
   "source": [
    "*Due to the Z-stat and T-stat we fail to reject H0*"
   ]
  },
  {
   "cell_type": "code",
   "execution_count": 108,
   "metadata": {},
   "outputs": [],
   "source": [
    "#z_score * SE = real difference in sample and population means\n"
   ]
  },
  {
   "cell_type": "code",
   "execution_count": null,
   "metadata": {},
   "outputs": [],
   "source": []
  }
 ],
 "metadata": {
  "kernelspec": {
   "display_name": "Python 3",
   "language": "python",
   "name": "python3"
  },
  "language_info": {
   "codemirror_mode": {
    "name": "ipython",
    "version": 3
   },
   "file_extension": ".py",
   "mimetype": "text/x-python",
   "name": "python",
   "nbconvert_exporter": "python",
   "pygments_lexer": "ipython3",
   "version": "3.6.9"
  }
 },
 "nbformat": 4,
 "nbformat_minor": 4
}
