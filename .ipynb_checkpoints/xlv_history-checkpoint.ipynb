{
 "cells": [
  {
   "cell_type": "code",
   "execution_count": 2,
   "metadata": {},
   "outputs": [],
   "source": [
    "import json\n",
    "import requests\n",
    "import numpy as np\n",
    "import pandas as pd\n",
    "import matplotlib.pyplot as plt\n",
    "import scipy.stats as stats\n",
    "import math\n",
    "import datetime\n",
    "from statsmodels.stats.power import zt_ind_solve_power"
   ]
  },
  {
   "cell_type": "code",
   "execution_count": 3,
   "metadata": {},
   "outputs": [],
   "source": [
    "alpha_key = 'Y8YQFOIVHPA381U4'\n",
    "function = 'TIME_SERIES_DAILY'\n",
    "symbol = 'XLV'\n"
   ]
  },
  {
   "cell_type": "markdown",
   "metadata": {},
   "source": [
    "## Load XLV API \n",
    "#### Create percent change column"
   ]
  },
  {
   "cell_type": "code",
   "execution_count": 4,
   "metadata": {},
   "outputs": [],
   "source": [
    "url = f\"https://www.alphavantage.co/query?function={function}&symbol={symbol}&outputsize=full&apikey={alpha_key}\""
   ]
  },
  {
   "cell_type": "code",
   "execution_count": 5,
   "metadata": {
    "scrolled": true
   },
   "outputs": [],
   "source": [
    "response = requests.get(url)\n",
    "xlv_file = response.json()"
   ]
  },
  {
   "cell_type": "code",
   "execution_count": 6,
   "metadata": {
    "scrolled": true
   },
   "outputs": [],
   "source": [
    "xlv_values = xlv_file['Time Series (Daily)']"
   ]
  },
  {
   "cell_type": "code",
   "execution_count": 7,
   "metadata": {},
   "outputs": [],
   "source": [
    "for value in xlv_values:\n",
    "    open_prices = []"
   ]
  },
  {
   "cell_type": "code",
   "execution_count": 8,
   "metadata": {
    "scrolled": true
   },
   "outputs": [],
   "source": [
    "df = pd.DataFrame(xlv_values)\n",
    "xlv_df = df.T\n",
    "column_head = ['open', 'high', 'low', 'close', 'volume']\n",
    "xlv_df.columns = column_head\n",
    "xlv_df.reset_index(inplace = True)"
   ]
  },
  {
   "cell_type": "code",
   "execution_count": 9,
   "metadata": {},
   "outputs": [],
   "source": [
    "xlv_df['open'] = xlv_df.open.astype(float)\n",
    "xlv_df['high'] = xlv_df.high.astype(float)\n",
    "xlv_df['low'] = xlv_df.low.astype(float)\n",
    "xlv_df['close'] = xlv_df.close.astype(float)\n",
    "xlv_df['volume'] = xlv_df.volume.astype(float)"
   ]
  },
  {
   "cell_type": "code",
   "execution_count": 10,
   "metadata": {},
   "outputs": [],
   "source": [
    "xlv_df['day_pct_change'] = (xlv_df['close']-xlv_df['open'])/xlv_df['open']*100"
   ]
  },
  {
   "cell_type": "code",
   "execution_count": 11,
   "metadata": {},
   "outputs": [],
   "source": [
    "for entry in xlv_df:\n",
    "    pct_change = (xlv_df['close'] - xlv_df['open'].iloc[-1])/xlv_df['open'].iloc[-1]\n",
    "    xlv_df['overall_pct_change'] = pct_change * 100"
   ]
  },
  {
   "cell_type": "code",
   "execution_count": 12,
   "metadata": {},
   "outputs": [],
   "source": [
    "column_heads = ['date','open','close', 'high','low','volume', 'day_pct_change', 'overall_pct_change']\n",
    "xlv_df.columns = column_heads"
   ]
  },
  {
   "cell_type": "code",
   "execution_count": 13,
   "metadata": {},
   "outputs": [
    {
     "data": {
      "text/html": [
       "<div>\n",
       "<style scoped>\n",
       "    .dataframe tbody tr th:only-of-type {\n",
       "        vertical-align: middle;\n",
       "    }\n",
       "\n",
       "    .dataframe tbody tr th {\n",
       "        vertical-align: top;\n",
       "    }\n",
       "\n",
       "    .dataframe thead th {\n",
       "        text-align: right;\n",
       "    }\n",
       "</style>\n",
       "<table border=\"1\" class=\"dataframe\">\n",
       "  <thead>\n",
       "    <tr style=\"text-align: right;\">\n",
       "      <th></th>\n",
       "      <th>date</th>\n",
       "      <th>open</th>\n",
       "      <th>close</th>\n",
       "      <th>high</th>\n",
       "      <th>low</th>\n",
       "      <th>volume</th>\n",
       "      <th>day_pct_change</th>\n",
       "      <th>overall_pct_change</th>\n",
       "    </tr>\n",
       "  </thead>\n",
       "  <tbody>\n",
       "    <tr>\n",
       "      <td>0</td>\n",
       "      <td>2019-12-11</td>\n",
       "      <td>100.01</td>\n",
       "      <td>100.27</td>\n",
       "      <td>99.880</td>\n",
       "      <td>99.98</td>\n",
       "      <td>2576118.0</td>\n",
       "      <td>-0.029997</td>\n",
       "      <td>235.165940</td>\n",
       "    </tr>\n",
       "    <tr>\n",
       "      <td>1</td>\n",
       "      <td>2019-12-10</td>\n",
       "      <td>99.69</td>\n",
       "      <td>100.02</td>\n",
       "      <td>99.295</td>\n",
       "      <td>99.93</td>\n",
       "      <td>6024565.0</td>\n",
       "      <td>0.240746</td>\n",
       "      <td>234.998324</td>\n",
       "    </tr>\n",
       "    <tr>\n",
       "      <td>2</td>\n",
       "      <td>2019-12-09</td>\n",
       "      <td>100.45</td>\n",
       "      <td>100.47</td>\n",
       "      <td>99.710</td>\n",
       "      <td>99.71</td>\n",
       "      <td>5148857.0</td>\n",
       "      <td>-0.736685</td>\n",
       "      <td>234.260811</td>\n",
       "    </tr>\n",
       "    <tr>\n",
       "      <td>3</td>\n",
       "      <td>2019-12-06</td>\n",
       "      <td>100.27</td>\n",
       "      <td>100.75</td>\n",
       "      <td>100.200</td>\n",
       "      <td>100.41</td>\n",
       "      <td>5658514.0</td>\n",
       "      <td>0.139623</td>\n",
       "      <td>236.607442</td>\n",
       "    </tr>\n",
       "    <tr>\n",
       "      <td>4</td>\n",
       "      <td>2019-12-05</td>\n",
       "      <td>99.81</td>\n",
       "      <td>99.90</td>\n",
       "      <td>98.910</td>\n",
       "      <td>99.75</td>\n",
       "      <td>7390352.0</td>\n",
       "      <td>-0.060114</td>\n",
       "      <td>234.394904</td>\n",
       "    </tr>\n",
       "  </tbody>\n",
       "</table>\n",
       "</div>"
      ],
      "text/plain": [
       "         date    open   close     high     low     volume  day_pct_change  \\\n",
       "0  2019-12-11  100.01  100.27   99.880   99.98  2576118.0       -0.029997   \n",
       "1  2019-12-10   99.69  100.02   99.295   99.93  6024565.0        0.240746   \n",
       "2  2019-12-09  100.45  100.47   99.710   99.71  5148857.0       -0.736685   \n",
       "3  2019-12-06  100.27  100.75  100.200  100.41  5658514.0        0.139623   \n",
       "4  2019-12-05   99.81   99.90   98.910   99.75  7390352.0       -0.060114   \n",
       "\n",
       "   overall_pct_change  \n",
       "0          235.165940  \n",
       "1          234.998324  \n",
       "2          234.260811  \n",
       "3          236.607442  \n",
       "4          234.394904  "
      ]
     },
     "execution_count": 13,
     "metadata": {},
     "output_type": "execute_result"
    }
   ],
   "source": [
    "xlv_df.head()\n"
   ]
  },
  {
   "cell_type": "markdown",
   "metadata": {},
   "source": [
    "## XLV - 1 Year "
   ]
  },
  {
   "cell_type": "code",
   "execution_count": 14,
   "metadata": {},
   "outputs": [],
   "source": [
    "xlv_1_year_changes = []\n",
    "for i in xlv_df['date'][0:365]:\n",
    "    xlv_1_year_changes.append(xlv_df['day_pct_change'])"
   ]
  },
  {
   "cell_type": "markdown",
   "metadata": {},
   "source": [
    "## Load S&P API\n"
   ]
  },
  {
   "cell_type": "code",
   "execution_count": 15,
   "metadata": {},
   "outputs": [],
   "source": [
    "sp_symbol = '.INX'\n",
    "url_sp = f\"https://www.alphavantage.co/query?function={function}&symbol={sp_symbol}&outputsize=full&apikey={alpha_key}\""
   ]
  },
  {
   "cell_type": "code",
   "execution_count": 16,
   "metadata": {},
   "outputs": [],
   "source": [
    "response2 = requests.get(url_sp)\n",
    "sp_file = response2.json()"
   ]
  },
  {
   "cell_type": "code",
   "execution_count": 17,
   "metadata": {},
   "outputs": [],
   "source": [
    "sp_values = sp_file['Time Series (Daily)']\n",
    "sp_df = pd.DataFrame(sp_values)\n",
    "sp_df = sp_df.T\n",
    "sp_df.columns = column_head\n",
    "sp_df['open'] = sp_df.open.astype(float)\n",
    "sp_df['high'] = sp_df.high.astype(float)\n",
    "sp_df['low'] = sp_df.low.astype(float)\n",
    "sp_df['close'] = sp_df.close.astype(float)\n",
    "sp_df['volume'] = sp_df.volume.astype(float)"
   ]
  },
  {
   "cell_type": "code",
   "execution_count": 18,
   "metadata": {},
   "outputs": [],
   "source": [
    "sp_df['day_pct_change'] = (sp_df['close']-sp_df['open'])/sp_df['open']*100"
   ]
  },
  {
   "cell_type": "code",
   "execution_count": 19,
   "metadata": {},
   "outputs": [],
   "source": [
    "for entry in sp_df:\n",
    "    pct_change = (sp_df['close'] - sp_df['open'].iloc[-1])/sp_df['open'].iloc[-1]\n",
    "    sp_df['overall_pct_change'] = pct_change * 100"
   ]
  },
  {
   "cell_type": "code",
   "execution_count": 20,
   "metadata": {},
   "outputs": [
    {
     "data": {
      "text/html": [
       "<div>\n",
       "<style scoped>\n",
       "    .dataframe tbody tr th:only-of-type {\n",
       "        vertical-align: middle;\n",
       "    }\n",
       "\n",
       "    .dataframe tbody tr th {\n",
       "        vertical-align: top;\n",
       "    }\n",
       "\n",
       "    .dataframe thead th {\n",
       "        text-align: right;\n",
       "    }\n",
       "</style>\n",
       "<table border=\"1\" class=\"dataframe\">\n",
       "  <thead>\n",
       "    <tr style=\"text-align: right;\">\n",
       "      <th></th>\n",
       "      <th>open</th>\n",
       "      <th>close</th>\n",
       "      <th>high</th>\n",
       "      <th>low</th>\n",
       "      <th>volume</th>\n",
       "      <th>day_pct_change</th>\n",
       "      <th>overall_pct_change</th>\n",
       "    </tr>\n",
       "  </thead>\n",
       "  <tbody>\n",
       "    <tr>\n",
       "      <td>count</td>\n",
       "      <td>5034.000000</td>\n",
       "      <td>5034.000000</td>\n",
       "      <td>5034.000000</td>\n",
       "      <td>5034.000000</td>\n",
       "      <td>5.034000e+03</td>\n",
       "      <td>5034.000000</td>\n",
       "      <td>5034.000000</td>\n",
       "    </tr>\n",
       "    <tr>\n",
       "      <td>mean</td>\n",
       "      <td>45.306005</td>\n",
       "      <td>45.571740</td>\n",
       "      <td>45.007637</td>\n",
       "      <td>45.305044</td>\n",
       "      <td>5.178555e+06</td>\n",
       "      <td>-0.002985</td>\n",
       "      <td>51.877451</td>\n",
       "    </tr>\n",
       "    <tr>\n",
       "      <td>std</td>\n",
       "      <td>21.750188</td>\n",
       "      <td>21.847649</td>\n",
       "      <td>21.644113</td>\n",
       "      <td>21.755617</td>\n",
       "      <td>5.490113e+06</td>\n",
       "      <td>0.997414</td>\n",
       "      <td>72.932004</td>\n",
       "    </tr>\n",
       "    <tr>\n",
       "      <td>min</td>\n",
       "      <td>21.750000</td>\n",
       "      <td>22.100000</td>\n",
       "      <td>21.000000</td>\n",
       "      <td>21.880000</td>\n",
       "      <td>9.000000e+02</td>\n",
       "      <td>-8.646889</td>\n",
       "      <td>-26.651022</td>\n",
       "    </tr>\n",
       "    <tr>\n",
       "      <td>25%</td>\n",
       "      <td>29.550000</td>\n",
       "      <td>29.730000</td>\n",
       "      <td>29.350000</td>\n",
       "      <td>29.550000</td>\n",
       "      <td>4.510750e+05</td>\n",
       "      <td>-0.484426</td>\n",
       "      <td>-0.938652</td>\n",
       "    </tr>\n",
       "    <tr>\n",
       "      <td>50%</td>\n",
       "      <td>32.905000</td>\n",
       "      <td>33.080000</td>\n",
       "      <td>32.680550</td>\n",
       "      <td>32.915000</td>\n",
       "      <td>4.409894e+06</td>\n",
       "      <td>0.021669</td>\n",
       "      <td>10.341938</td>\n",
       "    </tr>\n",
       "    <tr>\n",
       "      <td>75%</td>\n",
       "      <td>66.825000</td>\n",
       "      <td>67.357500</td>\n",
       "      <td>65.975000</td>\n",
       "      <td>66.855000</td>\n",
       "      <td>7.780256e+06</td>\n",
       "      <td>0.506674</td>\n",
       "      <td>124.120013</td>\n",
       "    </tr>\n",
       "    <tr>\n",
       "      <td>max</td>\n",
       "      <td>100.450000</td>\n",
       "      <td>100.750000</td>\n",
       "      <td>100.200000</td>\n",
       "      <td>100.410000</td>\n",
       "      <td>6.647018e+07</td>\n",
       "      <td>8.372274</td>\n",
       "      <td>236.607442</td>\n",
       "    </tr>\n",
       "  </tbody>\n",
       "</table>\n",
       "</div>"
      ],
      "text/plain": [
       "              open        close         high          low        volume  \\\n",
       "count  5034.000000  5034.000000  5034.000000  5034.000000  5.034000e+03   \n",
       "mean     45.306005    45.571740    45.007637    45.305044  5.178555e+06   \n",
       "std      21.750188    21.847649    21.644113    21.755617  5.490113e+06   \n",
       "min      21.750000    22.100000    21.000000    21.880000  9.000000e+02   \n",
       "25%      29.550000    29.730000    29.350000    29.550000  4.510750e+05   \n",
       "50%      32.905000    33.080000    32.680550    32.915000  4.409894e+06   \n",
       "75%      66.825000    67.357500    65.975000    66.855000  7.780256e+06   \n",
       "max     100.450000   100.750000   100.200000   100.410000  6.647018e+07   \n",
       "\n",
       "       day_pct_change  overall_pct_change  \n",
       "count     5034.000000         5034.000000  \n",
       "mean        -0.002985           51.877451  \n",
       "std          0.997414           72.932004  \n",
       "min         -8.646889          -26.651022  \n",
       "25%         -0.484426           -0.938652  \n",
       "50%          0.021669           10.341938  \n",
       "75%          0.506674          124.120013  \n",
       "max          8.372274          236.607442  "
      ]
     },
     "execution_count": 20,
     "metadata": {},
     "output_type": "execute_result"
    }
   ],
   "source": [
    "xlv_df.describe()"
   ]
  },
  {
   "cell_type": "code",
   "execution_count": 21,
   "metadata": {},
   "outputs": [
    {
     "data": {
      "text/html": [
       "<div>\n",
       "<style scoped>\n",
       "    .dataframe tbody tr th:only-of-type {\n",
       "        vertical-align: middle;\n",
       "    }\n",
       "\n",
       "    .dataframe tbody tr th {\n",
       "        vertical-align: top;\n",
       "    }\n",
       "\n",
       "    .dataframe thead th {\n",
       "        text-align: right;\n",
       "    }\n",
       "</style>\n",
       "<table border=\"1\" class=\"dataframe\">\n",
       "  <thead>\n",
       "    <tr style=\"text-align: right;\">\n",
       "      <th></th>\n",
       "      <th>open</th>\n",
       "      <th>high</th>\n",
       "      <th>low</th>\n",
       "      <th>close</th>\n",
       "      <th>volume</th>\n",
       "      <th>day_pct_change</th>\n",
       "      <th>overall_pct_change</th>\n",
       "    </tr>\n",
       "  </thead>\n",
       "  <tbody>\n",
       "    <tr>\n",
       "      <td>count</td>\n",
       "      <td>5018.000000</td>\n",
       "      <td>5018.000000</td>\n",
       "      <td>5018.000000</td>\n",
       "      <td>5018.000000</td>\n",
       "      <td>5.018000e+03</td>\n",
       "      <td>5018.000000</td>\n",
       "      <td>5018.000000</td>\n",
       "    </tr>\n",
       "    <tr>\n",
       "      <td>mean</td>\n",
       "      <td>1570.597865</td>\n",
       "      <td>1579.478507</td>\n",
       "      <td>1560.967862</td>\n",
       "      <td>1570.774593</td>\n",
       "      <td>3.090290e+09</td>\n",
       "      <td>0.016923</td>\n",
       "      <td>6.909960</td>\n",
       "    </tr>\n",
       "    <tr>\n",
       "      <td>std</td>\n",
       "      <td>580.669073</td>\n",
       "      <td>581.404970</td>\n",
       "      <td>579.761205</td>\n",
       "      <td>580.750525</td>\n",
       "      <td>1.474858e+09</td>\n",
       "      <td>1.138757</td>\n",
       "      <td>39.527005</td>\n",
       "    </tr>\n",
       "    <tr>\n",
       "      <td>min</td>\n",
       "      <td>679.280000</td>\n",
       "      <td>695.270000</td>\n",
       "      <td>666.790000</td>\n",
       "      <td>676.530000</td>\n",
       "      <td>3.560700e+08</td>\n",
       "      <td>-8.723105</td>\n",
       "      <td>-53.954058</td>\n",
       "    </tr>\n",
       "    <tr>\n",
       "      <td>25%</td>\n",
       "      <td>1151.155050</td>\n",
       "      <td>1159.525000</td>\n",
       "      <td>1141.940000</td>\n",
       "      <td>1151.037525</td>\n",
       "      <td>1.667910e+09</td>\n",
       "      <td>-0.447677</td>\n",
       "      <td>-21.658157</td>\n",
       "    </tr>\n",
       "    <tr>\n",
       "      <td>50%</td>\n",
       "      <td>1360.020000</td>\n",
       "      <td>1368.275000</td>\n",
       "      <td>1348.660000</td>\n",
       "      <td>1360.150000</td>\n",
       "      <td>3.218100e+09</td>\n",
       "      <td>0.051683</td>\n",
       "      <td>-7.425557</td>\n",
       "    </tr>\n",
       "    <tr>\n",
       "      <td>75%</td>\n",
       "      <td>1979.960000</td>\n",
       "      <td>1988.222450</td>\n",
       "      <td>1971.715000</td>\n",
       "      <td>1981.592475</td>\n",
       "      <td>3.917825e+09</td>\n",
       "      <td>0.520102</td>\n",
       "      <td>34.871021</td>\n",
       "    </tr>\n",
       "    <tr>\n",
       "      <td>max</td>\n",
       "      <td>3147.179900</td>\n",
       "      <td>3154.260000</td>\n",
       "      <td>3143.409900</td>\n",
       "      <td>3153.629900</td>\n",
       "      <td>1.145623e+10</td>\n",
       "      <td>10.789002</td>\n",
       "      <td>114.642158</td>\n",
       "    </tr>\n",
       "  </tbody>\n",
       "</table>\n",
       "</div>"
      ],
      "text/plain": [
       "              open         high          low        close        volume  \\\n",
       "count  5018.000000  5018.000000  5018.000000  5018.000000  5.018000e+03   \n",
       "mean   1570.597865  1579.478507  1560.967862  1570.774593  3.090290e+09   \n",
       "std     580.669073   581.404970   579.761205   580.750525  1.474858e+09   \n",
       "min     679.280000   695.270000   666.790000   676.530000  3.560700e+08   \n",
       "25%    1151.155050  1159.525000  1141.940000  1151.037525  1.667910e+09   \n",
       "50%    1360.020000  1368.275000  1348.660000  1360.150000  3.218100e+09   \n",
       "75%    1979.960000  1988.222450  1971.715000  1981.592475  3.917825e+09   \n",
       "max    3147.179900  3154.260000  3143.409900  3153.629900  1.145623e+10   \n",
       "\n",
       "       day_pct_change  overall_pct_change  \n",
       "count     5018.000000         5018.000000  \n",
       "mean         0.016923            6.909960  \n",
       "std          1.138757           39.527005  \n",
       "min         -8.723105          -53.954058  \n",
       "25%         -0.447677          -21.658157  \n",
       "50%          0.051683           -7.425557  \n",
       "75%          0.520102           34.871021  \n",
       "max         10.789002          114.642158  "
      ]
     },
     "execution_count": 21,
     "metadata": {},
     "output_type": "execute_result"
    }
   ],
   "source": [
    "sp_df.describe()"
   ]
  },
  {
   "cell_type": "markdown",
   "metadata": {},
   "source": [
    "### S&P 1 - year"
   ]
  },
  {
   "cell_type": "code",
   "execution_count": 22,
   "metadata": {},
   "outputs": [],
   "source": [
    "xlv_1_year_changes = []\n",
    "for i in xlv_df['date'][0:365]:\n",
    "    xlv_1_year_changes.append(xlv_df['day_pct_change'])"
   ]
  },
  {
   "cell_type": "code",
   "execution_count": 23,
   "metadata": {},
   "outputs": [],
   "source": [
    "xlv_avg_percent_moves = sum(xlv_1_year_changes)/len(xlv_1_year_changes)\n",
    "xlv_1_year_samples = []\n",
    "for i in range(100):\n",
    "    xlv_1_year_sample = np.random.choice(xlv_avg_percent_moves, size = 50)\n",
    "    xlv_1_year_samples.append(xlv_1_year_sample)\n",
    "\n"
   ]
  },
  {
   "cell_type": "code",
   "execution_count": 24,
   "metadata": {},
   "outputs": [
    {
     "data": {
      "image/png": "[encoded data removed]",
      "text/plain": [
       "<Figure size 432x288 with 1 Axes>"
      ]
     },
     "metadata": {
      "needs_background": "light"
     },
     "output_type": "display_data"
    }
   ],
   "source": [
    "plt.hist(xlv_1_year_samples, bins = 100, label = 'XLV 1 Year');\n",
    "plt.legend();"
   ]
  },
  {
   "cell_type": "code",
   "execution_count": 48,
   "metadata": {},
   "outputs": [
    {
     "data": {
      "text/plain": [
       "-0.005165456617198258"
      ]
     },
     "execution_count": 48,
     "metadata": {},
     "output_type": "execute_result"
    }
   ],
   "source": [
    "x_hat = sum(xlv_1_year_samples)/len(xlv_1_year_samples)\n",
    "mu = sum(sp_avg_percent_moves)/len(sp_avg_percent_moves)\n",
    "sigma = statistics.stdev(sp_avg_percent_moves)\n",
    "n = 365\n",
    "\n",
    "z_stat_xlv_1_yr = (x_hat - mu)/sigma/math.sqrt(n)\n",
    "z_stat_xlv_1_yr.mean()"
   ]
  },
  {
   "cell_type": "markdown",
   "metadata": {},
   "source": [
    "## Hypothesis 1 Testing: Average Returns"
   ]
  },
  {
   "cell_type": "markdown",
   "metadata": {},
   "source": [
    "#### H0: The daily avg percent change in the XLV index fund is <= to that of the overall S&P 500 \n",
    "#### HA: The daily avg percent change in the XLV index fund is greater than the S&P 500 "
   ]
  },
  {
   "cell_type": "code",
   "execution_count": 27,
   "metadata": {},
   "outputs": [],
   "source": [
    "xlv_avg_percent_moves = []\n",
    "sp_avg_percent_moves = []\n",
    "\n",
    "for i in range(5000):\n",
    "    \n",
    "    sample_xlv = xlv_df.sample(n = 50, random_state = i)\n",
    "    xlv_avg_percent_moves.append(sample_xlv.day_pct_change.mean())\n",
    "    \n",
    "    sample_sp = sp_df.sample(n = 50, random_state = i)\n",
    "    sp_avg_percent_moves.append(sample_sp.day_pct_change.mean())\n"
   ]
  },
  {
   "cell_type": "code",
   "execution_count": 81,
   "metadata": {},
   "outputs": [
    {
     "data": {
      "image/png": "[encoded data removed]",
      "text/plain": [
       "<Figure size 432x288 with 1 Axes>"
      ]
     },
     "metadata": {},
     "output_type": "display_data"
    }
   ],
   "source": [
    "plt.style.use('ggplot')\n",
    "plt.hist(xlv_avg_percent_moves, bins = 500, color = 'red', label = 'XLV Index Fund');\n",
    "plt.hist(sp_avg_percent_moves, bins = 500, color = 'blue', label = 'S&P 500 Index Fund');\n",
    "plt.xlabel('Average Daily Percent Change')\n",
    "plt.title('Daily Rate Change Histogram of XLV and INX Indices')\n",
    "plt.legend();"
   ]
  },
  {
   "cell_type": "code",
   "execution_count": 29,
   "metadata": {},
   "outputs": [],
   "source": [
    "#Z-test stat for S&P benchmark group\n",
    "import statistics\n",
    "x_hat = sum(xlv_avg_percent_moves)/len(xlv_avg_percent_moves)\n",
    "mu = sum(sp_avg_percent_moves)/len(xlv_avg_percent_moves)\n",
    "sigma = statistics.stdev(sp_avg_percent_moves)\n",
    "n = 5017"
   ]
  },
  {
   "cell_type": "code",
   "execution_count": 30,
   "metadata": {},
   "outputs": [],
   "source": [
    "z_stat = (x_hat - mu)/sigma/math.sqrt(n)\n",
    "p_val = stats.norm.cdf(z_stat)"
   ]
  },
  {
   "cell_type": "code",
   "execution_count": 31,
   "metadata": {},
   "outputs": [],
   "source": [
    "#take a t test to see if there is a statistical significance in difference of means\n",
    "S = statistics.stdev(xlv_avg_percent_moves)\n",
    "t_stat = (x_hat - mu)/S/math.sqrt(n)"
   ]
  },
  {
   "cell_type": "markdown",
   "metadata": {},
   "source": [
    "*Due to the Z-stat and T-stat we fail to reject H0*"
   ]
  },
  {
   "cell_type": "code",
   "execution_count": 32,
   "metadata": {},
   "outputs": [
    {
     "name": "stdout",
     "output_type": "stream",
     "text": [
      "XLV-S&P Cohen's D: -0.018601045543556925\n"
     ]
    }
   ],
   "source": [
    "#Calculating Cohen's D (d = u1 - u2/std_pooled)\n",
    "def cohen_d(xlv, sp500):\n",
    "\n",
    "    diff_mean = xlv.mean() - sp500.mean()\n",
    "\n",
    "    n_xlv = len(xlv)\n",
    "    n_sp500 = len(sp500)\n",
    "    var_xlv = xlv.var()\n",
    "    var_sp500 = sp500.var()\n",
    "\n",
    "    pooled_var = (n_xlv * var_xlv + n_sp500 * var_sp500) / (n_xlv + n_sp500)\n",
    "\n",
    "    cod = diff_mean / np.sqrt(pooled_var)\n",
    "\n",
    "    return cod\n",
    "\n",
    "xlv_sp_cohen_d = cohen_d(xlv_df['day_pct_change'], sp_df['day_pct_change'])\n",
    "print(f\"XLV-S&P Cohen's D: {xlv_sp_cohen_d}\")"
   ]
  },
  {
   "cell_type": "code",
   "execution_count": 33,
   "metadata": {},
   "outputs": [
    {
     "name": "stdout",
     "output_type": "stream",
     "text": [
      "XLV-SP Power: 0.15417480382834856\n"
     ]
    },
    {
     "data": {
      "text/plain": [
       "0.8458251961716514"
      ]
     },
     "execution_count": 33,
     "metadata": {},
     "output_type": "execute_result"
    }
   ],
   "source": [
    "n_xlv = len(xlv_df['day_pct_change'])\n",
    "n_sp = len(sp_df['day_pct_change'])\n",
    "ration = n_xlv/n_sp\n",
    "xlv_sp_power = zt_ind_solve_power(effect_size = xlv_sp_cohen_d, nobs1=n_xlv, power = None, alpha = .05)\n",
    "print(f\"XLV-SP Power: {xlv_sp_power}\")\n",
    "alpha = 1 - xlv_sp_power\n",
    "alpha"
   ]
  },
  {
   "cell_type": "code",
   "execution_count": 34,
   "metadata": {},
   "outputs": [
    {
     "name": "stdout",
     "output_type": "stream",
     "text": [
      "XLV P-Value: 0.4992784938601761\n",
      "XLV Z-Stat: -0.0018085486763166829\n",
      "XLV T-stat: -0.002116857764594145\n",
      "XLV Standard_error: 0.0022775803959920976\n",
      "XLV Real Difference: -4.119115010376334e-06\n"
     ]
    }
   ],
   "source": [
    "#z_score * SE = real difference in sample and population means\n",
    "std_error = sigma/math.sqrt(n)\n",
    "real_diff_xlv = std_error * z_stat\n",
    "print(f\"XLV P-Value: {p_val}\")\n",
    "print(f\"XLV Z-Stat: {z_stat}\")\n",
    "print(f\"XLV T-stat: {t_stat}\")\n",
    "print(f\"XLV Standard_error: {std_error}\")\n",
    "print(f\"XLV Real Difference: {real_diff_xlv}\")"
   ]
  },
  {
   "cell_type": "code",
   "execution_count": null,
   "metadata": {},
   "outputs": [],
   "source": []
  },
  {
   "cell_type": "markdown",
   "metadata": {},
   "source": [
    "## Johnson & Johnson Performance"
   ]
  },
  {
   "cell_type": "code",
   "execution_count": 35,
   "metadata": {},
   "outputs": [],
   "source": [
    "symbol = 'JNJ'\n",
    "function = 'TIME_SERIES_DAILY'\n",
    "alpha_key = 'Y8YQFOIVHPA381U4'\n",
    "jj_url = f\"https://www.alphavantage.co/query?function={function}&symbol={symbol}&outputsize=full&apikey={alpha_key}\""
   ]
  },
  {
   "cell_type": "code",
   "execution_count": 36,
   "metadata": {},
   "outputs": [],
   "source": [
    "response3 = requests.get(jj_url)\n",
    "jj_file = response3.json()"
   ]
  },
  {
   "cell_type": "code",
   "execution_count": 53,
   "metadata": {},
   "outputs": [],
   "source": [
    "jj_values = jj_file['Time Series (Daily)']\n",
    "df = pd.DataFrame(jj_values)\n",
    "jj_df = df.T\n",
    "column_head = ['open', 'high', 'low', 'close', 'volume']\n",
    "jj_df.columns = column_head\n",
    "jj_df.reset_index(inplace = True)\n",
    "jj_df['open'] = jj_df.open.astype(float)\n",
    "jj_df['high'] = jj_df.high.astype(float)\n",
    "jj_df['low'] = jj_df.low.astype(float)\n",
    "jj_df['close'] = jj_df.close.astype(float)\n",
    "jj_df['volume'] = jj_df.volume.astype(float)\n",
    "jj_df['day_pct_change'] = (jj_df['close']-jj_df['open'])/jj_df['open']*100\n",
    "for entry in jj_df:\n",
    "    pct_change = (jj_df['close'] - jj_df['open'].iloc[-1])/jj_df['open'].iloc[-1]\n",
    "    sp_df['overall_pct_change'] = pct_change * 100\n",
    "    \n"
   ]
  },
  {
   "cell_type": "code",
   "execution_count": 54,
   "metadata": {},
   "outputs": [
    {
     "data": {
      "text/html": [
       "<div>\n",
       "<style scoped>\n",
       "    .dataframe tbody tr th:only-of-type {\n",
       "        vertical-align: middle;\n",
       "    }\n",
       "\n",
       "    .dataframe tbody tr th {\n",
       "        vertical-align: top;\n",
       "    }\n",
       "\n",
       "    .dataframe thead th {\n",
       "        text-align: right;\n",
       "    }\n",
       "</style>\n",
       "<table border=\"1\" class=\"dataframe\">\n",
       "  <thead>\n",
       "    <tr style=\"text-align: right;\">\n",
       "      <th></th>\n",
       "      <th>open</th>\n",
       "      <th>high</th>\n",
       "      <th>low</th>\n",
       "      <th>close</th>\n",
       "      <th>volume</th>\n",
       "      <th>day_pct_change</th>\n",
       "    </tr>\n",
       "  </thead>\n",
       "  <tbody>\n",
       "    <tr>\n",
       "      <td>count</td>\n",
       "      <td>5034.000000</td>\n",
       "      <td>5034.000000</td>\n",
       "      <td>5034.000000</td>\n",
       "      <td>5034.000000</td>\n",
       "      <td>5.034000e+03</td>\n",
       "      <td>5034.000000</td>\n",
       "    </tr>\n",
       "    <tr>\n",
       "      <td>mean</td>\n",
       "      <td>81.494031</td>\n",
       "      <td>82.081075</td>\n",
       "      <td>80.888453</td>\n",
       "      <td>81.505991</td>\n",
       "      <td>8.913282e+06</td>\n",
       "      <td>0.021215</td>\n",
       "    </tr>\n",
       "    <tr>\n",
       "      <td>std</td>\n",
       "      <td>27.516420</td>\n",
       "      <td>27.664672</td>\n",
       "      <td>27.353799</td>\n",
       "      <td>27.515241</td>\n",
       "      <td>4.899386e+06</td>\n",
       "      <td>1.021323</td>\n",
       "    </tr>\n",
       "    <tr>\n",
       "      <td>min</td>\n",
       "      <td>41.500000</td>\n",
       "      <td>43.600000</td>\n",
       "      <td>41.020000</td>\n",
       "      <td>41.850000</td>\n",
       "      <td>1.348570e+05</td>\n",
       "      <td>-8.077905</td>\n",
       "    </tr>\n",
       "    <tr>\n",
       "      <td>25%</td>\n",
       "      <td>60.625000</td>\n",
       "      <td>61.000000</td>\n",
       "      <td>60.202500</td>\n",
       "      <td>60.590000</td>\n",
       "      <td>5.883127e+06</td>\n",
       "      <td>-0.466679</td>\n",
       "    </tr>\n",
       "    <tr>\n",
       "      <td>50%</td>\n",
       "      <td>66.500000</td>\n",
       "      <td>66.940000</td>\n",
       "      <td>66.150000</td>\n",
       "      <td>66.515000</td>\n",
       "      <td>7.926250e+06</td>\n",
       "      <td>0.016789</td>\n",
       "    </tr>\n",
       "    <tr>\n",
       "      <td>75%</td>\n",
       "      <td>100.555000</td>\n",
       "      <td>101.057500</td>\n",
       "      <td>99.960000</td>\n",
       "      <td>100.520000</td>\n",
       "      <td>1.066302e+07</td>\n",
       "      <td>0.531029</td>\n",
       "    </tr>\n",
       "    <tr>\n",
       "      <td>max</td>\n",
       "      <td>147.840000</td>\n",
       "      <td>148.990000</td>\n",
       "      <td>147.000000</td>\n",
       "      <td>148.140000</td>\n",
       "      <td>9.844020e+07</td>\n",
       "      <td>8.016304</td>\n",
       "    </tr>\n",
       "  </tbody>\n",
       "</table>\n",
       "</div>"
      ],
      "text/plain": [
       "              open         high          low        close        volume  \\\n",
       "count  5034.000000  5034.000000  5034.000000  5034.000000  5.034000e+03   \n",
       "mean     81.494031    82.081075    80.888453    81.505991  8.913282e+06   \n",
       "std      27.516420    27.664672    27.353799    27.515241  4.899386e+06   \n",
       "min      41.500000    43.600000    41.020000    41.850000  1.348570e+05   \n",
       "25%      60.625000    61.000000    60.202500    60.590000  5.883127e+06   \n",
       "50%      66.500000    66.940000    66.150000    66.515000  7.926250e+06   \n",
       "75%     100.555000   101.057500    99.960000   100.520000  1.066302e+07   \n",
       "max     147.840000   148.990000   147.000000   148.140000  9.844020e+07   \n",
       "\n",
       "       day_pct_change  \n",
       "count     5034.000000  \n",
       "mean         0.021215  \n",
       "std          1.021323  \n",
       "min         -8.077905  \n",
       "25%         -0.466679  \n",
       "50%          0.016789  \n",
       "75%          0.531029  \n",
       "max          8.016304  "
      ]
     },
     "execution_count": 54,
     "metadata": {},
     "output_type": "execute_result"
    }
   ],
   "source": [
    "jj_df.describe()"
   ]
  },
  {
   "cell_type": "code",
   "execution_count": 80,
   "metadata": {},
   "outputs": [
    {
     "data": {
      "image/png": "[encoded data removed]",
      "text/plain": [
       "<Figure size 432x288 with 1 Axes>"
      ]
     },
     "metadata": {},
     "output_type": "display_data"
    }
   ],
   "source": [
    "jj_avg_pct_moves = []\n",
    "\n",
    "for i in range(5000):\n",
    "    sample_jj = jj_df.sample(n=50, random_state = i)\n",
    "    jj_avg_pct_moves.append(sample_jj.day_pct_change.mean())\n",
    "    \n",
    "plt.style.use('ggplot')\n",
    "plt.hist(jj_avg_pct_moves, bins = 500, color = 'green', label = 'Johnston & Johnston');\n",
    "plt.hist(sp_avg_percent_moves, bins = 500, color = 'blue', label = 'S&P 500');\n",
    "plt.xlabel('Average Daily Percent Change')\n",
    "plt.title('Daily Rate Change of Johnston & Johnston Equity Histogram')\n",
    "# plt.hist(xlv_avg_percent_moves, bins = 500, color = 'pink', label = 'XLV');\n",
    "plt.legend();  "
   ]
  },
  {
   "cell_type": "code",
   "execution_count": 56,
   "metadata": {},
   "outputs": [
    {
     "name": "stdout",
     "output_type": "stream",
     "text": [
      "JNJ Z-Stat: 0.00033734165824424536\n",
      "JNJ P-Value: 0.5001345798478618\n",
      "JNJ T-Stat: 0.00039484937172371324\n",
      "JNJ Standard Error: 0.002273731408030497\n",
      "JNJ Real Difference: 7.670243235870307e-07\n"
     ]
    }
   ],
   "source": [
    "x_hat = sum(jj_avg_pct_moves)/len(sp_avg_percent_moves)\n",
    "mu = sum(sp_avg_percent_moves)/len(sp_avg_percent_moves)\n",
    "sigma = statistics.stdev(sp_avg_percent_moves)\n",
    "n = 5034\n",
    "\n",
    "z_stat_jj = (x_hat - mu)/sigma/math.sqrt(n)\n",
    "p_val_jj = stats.norm.cdf(z_stat_jj)\n",
    "S_jj = statistics.stdev(jj_avg_pct_moves)\n",
    "t_stat_jj = (x_hat - mu)/S/math.sqrt(n)\n",
    "std_error_jj = sigma/math.sqrt(n)\n",
    "real_difference_jj = std_error_jj * z_stat_jj\n",
    "print(f\"JNJ Z-Stat: {z_stat_jj}\")\n",
    "print(f\"JNJ P-Value: {p_val_jj}\")\n",
    "print(f\"JNJ T-Stat: {t_stat_jj}\")\n",
    "print(f\"JNJ Standard Error: {std_error_jj}\")\n",
    "print(f\"JNJ Real Difference: {real_difference_jj}\")"
   ]
  },
  {
   "cell_type": "markdown",
   "metadata": {},
   "source": [
    "## DVA \n"
   ]
  },
  {
   "cell_type": "code",
   "execution_count": 50,
   "metadata": {},
   "outputs": [],
   "source": [
    "symbol = 'DVA'\n",
    "function = 'TIME_SERIES_DAILY'\n",
    "alpha_key = 'Y8YQFOIVHPA381U4'\n",
    "dva_url = f\"https://www.alphavantage.co/query?function={function}&symbol={symbol}&outputsize=full&apikey={alpha_key}\""
   ]
  },
  {
   "cell_type": "code",
   "execution_count": 51,
   "metadata": {},
   "outputs": [],
   "source": [
    "response3 = requests.get(dva_url)\n",
    "dva_file = response3.json()"
   ]
  },
  {
   "cell_type": "code",
   "execution_count": 52,
   "metadata": {},
   "outputs": [],
   "source": [
    "dva_values = dva_file['Time Series (Daily)']\n",
    "df = pd.DataFrame(dva_values)\n",
    "dva_df = df.T\n",
    "column_head = ['open', 'high', 'low', 'close', 'volume']\n",
    "dva_df.columns = column_head\n",
    "dva_df.reset_index(inplace = True)\n",
    "dva_df['open'] = dva_df.open.astype(float)\n",
    "dva_df['high'] = dva_df.high.astype(float)\n",
    "dva_df['low'] = dva_df.low.astype(float)\n",
    "dva_df['close'] = dva_df.close.astype(float)\n",
    "dva_df['volume'] = dva_df.volume.astype(float)\n",
    "dva_df['day_pct_change'] = (dva_df['close']-dva_df['open'])/dva_df['open']*100\n",
    "for entry in dva_df:\n",
    "    pct_change = (dva_df['close'] - dva_df['open'].iloc[-1])/dva_df['open'].iloc[-1]\n",
    "    dva_df['overall_pct_change'] = pct_change * 100\n",
    "    "
   ]
  },
  {
   "cell_type": "code",
   "execution_count": 58,
   "metadata": {},
   "outputs": [
    {
     "data": {
      "text/html": [
       "<div>\n",
       "<style scoped>\n",
       "    .dataframe tbody tr th:only-of-type {\n",
       "        vertical-align: middle;\n",
       "    }\n",
       "\n",
       "    .dataframe tbody tr th {\n",
       "        vertical-align: top;\n",
       "    }\n",
       "\n",
       "    .dataframe thead th {\n",
       "        text-align: right;\n",
       "    }\n",
       "</style>\n",
       "<table border=\"1\" class=\"dataframe\">\n",
       "  <thead>\n",
       "    <tr style=\"text-align: right;\">\n",
       "      <th></th>\n",
       "      <th>open</th>\n",
       "      <th>high</th>\n",
       "      <th>low</th>\n",
       "      <th>close</th>\n",
       "      <th>volume</th>\n",
       "      <th>day_pct_change</th>\n",
       "      <th>overall_pct_change</th>\n",
       "    </tr>\n",
       "  </thead>\n",
       "  <tbody>\n",
       "    <tr>\n",
       "      <td>count</td>\n",
       "      <td>5034.000000</td>\n",
       "      <td>5034.000000</td>\n",
       "      <td>5034.000000</td>\n",
       "      <td>5034.000000</td>\n",
       "      <td>5.034000e+03</td>\n",
       "      <td>5034.000000</td>\n",
       "      <td>5034.000000</td>\n",
       "    </tr>\n",
       "    <tr>\n",
       "      <td>mean</td>\n",
       "      <td>55.786538</td>\n",
       "      <td>56.343505</td>\n",
       "      <td>55.228336</td>\n",
       "      <td>55.804725</td>\n",
       "      <td>9.948897e+05</td>\n",
       "      <td>0.073067</td>\n",
       "      <td>726.736668</td>\n",
       "    </tr>\n",
       "    <tr>\n",
       "      <td>std</td>\n",
       "      <td>25.133181</td>\n",
       "      <td>25.291248</td>\n",
       "      <td>24.974287</td>\n",
       "      <td>25.129737</td>\n",
       "      <td>8.702565e+05</td>\n",
       "      <td>1.989863</td>\n",
       "      <td>372.292396</td>\n",
       "    </tr>\n",
       "    <tr>\n",
       "      <td>min</td>\n",
       "      <td>2.500000</td>\n",
       "      <td>2.620000</td>\n",
       "      <td>2.060000</td>\n",
       "      <td>2.560000</td>\n",
       "      <td>2.726700e+04</td>\n",
       "      <td>-26.283988</td>\n",
       "      <td>-62.074074</td>\n",
       "    </tr>\n",
       "    <tr>\n",
       "      <td>25%</td>\n",
       "      <td>42.250000</td>\n",
       "      <td>42.675000</td>\n",
       "      <td>41.817500</td>\n",
       "      <td>42.255000</td>\n",
       "      <td>4.844000e+05</td>\n",
       "      <td>-0.715849</td>\n",
       "      <td>526.000000</td>\n",
       "    </tr>\n",
       "    <tr>\n",
       "      <td>50%</td>\n",
       "      <td>57.035000</td>\n",
       "      <td>57.704500</td>\n",
       "      <td>56.510000</td>\n",
       "      <td>57.020000</td>\n",
       "      <td>7.768490e+05</td>\n",
       "      <td>0.021406</td>\n",
       "      <td>744.740741</td>\n",
       "    </tr>\n",
       "    <tr>\n",
       "      <td>75%</td>\n",
       "      <td>71.147500</td>\n",
       "      <td>71.850000</td>\n",
       "      <td>70.497500</td>\n",
       "      <td>71.260000</td>\n",
       "      <td>1.217925e+06</td>\n",
       "      <td>0.801809</td>\n",
       "      <td>955.703704</td>\n",
       "    </tr>\n",
       "    <tr>\n",
       "      <td>max</td>\n",
       "      <td>130.690000</td>\n",
       "      <td>131.330000</td>\n",
       "      <td>129.950000</td>\n",
       "      <td>131.190000</td>\n",
       "      <td>1.739930e+07</td>\n",
       "      <td>26.857143</td>\n",
       "      <td>1843.555556</td>\n",
       "    </tr>\n",
       "  </tbody>\n",
       "</table>\n",
       "</div>"
      ],
      "text/plain": [
       "              open         high          low        close        volume  \\\n",
       "count  5034.000000  5034.000000  5034.000000  5034.000000  5.034000e+03   \n",
       "mean     55.786538    56.343505    55.228336    55.804725  9.948897e+05   \n",
       "std      25.133181    25.291248    24.974287    25.129737  8.702565e+05   \n",
       "min       2.500000     2.620000     2.060000     2.560000  2.726700e+04   \n",
       "25%      42.250000    42.675000    41.817500    42.255000  4.844000e+05   \n",
       "50%      57.035000    57.704500    56.510000    57.020000  7.768490e+05   \n",
       "75%      71.147500    71.850000    70.497500    71.260000  1.217925e+06   \n",
       "max     130.690000   131.330000   129.950000   131.190000  1.739930e+07   \n",
       "\n",
       "       day_pct_change  overall_pct_change  \n",
       "count     5034.000000         5034.000000  \n",
       "mean         0.073067          726.736668  \n",
       "std          1.989863          372.292396  \n",
       "min        -26.283988          -62.074074  \n",
       "25%         -0.715849          526.000000  \n",
       "50%          0.021406          744.740741  \n",
       "75%          0.801809          955.703704  \n",
       "max         26.857143         1843.555556  "
      ]
     },
     "execution_count": 58,
     "metadata": {},
     "output_type": "execute_result"
    }
   ],
   "source": [
    "dva_df.describe()"
   ]
  },
  {
   "cell_type": "code",
   "execution_count": 82,
   "metadata": {},
   "outputs": [
    {
     "data": {
      "image/png": "[encoded data removed]",
      "text/plain": [
       "<Figure size 432x288 with 1 Axes>"
      ]
     },
     "metadata": {},
     "output_type": "display_data"
    }
   ],
   "source": [
    "dva_avg_pct_moves = []\n",
    "\n",
    "for i in range(5000):\n",
    "    sample_dva = dva_df.sample(n=50, random_state = i)\n",
    "    dva_avg_pct_moves.append(sample_dva.day_pct_change.mean())\n",
    "\n",
    "plt.style.use('ggplot')    \n",
    "plt.hist(dva_avg_pct_moves, bins = 500, color = 'green', label = 'DVA');\n",
    "plt.hist(sp_avg_percent_moves, bins = 500, color = 'blue', label = 'S&P 500');\n",
    "# plt.hist(xlv_avg_percent_moves, bins = 500, color = 'pink', label = 'XLV');\n",
    "plt.legend();  "
   ]
  },
  {
   "cell_type": "code",
   "execution_count": 68,
   "metadata": {},
   "outputs": [
    {
     "name": "stdout",
     "output_type": "stream",
     "text": [
      "DVA Z-Stat: 0.0045293649162431015\n",
      "DVA P-Value: 0.5018069489901502\n",
      "DVA T-Stat: 0.005301500267693446\n",
      "DVA Standard Error: 0.002273731408030497\n",
      "DVA Real Difference: 1.0298559268493362e-05\n"
     ]
    }
   ],
   "source": [
    "x_hat = sum(dva_avg_pct_moves)/len(dva_avg_pct_moves)\n",
    "mu = sum(sp_avg_percent_moves)/len(sp_avg_percent_moves)\n",
    "sigma = statistics.stdev(sp_avg_percent_moves)\n",
    "n = 5034\n",
    "\n",
    "z_stat_dva = (x_hat - mu)/sigma/math.sqrt(n)\n",
    "p_val_dva = stats.norm.cdf(z_stat_dva)\n",
    "S_dva = statistics.stdev(dva_avg_pct_moves)\n",
    "t_stat_dva = (x_hat - mu)/S/math.sqrt(n)\n",
    "std_error_dva = sigma/math.sqrt(n)\n",
    "real_difference_dva = std_error_dva * z_stat_dva\n",
    "print(f\"DVA Z-Stat: {z_stat_dva}\")\n",
    "print(f\"DVA P-Value: {p_val_dva}\")\n",
    "print(f\"DVA T-Stat: {t_stat_dva}\")\n",
    "print(f\"DVA Standard Error: {std_error_dva}\")\n",
    "print(f\"DVA Real Difference: {real_difference_dva}\")"
   ]
  },
  {
   "cell_type": "code",
   "execution_count": null,
   "metadata": {},
   "outputs": [],
   "source": []
  }
 ],
 "metadata": {
  "kernelspec": {
   "display_name": "Python 3",
   "language": "python",
   "name": "python3"
  },
  "language_info": {
   "codemirror_mode": {
    "name": "ipython",
    "version": 3
   },
   "file_extension": ".py",
   "mimetype": "text/x-python",
   "name": "python",
   "nbconvert_exporter": "python",
   "pygments_lexer": "ipython3",
   "version": "3.6.9"
  }
 },
 "nbformat": 4,
 "nbformat_minor": 4
}
