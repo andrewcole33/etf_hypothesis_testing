{
 "cells": [
  {
   "cell_type": "code",
   "execution_count": 1,
   "metadata": {},
   "outputs": [],
   "source": [
    "import json\n",
    "import requests\n",
    "import numpy as np\n",
    "import pandas as pd\n",
    "import matplotlib.pyplot as plt\n",
    "import scipy.stats as stats\n",
    "import math\n",
    "import datetime\n",
    "from statsmodels.stats.power import zt_ind_solve_power"
   ]
  },
  {
   "cell_type": "code",
   "execution_count": 2,
   "metadata": {},
   "outputs": [],
   "source": [
    "alpha_key = 'Y8YQFOIVHPA381U4'\n",
    "function = 'TIME_SERIES_DAILY'\n",
    "symbol = 'XLV'\n"
   ]
  },
  {
   "cell_type": "markdown",
   "metadata": {},
   "source": [
    "## Load XLV API \n",
    "#### Create percent change column"
   ]
  },
  {
   "cell_type": "code",
   "execution_count": 5,
   "metadata": {},
   "outputs": [],
   "source": [
    "url = f\"https://www.alphavantage.co/query?function={function}&symbol={symbol}&outputsize=full&apikey={alpha_key}\""
   ]
  },
  {
   "cell_type": "code",
   "execution_count": 6,
   "metadata": {
    "scrolled": true
   },
   "outputs": [
    {
     "data": {
      "text/plain": [
       "dict_keys(['Meta Data', 'Time Series (Daily)'])"
      ]
     },
     "execution_count": 6,
     "metadata": {},
     "output_type": "execute_result"
    }
   ],
   "source": [
    "response = requests.get(url)\n",
    "xlv_file = response.json()\n",
    "xlv_file.keys()"
   ]
  },
  {
   "cell_type": "code",
   "execution_count": 7,
   "metadata": {
    "scrolled": true
   },
   "outputs": [],
   "source": [
    "xlv_values = xlv_file['Time Series (Daily)']"
   ]
  },
  {
   "cell_type": "code",
   "execution_count": 8,
   "metadata": {
    "scrolled": true
   },
   "outputs": [],
   "source": [
    "df = pd.DataFrame(xlv_values)\n",
    "xlv_df = df.T\n",
    "column_head = ['open', 'high', 'low', 'close', 'volume']\n",
    "xlv_df.columns = column_head\n",
    "xlv_df.reset_index(inplace = True)"
   ]
  },
  {
   "cell_type": "code",
   "execution_count": 9,
   "metadata": {},
   "outputs": [],
   "source": [
    "xlv_df['open'] = xlv_df.open.astype(float)\n",
    "xlv_df['high'] = xlv_df.high.astype(float)\n",
    "xlv_df['low'] = xlv_df.low.astype(float)\n",
    "xlv_df['close'] = xlv_df.close.astype(float)\n",
    "xlv_df['volume'] = xlv_df.volume.astype(float)"
   ]
  },
  {
   "cell_type": "code",
   "execution_count": 10,
   "metadata": {},
   "outputs": [],
   "source": [
    "xlv_df['day_pct_change'] = (xlv_df['close']-xlv_df['open'])/xlv_df['open']*100"
   ]
  },
  {
   "cell_type": "code",
   "execution_count": 11,
   "metadata": {},
   "outputs": [],
   "source": [
    "for entry in xlv_df:\n",
    "    pct_change = (xlv_df['close'] - xlv_df['open'].iloc[-1])/xlv_df['open'].iloc[-1]\n",
    "    xlv_df['overall_pct_change'] = pct_change * 100"
   ]
  },
  {
   "cell_type": "code",
   "execution_count": 12,
   "metadata": {},
   "outputs": [],
   "source": [
    "column_heads = ['date','open','close', 'high','low','volume', 'day_pct_change', 'overall_pct_change']\n",
    "xlv_df.columns = column_heads"
   ]
  },
  {
   "cell_type": "code",
   "execution_count": 13,
   "metadata": {},
   "outputs": [
    {
     "data": {
      "text/plain": [
       "(5034, 8)"
      ]
     },
     "execution_count": 13,
     "metadata": {},
     "output_type": "execute_result"
    }
   ],
   "source": []
  },
  {
   "cell_type": "markdown",
   "metadata": {},
   "source": [
    "## XLV - 1 Year "
   ]
  },
  {
   "cell_type": "code",
   "execution_count": 14,
   "metadata": {},
   "outputs": [],
   "source": [
    "xlv_1_year_changes = []\n",
    "for i in xlv_df['date'][0:365]:\n",
    "    xlv_1_year_changes.append(xlv_df['day_pct_change'])"
   ]
  },
  {
   "cell_type": "markdown",
   "metadata": {},
   "source": [
    "## Load S&P API\n"
   ]
  },
  {
   "cell_type": "code",
   "execution_count": 15,
   "metadata": {},
   "outputs": [],
   "source": [
    "sp_symbol = '.INX'\n",
    "url_sp = f\"https://www.alphavantage.co/query?function={function}&symbol={sp_symbol}&outputsize=full&apikey={alpha_key}\""
   ]
  },
  {
   "cell_type": "code",
   "execution_count": 16,
   "metadata": {},
   "outputs": [],
   "source": [
    "response2 = requests.get(url_sp)\n",
    "sp_file = response2.json()"
   ]
  },
  {
   "cell_type": "code",
   "execution_count": 17,
   "metadata": {},
   "outputs": [],
   "source": [
    "sp_values = sp_file['Time Series (Daily)']\n",
    "sp_df = pd.DataFrame(sp_values)\n",
    "sp_df = sp_df.T\n",
    "sp_df.columns = column_head\n",
    "sp_df['open'] = sp_df.open.astype(float)\n",
    "sp_df['high'] = sp_df.high.astype(float)\n",
    "sp_df['low'] = sp_df.low.astype(float)\n",
    "sp_df['close'] = sp_df.close.astype(float)\n",
    "sp_df['volume'] = sp_df.volume.astype(float)"
   ]
  },
  {
   "cell_type": "code",
   "execution_count": 18,
   "metadata": {},
   "outputs": [],
   "source": [
    "sp_df['day_pct_change'] = (sp_df['close']-sp_df['open'])/sp_df['open']*100"
   ]
  },
  {
   "cell_type": "code",
   "execution_count": 19,
   "metadata": {},
   "outputs": [],
   "source": [
    "for entry in sp_df:\n",
    "    pct_change = (sp_df['close'] - sp_df['open'].iloc[-1])/sp_df['open'].iloc[-1]\n",
    "    sp_df['overall_pct_change'] = pct_change * 100"
   ]
  },
  {
   "cell_type": "code",
   "execution_count": 20,
   "metadata": {},
   "outputs": [
    {
     "data": {
      "text/html": [
       "<div>\n",
       "<style scoped>\n",
       "    .dataframe tbody tr th:only-of-type {\n",
       "        vertical-align: middle;\n",
       "    }\n",
       "\n",
       "    .dataframe tbody tr th {\n",
       "        vertical-align: top;\n",
       "    }\n",
       "\n",
       "    .dataframe thead th {\n",
       "        text-align: right;\n",
       "    }\n",
       "</style>\n",
       "<table border=\"1\" class=\"dataframe\">\n",
       "  <thead>\n",
       "    <tr style=\"text-align: right;\">\n",
       "      <th></th>\n",
       "      <th>date</th>\n",
       "      <th>open</th>\n",
       "      <th>close</th>\n",
       "      <th>high</th>\n",
       "      <th>low</th>\n",
       "      <th>volume</th>\n",
       "      <th>day_pct_change</th>\n",
       "      <th>overall_pct_change</th>\n",
       "    </tr>\n",
       "  </thead>\n",
       "  <tbody>\n",
       "    <tr>\n",
       "      <td>0</td>\n",
       "      <td>2019-12-12</td>\n",
       "      <td>100.07</td>\n",
       "      <td>101.28</td>\n",
       "      <td>100.020</td>\n",
       "      <td>100.95</td>\n",
       "      <td>9765765.0</td>\n",
       "      <td>0.879384</td>\n",
       "      <td>233.719008</td>\n",
       "    </tr>\n",
       "    <tr>\n",
       "      <td>1</td>\n",
       "      <td>2019-12-11</td>\n",
       "      <td>100.01</td>\n",
       "      <td>100.27</td>\n",
       "      <td>99.820</td>\n",
       "      <td>100.02</td>\n",
       "      <td>6010787.0</td>\n",
       "      <td>0.009999</td>\n",
       "      <td>230.644628</td>\n",
       "    </tr>\n",
       "    <tr>\n",
       "      <td>2</td>\n",
       "      <td>2019-12-10</td>\n",
       "      <td>99.69</td>\n",
       "      <td>100.02</td>\n",
       "      <td>99.295</td>\n",
       "      <td>99.93</td>\n",
       "      <td>6027927.0</td>\n",
       "      <td>0.240746</td>\n",
       "      <td>230.347107</td>\n",
       "    </tr>\n",
       "    <tr>\n",
       "      <td>3</td>\n",
       "      <td>2019-12-09</td>\n",
       "      <td>100.45</td>\n",
       "      <td>100.47</td>\n",
       "      <td>99.710</td>\n",
       "      <td>99.71</td>\n",
       "      <td>5148857.0</td>\n",
       "      <td>-0.736685</td>\n",
       "      <td>229.619835</td>\n",
       "    </tr>\n",
       "    <tr>\n",
       "      <td>4</td>\n",
       "      <td>2019-12-06</td>\n",
       "      <td>100.27</td>\n",
       "      <td>100.75</td>\n",
       "      <td>100.200</td>\n",
       "      <td>100.41</td>\n",
       "      <td>5658514.0</td>\n",
       "      <td>0.139623</td>\n",
       "      <td>231.933884</td>\n",
       "    </tr>\n",
       "  </tbody>\n",
       "</table>\n",
       "</div>"
      ],
      "text/plain": [
       "         date    open   close     high     low     volume  day_pct_change  \\\n",
       "0  2019-12-12  100.07  101.28  100.020  100.95  9765765.0        0.879384   \n",
       "1  2019-12-11  100.01  100.27   99.820  100.02  6010787.0        0.009999   \n",
       "2  2019-12-10   99.69  100.02   99.295   99.93  6027927.0        0.240746   \n",
       "3  2019-12-09  100.45  100.47   99.710   99.71  5148857.0       -0.736685   \n",
       "4  2019-12-06  100.27  100.75  100.200  100.41  5658514.0        0.139623   \n",
       "\n",
       "   overall_pct_change  \n",
       "0          233.719008  \n",
       "1          230.644628  \n",
       "2          230.347107  \n",
       "3          229.619835  \n",
       "4          231.933884  "
      ]
     },
     "execution_count": 20,
     "metadata": {},
     "output_type": "execute_result"
    }
   ],
   "source": [
    "xlv_df.head()"
   ]
  },
  {
   "cell_type": "code",
   "execution_count": 21,
   "metadata": {},
   "outputs": [
    {
     "data": {
      "text/html": [
       "<div>\n",
       "<style scoped>\n",
       "    .dataframe tbody tr th:only-of-type {\n",
       "        vertical-align: middle;\n",
       "    }\n",
       "\n",
       "    .dataframe tbody tr th {\n",
       "        vertical-align: top;\n",
       "    }\n",
       "\n",
       "    .dataframe thead th {\n",
       "        text-align: right;\n",
       "    }\n",
       "</style>\n",
       "<table border=\"1\" class=\"dataframe\">\n",
       "  <thead>\n",
       "    <tr style=\"text-align: right;\">\n",
       "      <th></th>\n",
       "      <th>date</th>\n",
       "      <th>open</th>\n",
       "      <th>close</th>\n",
       "      <th>high</th>\n",
       "      <th>low</th>\n",
       "      <th>volume</th>\n",
       "      <th>day_pct_change</th>\n",
       "      <th>overall_pct_change</th>\n",
       "    </tr>\n",
       "  </thead>\n",
       "  <tbody>\n",
       "    <tr>\n",
       "      <td>5029</td>\n",
       "      <td>1999-12-16</td>\n",
       "      <td>29.63</td>\n",
       "      <td>29.73</td>\n",
       "      <td>29.38</td>\n",
       "      <td>29.73</td>\n",
       "      <td>9500.0</td>\n",
       "      <td>0.337496</td>\n",
       "      <td>-1.719008</td>\n",
       "    </tr>\n",
       "    <tr>\n",
       "      <td>5030</td>\n",
       "      <td>1999-12-15</td>\n",
       "      <td>29.56</td>\n",
       "      <td>29.91</td>\n",
       "      <td>29.45</td>\n",
       "      <td>29.50</td>\n",
       "      <td>8400.0</td>\n",
       "      <td>-0.202977</td>\n",
       "      <td>-2.479339</td>\n",
       "    </tr>\n",
       "    <tr>\n",
       "      <td>5031</td>\n",
       "      <td>1999-12-14</td>\n",
       "      <td>29.53</td>\n",
       "      <td>29.83</td>\n",
       "      <td>29.53</td>\n",
       "      <td>29.75</td>\n",
       "      <td>16000.0</td>\n",
       "      <td>0.745005</td>\n",
       "      <td>-1.652893</td>\n",
       "    </tr>\n",
       "    <tr>\n",
       "      <td>5032</td>\n",
       "      <td>1999-12-13</td>\n",
       "      <td>29.69</td>\n",
       "      <td>29.95</td>\n",
       "      <td>29.69</td>\n",
       "      <td>29.69</td>\n",
       "      <td>10700.0</td>\n",
       "      <td>0.000000</td>\n",
       "      <td>-1.851240</td>\n",
       "    </tr>\n",
       "    <tr>\n",
       "      <td>5033</td>\n",
       "      <td>1999-12-10</td>\n",
       "      <td>30.25</td>\n",
       "      <td>30.25</td>\n",
       "      <td>29.77</td>\n",
       "      <td>29.89</td>\n",
       "      <td>18800.0</td>\n",
       "      <td>-1.190083</td>\n",
       "      <td>-1.190083</td>\n",
       "    </tr>\n",
       "  </tbody>\n",
       "</table>\n",
       "</div>"
      ],
      "text/plain": [
       "            date   open  close   high    low   volume  day_pct_change  \\\n",
       "5029  1999-12-16  29.63  29.73  29.38  29.73   9500.0        0.337496   \n",
       "5030  1999-12-15  29.56  29.91  29.45  29.50   8400.0       -0.202977   \n",
       "5031  1999-12-14  29.53  29.83  29.53  29.75  16000.0        0.745005   \n",
       "5032  1999-12-13  29.69  29.95  29.69  29.69  10700.0        0.000000   \n",
       "5033  1999-12-10  30.25  30.25  29.77  29.89  18800.0       -1.190083   \n",
       "\n",
       "      overall_pct_change  \n",
       "5029           -1.719008  \n",
       "5030           -2.479339  \n",
       "5031           -1.652893  \n",
       "5032           -1.851240  \n",
       "5033           -1.190083  "
      ]
     },
     "execution_count": 21,
     "metadata": {},
     "output_type": "execute_result"
    }
   ],
   "source": [
    "xlv_df.tail()"
   ]
  },
  {
   "cell_type": "code",
   "execution_count": 22,
   "metadata": {},
   "outputs": [
    {
     "data": {
      "text/html": [
       "<div>\n",
       "<style scoped>\n",
       "    .dataframe tbody tr th:only-of-type {\n",
       "        vertical-align: middle;\n",
       "    }\n",
       "\n",
       "    .dataframe tbody tr th {\n",
       "        vertical-align: top;\n",
       "    }\n",
       "\n",
       "    .dataframe thead th {\n",
       "        text-align: right;\n",
       "    }\n",
       "</style>\n",
       "<table border=\"1\" class=\"dataframe\">\n",
       "  <thead>\n",
       "    <tr style=\"text-align: right;\">\n",
       "      <th></th>\n",
       "      <th>open</th>\n",
       "      <th>close</th>\n",
       "      <th>high</th>\n",
       "      <th>low</th>\n",
       "      <th>volume</th>\n",
       "      <th>day_pct_change</th>\n",
       "      <th>overall_pct_change</th>\n",
       "    </tr>\n",
       "  </thead>\n",
       "  <tbody>\n",
       "    <tr>\n",
       "      <td>count</td>\n",
       "      <td>5034.000000</td>\n",
       "      <td>5034.000000</td>\n",
       "      <td>5034.000000</td>\n",
       "      <td>5034.000000</td>\n",
       "      <td>5.034000e+03</td>\n",
       "      <td>5034.000000</td>\n",
       "      <td>5034.000000</td>\n",
       "    </tr>\n",
       "    <tr>\n",
       "      <td>mean</td>\n",
       "      <td>45.319958</td>\n",
       "      <td>45.585874</td>\n",
       "      <td>45.021568</td>\n",
       "      <td>45.319130</td>\n",
       "      <td>5.181176e+06</td>\n",
       "      <td>-0.002969</td>\n",
       "      <td>49.815305</td>\n",
       "    </tr>\n",
       "    <tr>\n",
       "      <td>std</td>\n",
       "      <td>21.762785</td>\n",
       "      <td>21.860668</td>\n",
       "      <td>21.656908</td>\n",
       "      <td>21.768709</td>\n",
       "      <td>5.489900e+06</td>\n",
       "      <td>0.997421</td>\n",
       "      <td>71.962674</td>\n",
       "    </tr>\n",
       "    <tr>\n",
       "      <td>min</td>\n",
       "      <td>21.750000</td>\n",
       "      <td>22.100000</td>\n",
       "      <td>21.000000</td>\n",
       "      <td>21.880000</td>\n",
       "      <td>9.000000e+02</td>\n",
       "      <td>-8.646889</td>\n",
       "      <td>-27.669421</td>\n",
       "    </tr>\n",
       "    <tr>\n",
       "      <td>25%</td>\n",
       "      <td>29.550000</td>\n",
       "      <td>29.730000</td>\n",
       "      <td>29.350000</td>\n",
       "      <td>29.550000</td>\n",
       "      <td>4.521500e+05</td>\n",
       "      <td>-0.484426</td>\n",
       "      <td>-2.314050</td>\n",
       "    </tr>\n",
       "    <tr>\n",
       "      <td>50%</td>\n",
       "      <td>32.910000</td>\n",
       "      <td>33.085000</td>\n",
       "      <td>32.685550</td>\n",
       "      <td>32.920000</td>\n",
       "      <td>4.417804e+06</td>\n",
       "      <td>0.021669</td>\n",
       "      <td>8.826446</td>\n",
       "    </tr>\n",
       "    <tr>\n",
       "      <td>75%</td>\n",
       "      <td>66.870000</td>\n",
       "      <td>67.381250</td>\n",
       "      <td>66.040000</td>\n",
       "      <td>66.860000</td>\n",
       "      <td>7.782518e+06</td>\n",
       "      <td>0.506674</td>\n",
       "      <td>121.024793</td>\n",
       "    </tr>\n",
       "    <tr>\n",
       "      <td>max</td>\n",
       "      <td>100.450000</td>\n",
       "      <td>101.280000</td>\n",
       "      <td>100.200000</td>\n",
       "      <td>100.950000</td>\n",
       "      <td>6.647018e+07</td>\n",
       "      <td>8.372274</td>\n",
       "      <td>233.719008</td>\n",
       "    </tr>\n",
       "  </tbody>\n",
       "</table>\n",
       "</div>"
      ],
      "text/plain": [
       "              open        close         high          low        volume  \\\n",
       "count  5034.000000  5034.000000  5034.000000  5034.000000  5.034000e+03   \n",
       "mean     45.319958    45.585874    45.021568    45.319130  5.181176e+06   \n",
       "std      21.762785    21.860668    21.656908    21.768709  5.489900e+06   \n",
       "min      21.750000    22.100000    21.000000    21.880000  9.000000e+02   \n",
       "25%      29.550000    29.730000    29.350000    29.550000  4.521500e+05   \n",
       "50%      32.910000    33.085000    32.685550    32.920000  4.417804e+06   \n",
       "75%      66.870000    67.381250    66.040000    66.860000  7.782518e+06   \n",
       "max     100.450000   101.280000   100.200000   100.950000  6.647018e+07   \n",
       "\n",
       "       day_pct_change  overall_pct_change  \n",
       "count     5034.000000         5034.000000  \n",
       "mean        -0.002969           49.815305  \n",
       "std          0.997421           71.962674  \n",
       "min         -8.646889          -27.669421  \n",
       "25%         -0.484426           -2.314050  \n",
       "50%          0.021669            8.826446  \n",
       "75%          0.506674          121.024793  \n",
       "max          8.372274          233.719008  "
      ]
     },
     "execution_count": 22,
     "metadata": {},
     "output_type": "execute_result"
    }
   ],
   "source": [
    "xlv_df.describe()"
   ]
  },
  {
   "cell_type": "code",
   "execution_count": 23,
   "metadata": {},
   "outputs": [
    {
     "data": {
      "text/html": [
       "<div>\n",
       "<style scoped>\n",
       "    .dataframe tbody tr th:only-of-type {\n",
       "        vertical-align: middle;\n",
       "    }\n",
       "\n",
       "    .dataframe tbody tr th {\n",
       "        vertical-align: top;\n",
       "    }\n",
       "\n",
       "    .dataframe thead th {\n",
       "        text-align: right;\n",
       "    }\n",
       "</style>\n",
       "<table border=\"1\" class=\"dataframe\">\n",
       "  <thead>\n",
       "    <tr style=\"text-align: right;\">\n",
       "      <th></th>\n",
       "      <th>open</th>\n",
       "      <th>high</th>\n",
       "      <th>low</th>\n",
       "      <th>close</th>\n",
       "      <th>volume</th>\n",
       "      <th>day_pct_change</th>\n",
       "      <th>overall_pct_change</th>\n",
       "    </tr>\n",
       "  </thead>\n",
       "  <tbody>\n",
       "    <tr>\n",
       "      <td>count</td>\n",
       "      <td>5019.000000</td>\n",
       "      <td>5019.000000</td>\n",
       "      <td>5019.000000</td>\n",
       "      <td>5019.000000</td>\n",
       "      <td>5.019000e+03</td>\n",
       "      <td>5019.000000</td>\n",
       "      <td>5019.000000</td>\n",
       "    </tr>\n",
       "    <tr>\n",
       "      <td>mean</td>\n",
       "      <td>1570.910802</td>\n",
       "      <td>1579.796991</td>\n",
       "      <td>1561.282136</td>\n",
       "      <td>1571.094211</td>\n",
       "      <td>3.090612e+09</td>\n",
       "      <td>0.017134</td>\n",
       "      <td>6.931714</td>\n",
       "    </tr>\n",
       "    <tr>\n",
       "      <td>std</td>\n",
       "      <td>581.034326</td>\n",
       "      <td>581.784703</td>\n",
       "      <td>580.130838</td>\n",
       "      <td>581.133888</td>\n",
       "      <td>1.474398e+09</td>\n",
       "      <td>1.138710</td>\n",
       "      <td>39.553098</td>\n",
       "    </tr>\n",
       "    <tr>\n",
       "      <td>min</td>\n",
       "      <td>679.280000</td>\n",
       "      <td>695.270000</td>\n",
       "      <td>666.790000</td>\n",
       "      <td>676.530000</td>\n",
       "      <td>3.560700e+08</td>\n",
       "      <td>-8.723105</td>\n",
       "      <td>-53.954058</td>\n",
       "    </tr>\n",
       "    <tr>\n",
       "      <td>25%</td>\n",
       "      <td>1151.250000</td>\n",
       "      <td>1159.640000</td>\n",
       "      <td>1141.960000</td>\n",
       "      <td>1151.045050</td>\n",
       "      <td>1.669570e+09</td>\n",
       "      <td>-0.447641</td>\n",
       "      <td>-21.657645</td>\n",
       "    </tr>\n",
       "    <tr>\n",
       "      <td>50%</td>\n",
       "      <td>1360.050000</td>\n",
       "      <td>1368.390000</td>\n",
       "      <td>1348.720000</td>\n",
       "      <td>1360.160000</td>\n",
       "      <td>3.218590e+09</td>\n",
       "      <td>0.051937</td>\n",
       "      <td>-7.424877</td>\n",
       "    </tr>\n",
       "    <tr>\n",
       "      <td>75%</td>\n",
       "      <td>1980.245000</td>\n",
       "      <td>1988.599950</td>\n",
       "      <td>1972.275050</td>\n",
       "      <td>1981.950000</td>\n",
       "      <td>3.917700e+09</td>\n",
       "      <td>0.520183</td>\n",
       "      <td>34.895355</td>\n",
       "    </tr>\n",
       "    <tr>\n",
       "      <td>max</td>\n",
       "      <td>3147.179900</td>\n",
       "      <td>3176.280000</td>\n",
       "      <td>3143.409900</td>\n",
       "      <td>3168.570100</td>\n",
       "      <td>1.145623e+10</td>\n",
       "      <td>10.789002</td>\n",
       "      <td>115.659017</td>\n",
       "    </tr>\n",
       "  </tbody>\n",
       "</table>\n",
       "</div>"
      ],
      "text/plain": [
       "              open         high          low        close        volume  \\\n",
       "count  5019.000000  5019.000000  5019.000000  5019.000000  5.019000e+03   \n",
       "mean   1570.910802  1579.796991  1561.282136  1571.094211  3.090612e+09   \n",
       "std     581.034326   581.784703   580.130838   581.133888  1.474398e+09   \n",
       "min     679.280000   695.270000   666.790000   676.530000  3.560700e+08   \n",
       "25%    1151.250000  1159.640000  1141.960000  1151.045050  1.669570e+09   \n",
       "50%    1360.050000  1368.390000  1348.720000  1360.160000  3.218590e+09   \n",
       "75%    1980.245000  1988.599950  1972.275050  1981.950000  3.917700e+09   \n",
       "max    3147.179900  3176.280000  3143.409900  3168.570100  1.145623e+10   \n",
       "\n",
       "       day_pct_change  overall_pct_change  \n",
       "count     5019.000000         5019.000000  \n",
       "mean         0.017134            6.931714  \n",
       "std          1.138710           39.553098  \n",
       "min         -8.723105          -53.954058  \n",
       "25%         -0.447641          -21.657645  \n",
       "50%          0.051937           -7.424877  \n",
       "75%          0.520183           34.895355  \n",
       "max         10.789002          115.659017  "
      ]
     },
     "execution_count": 23,
     "metadata": {},
     "output_type": "execute_result"
    }
   ],
   "source": [
    "sp_df.describe()"
   ]
  },
  {
   "cell_type": "markdown",
   "metadata": {},
   "source": [
    "### S&P 1 - year"
   ]
  },
  {
   "cell_type": "code",
   "execution_count": 24,
   "metadata": {},
   "outputs": [],
   "source": [
    "xlv_1_year_changes = []\n",
    "for i in xlv_df['date'][0:365]:\n",
    "    xlv_1_year_changes.append(xlv_df['day_pct_change'])"
   ]
  },
  {
   "cell_type": "code",
   "execution_count": 25,
   "metadata": {},
   "outputs": [],
   "source": [
    "xlv_avg_percent_moves = sum(xlv_1_year_changes)/len(xlv_1_year_changes)\n",
    "xlv_1_year_samples = []\n",
    "for i in range(100):\n",
    "    xlv_1_year_sample = np.random.choice(xlv_avg_percent_moves, size = 50)\n",
    "    xlv_1_year_samples.append(xlv_1_year_sample)\n",
    "\n"
   ]
  },
  {
   "cell_type": "code",
   "execution_count": 26,
   "metadata": {},
   "outputs": [
    {
     "data": {
      "image/png": "[encoded data removed]",
      "text/plain": [
       "<Figure size 432x288 with 1 Axes>"
      ]
     },
     "metadata": {
      "needs_background": "light"
     },
     "output_type": "display_data"
    }
   ],
   "source": [
    "plt.hist(xlv_1_year_samples, bins = 100, label = 'XLV 1 Year');\n",
    "plt.legend();"
   ]
  },
  {
   "cell_type": "code",
   "execution_count": 27,
   "metadata": {},
   "outputs": [
    {
     "ename": "NameError",
     "evalue": "name 'sp_avg_percent_moves' is not defined",
     "output_type": "error",
     "traceback": [
      "\u001b[0;31m---------------------------------------------------------------------------\u001b[0m",
      "\u001b[0;31mNameError\u001b[0m                                 Traceback (most recent call last)",
      "\u001b[0;32m<ipython-input-27-fd982d3b158a>\u001b[0m in \u001b[0;36m<module>\u001b[0;34m\u001b[0m\n\u001b[1;32m      1\u001b[0m \u001b[0mx_hat\u001b[0m \u001b[0;34m=\u001b[0m \u001b[0msum\u001b[0m\u001b[0;34m(\u001b[0m\u001b[0mxlv_1_year_samples\u001b[0m\u001b[0;34m)\u001b[0m\u001b[0;34m/\u001b[0m\u001b[0mlen\u001b[0m\u001b[0;34m(\u001b[0m\u001b[0mxlv_1_year_samples\u001b[0m\u001b[0;34m)\u001b[0m\u001b[0;34m\u001b[0m\u001b[0;34m\u001b[0m\u001b[0m\n\u001b[0;32m----> 2\u001b[0;31m \u001b[0mmu\u001b[0m \u001b[0;34m=\u001b[0m \u001b[0msum\u001b[0m\u001b[0;34m(\u001b[0m\u001b[0msp_avg_percent_moves\u001b[0m\u001b[0;34m)\u001b[0m\u001b[0;34m/\u001b[0m\u001b[0mlen\u001b[0m\u001b[0;34m(\u001b[0m\u001b[0msp_avg_percent_moves\u001b[0m\u001b[0;34m)\u001b[0m\u001b[0;34m\u001b[0m\u001b[0;34m\u001b[0m\u001b[0m\n\u001b[0m\u001b[1;32m      3\u001b[0m \u001b[0msigma\u001b[0m \u001b[0;34m=\u001b[0m \u001b[0mstatistics\u001b[0m\u001b[0;34m.\u001b[0m\u001b[0mstdev\u001b[0m\u001b[0;34m(\u001b[0m\u001b[0msp_avg_percent_moves\u001b[0m\u001b[0;34m)\u001b[0m\u001b[0;34m\u001b[0m\u001b[0;34m\u001b[0m\u001b[0m\n\u001b[1;32m      4\u001b[0m \u001b[0mn\u001b[0m \u001b[0;34m=\u001b[0m \u001b[0;36m365\u001b[0m\u001b[0;34m\u001b[0m\u001b[0;34m\u001b[0m\u001b[0m\n\u001b[1;32m      5\u001b[0m \u001b[0;34m\u001b[0m\u001b[0m\n",
      "\u001b[0;31mNameError\u001b[0m: name 'sp_avg_percent_moves' is not defined"
     ]
    }
   ],
   "source": [
    "x_hat = sum(xlv_1_year_samples)/len(xlv_1_year_samples)\n",
    "mu = sum(sp_avg_percent_moves)/len(sp_avg_percent_moves)\n",
    "sigma = statistics.stdev(sp_avg_percent_moves)\n",
    "n = 365\n",
    "\n",
    "z_stat_xlv_1_yr = (x_hat - mu)/sigma/math.sqrt(n)\n",
    "z_stat_xlv_1_yr.mean()"
   ]
  },
  {
   "cell_type": "markdown",
   "metadata": {},
   "source": [
    "## Hypothesis 1 Testing: Average Returns"
   ]
  },
  {
   "cell_type": "markdown",
   "metadata": {},
   "source": [
    "#### H0: The daily avg percent change in the XLV index fund is <= to that of the overall S&P 500 \n",
    "#### HA: The daily avg percent change in the XLV index fund is greater than the S&P 500 "
   ]
  },
  {
   "cell_type": "code",
   "execution_count": null,
   "metadata": {},
   "outputs": [],
   "source": [
    "xlv_avg_percent_moves = []\n",
    "sp_avg_percent_moves = []\n",
    "\n",
    "for i in range(5000):\n",
    "    \n",
    "    sample_xlv = xlv_df.sample(n = 50, random_state = i)\n",
    "    xlv_avg_percent_moves.append(sample_xlv.day_pct_change.mean())\n",
    "    \n",
    "    sample_sp = sp_df.sample(n = 50, random_state = i)\n",
    "    sp_avg_percent_moves.append(sample_sp.day_pct_change.mean())\n"
   ]
  },
  {
   "cell_type": "code",
   "execution_count": null,
   "metadata": {},
   "outputs": [],
   "source": [
    "plt.style.use('ggplot')\n",
    "plt.hist(xlv_avg_percent_moves, bins = 500, color = 'red', label = 'XLV Index Fund');\n",
    "plt.hist(sp_avg_percent_moves, bins = 500, color = 'blue', label = 'S&P 500 Index Fund');\n",
    "plt.xlabel('Average Daily Percent Change')\n",
    "plt.title('Daily Rate Change Histogram of XLV and INX Indices')\n",
    "plt.legend();"
   ]
  },
  {
   "cell_type": "code",
   "execution_count": null,
   "metadata": {},
   "outputs": [],
   "source": [
    "#Z-test stat for S&P benchmark group\n",
    "import statistics\n",
    "x_hat = sum(xlv_avg_percent_moves)/len(xlv_avg_percent_moves)\n",
    "mu = sum(sp_avg_percent_moves)/len(xlv_avg_percent_moves)\n",
    "sigma = statistics.stdev(sp_avg_percent_moves)\n",
    "n = 5017"
   ]
  },
  {
   "cell_type": "code",
   "execution_count": null,
   "metadata": {},
   "outputs": [],
   "source": [
    "z_stat = (x_hat - mu)/sigma/math.sqrt(n)\n",
    "p_val = stats.norm.cdf(z_stat)"
   ]
  },
  {
   "cell_type": "code",
   "execution_count": null,
   "metadata": {},
   "outputs": [],
   "source": [
    "#take a t test to see if there is a statistical significance in difference of means\n",
    "S = statistics.stdev(xlv_avg_percent_moves)\n",
    "t_stat = (x_hat - mu)/S/math.sqrt(n)"
   ]
  },
  {
   "cell_type": "markdown",
   "metadata": {},
   "source": [
    "*Due to the Z-stat and T-stat we fail to reject H0*"
   ]
  },
  {
   "cell_type": "code",
   "execution_count": null,
   "metadata": {},
   "outputs": [],
   "source": [
    "#Calculating Cohen's D (d = u1 - u2/std_pooled) (include)\n",
    "def cohen_d(xlv, sp500):\n",
    "\n",
    "    diff_mean = xlv.mean() - sp500.mean()\n",
    "\n",
    "    n_xlv = len(xlv)\n",
    "    n_sp500 = len(sp500)\n",
    "    var_xlv = xlv.var()\n",
    "    var_sp500 = sp500.var()\n",
    "\n",
    "    pooled_var = (n_xlv * var_xlv + n_sp500 * var_sp500) / (n_xlv + n_sp500)\n",
    "\n",
    "    cod = diff_mean / np.sqrt(pooled_var)\n",
    "\n",
    "    return cod\n",
    "\n",
    "xlv_sp_cohen_d = cohen_d(xlv_df['day_pct_change'], sp_df['day_pct_change'])\n",
    "print(f\"XLV-S&P Cohen's D: {xlv_sp_cohen_d}\")"
   ]
  },
  {
   "cell_type": "code",
   "execution_count": null,
   "metadata": {},
   "outputs": [],
   "source": [
    "n_xlv = len(xlv_df['day_pct_change'])\n",
    "n_sp = len(sp_df['day_pct_change'])\n",
    "ration = n_xlv/n_sp\n",
    "xlv_sp_power = zt_ind_solve_power(effect_size = xlv_sp_cohen_d, nobs1=n_xlv, power = None, alpha = .05)\n",
    "print(f\"XLV-SP Power: {xlv_sp_power}\")\n",
    "alpha = 1 - xlv_sp_power\n",
    "alpha"
   ]
  },
  {
   "cell_type": "code",
   "execution_count": null,
   "metadata": {},
   "outputs": [],
   "source": [
    "#z_score * SE = real difference in sample and population means\n",
    "std_error = sigma/math.sqrt(n)\n",
    "real_diff_xlv = std_error * z_stat\n",
    "print(f\"XLV P-Value: {p_val}\")\n",
    "print(f\"XLV Z-Stat: {z_stat}\")\n",
    "print(f\"XLV T-stat: {t_stat}\")\n",
    "print(f\"XLV Standard_error: {std_error}\")\n",
    "print(f\"XLV Real Difference: {real_diff_xlv}\")\n",
    "\n",
    "#include p-value, z-stat, standard-error, "
   ]
  },
  {
   "cell_type": "code",
   "execution_count": null,
   "metadata": {},
   "outputs": [],
   "source": [
    "std_dev_sp = np.std(sp_avg_percent_moves)\n",
    "std_dev_sp\n",
    "\n"
   ]
  },
  {
   "cell_type": "markdown",
   "metadata": {},
   "source": [
    "## Johnson & Johnson Performance"
   ]
  },
  {
   "cell_type": "code",
   "execution_count": null,
   "metadata": {},
   "outputs": [],
   "source": [
    "symbol = 'JNJ'\n",
    "function = 'TIME_SERIES_DAILY'\n",
    "alpha_key = 'Y8YQFOIVHPA381U4'\n",
    "jj_url = f\"https://www.alphavantage.co/query?function={function}&symbol={symbol}&outputsize=full&apikey={alpha_key}\""
   ]
  },
  {
   "cell_type": "code",
   "execution_count": null,
   "metadata": {},
   "outputs": [],
   "source": [
    "response3 = requests.get(jj_url)\n",
    "jj_file = response3.json()"
   ]
  },
  {
   "cell_type": "code",
   "execution_count": null,
   "metadata": {},
   "outputs": [],
   "source": [
    "jj_values = jj_file['Time Series (Daily)']\n",
    "df = pd.DataFrame(jj_values)\n",
    "jj_df = df.T\n",
    "column_head = ['open', 'high', 'low', 'close', 'volume']\n",
    "jj_df.columns = column_head\n",
    "jj_df.reset_index(inplace = True)\n",
    "jj_df['open'] = jj_df.open.astype(float)\n",
    "jj_df['high'] = jj_df.high.astype(float)\n",
    "jj_df['low'] = jj_df.low.astype(float)\n",
    "jj_df['close'] = jj_df.close.astype(float)\n",
    "jj_df['volume'] = jj_df.volume.astype(float)\n",
    "jj_df['day_pct_change'] = (jj_df['close']-jj_df['open'])/jj_df['open']*100\n",
    "for entry in jj_df:\n",
    "    pct_change = (jj_df['close'] - jj_df['open'].iloc[-1])/jj_df['open'].iloc[-1]\n",
    "    sp_df['overall_pct_change'] = pct_change * 100\n",
    "    \n"
   ]
  },
  {
   "cell_type": "code",
   "execution_count": null,
   "metadata": {},
   "outputs": [],
   "source": [
    "jj_df.describe()"
   ]
  },
  {
   "cell_type": "code",
   "execution_count": null,
   "metadata": {},
   "outputs": [],
   "source": [
    "jj_avg_pct_moves = []\n",
    "\n",
    "for i in range(5000):\n",
    "    sample_jj = jj_df.sample(n=50, random_state = i)\n",
    "    jj_avg_pct_moves.append(sample_jj.day_pct_change.mean())\n",
    "\n",
    "plt.style.use('ggplot')\n",
    "plt.hist(jj_avg_pct_moves, bins = 500, color = 'green', label = 'Johnston & Johnston');\n",
    "# plt.hist(sp_avg_percent_moves, bins = 500, color = 'blue', label = 'S&P 500');\n",
    "plt.xlabel('Average Daily Percent Change')\n",
    "plt.title('Daily Rate Change of Johnston & Johnston Equity Histogram')\n",
    "plt.hist(xlv_avg_percent_moves, bins = 500, color = 'pink', label = 'XLV');\n",
    "plt.legend();  \n",
    "\n",
    "std_dev_jj = np.std(jj_avg_pct_moves)\n",
    "std_dev_jj"
   ]
  },
  {
   "cell_type": "code",
   "execution_count": null,
   "metadata": {},
   "outputs": [],
   "source": [
    "x_hat = sum(jj_avg_pct_moves)/len(sp_avg_percent_moves)\n",
    "mu = sum(sp_avg_percent_moves)/len(sp_avg_percent_moves)\n",
    "sigma = statistics.stdev(sp_avg_percent_moves)\n",
    "n = 5034\n",
    "\n",
    "z_stat_jj = (x_hat - mu)/sigma/math.sqrt(n)\n",
    "p_val_jj = stats.norm.cdf(z_stat_jj)\n",
    "S_jj = statistics.stdev(jj_avg_pct_moves)\n",
    "t_stat_jj = (x_hat - mu)/S/math.sqrt(n)\n",
    "std_error_jj = sigma/math.sqrt(n)\n",
    "real_difference_jj = std_error_jj * z_stat_jj\n",
    "print(f\"JNJ Z-Stat: {z_stat_jj}\")\n",
    "print(f\"JNJ P-Value: {p_val_jj}\")\n",
    "print(f\"JNJ T-Stat: {t_stat_jj}\")\n",
    "print(f\"JNJ Standard Error: {std_error_jj}\")\n",
    "print(f\"JNJ Real Difference: {real_difference_jj}\")"
   ]
  },
  {
   "cell_type": "markdown",
   "metadata": {},
   "source": [
    "## DVA \n"
   ]
  },
  {
   "cell_type": "code",
   "execution_count": null,
   "metadata": {},
   "outputs": [],
   "source": [
    "symbol = 'DVA'\n",
    "function = 'TIME_SERIES_DAILY'\n",
    "alpha_key = 'Y8YQFOIVHPA381U4'\n",
    "dva_url = f\"https://www.alphavantage.co/query?function={function}&symbol={symbol}&outputsize=full&apikey={alpha_key}\""
   ]
  },
  {
   "cell_type": "code",
   "execution_count": null,
   "metadata": {},
   "outputs": [],
   "source": [
    "response3 = requests.get(dva_url)\n",
    "dva_file = response3.json()"
   ]
  },
  {
   "cell_type": "code",
   "execution_count": null,
   "metadata": {},
   "outputs": [],
   "source": [
    "dva_values = dva_file['Time Series (Daily)']\n",
    "df = pd.DataFrame(dva_values)\n",
    "dva_df = df.T\n",
    "column_head = ['open', 'high', 'low', 'close', 'volume']\n",
    "dva_df.columns = column_head\n",
    "dva_df.reset_index(inplace = True)\n",
    "dva_df['open'] = dva_df.open.astype(float)\n",
    "dva_df['high'] = dva_df.high.astype(float)\n",
    "dva_df['low'] = dva_df.low.astype(float)\n",
    "dva_df['close'] = dva_df.close.astype(float)\n",
    "dva_df['volume'] = dva_df.volume.astype(float)\n",
    "dva_df['day_pct_change'] = (dva_df['close']-dva_df['open'])/dva_df['open']*100\n",
    "for entry in dva_df:\n",
    "    pct_change = (dva_df['close'] - dva_df['open'].iloc[-1])/dva_df['open'].iloc[-1]\n",
    "    dva_df['overall_pct_change'] = pct_change * 100\n",
    "    "
   ]
  },
  {
   "cell_type": "code",
   "execution_count": null,
   "metadata": {},
   "outputs": [],
   "source": [
    "dva_df.describe()"
   ]
  },
  {
   "cell_type": "code",
   "execution_count": null,
   "metadata": {},
   "outputs": [],
   "source": [
    "dva_avg_pct_moves = []\n",
    "\n",
    "for i in range(5000):\n",
    "    sample_dva = dva_df.sample(n=50, random_state = i)\n",
    "    dva_avg_pct_moves.append(sample_dva.day_pct_change.mean())\n",
    "\n",
    "plt.style.use('ggplot')    \n",
    "plt.hist(dva_avg_pct_moves, bins = 500, color = 'green', label = 'DVA');\n",
    "plt.hist(sp_avg_percent_moves, bins = 500, color = 'blue', label = 'S&P 500');\n",
    "# plt.hist(xlv_avg_percent_moves, bins = 500, color = 'pink', label = 'XLV');\n",
    "plt.legend();  "
   ]
  },
  {
   "cell_type": "code",
   "execution_count": null,
   "metadata": {},
   "outputs": [],
   "source": [
    "x_hat = sum(dva_avg_pct_moves)/len(dva_avg_pct_moves)\n",
    "mu = sum(sp_avg_percent_moves)/len(sp_avg_percent_moves)\n",
    "sigma = statistics.stdev(sp_avg_percent_moves)\n",
    "n = 5034\n",
    "\n",
    "z_stat_dva = (x_hat - mu)/sigma/math.sqrt(n)\n",
    "p_val_dva = stats.norm.cdf(z_stat_dva)\n",
    "S_dva = statistics.stdev(dva_avg_pct_moves)\n",
    "t_stat_dva = (x_hat - mu)/S/math.sqrt(n)\n",
    "std_error_dva = sigma/math.sqrt(n)\n",
    "real_difference_dva = std_error_dva * z_stat_dva\n",
    "print(f\"DVA Z-Stat: {z_stat_dva}\")\n",
    "print(f\"DVA P-Value: {p_val_dva}\")\n",
    "print(f\"DVA T-Stat: {t_stat_dva}\")\n",
    "print(f\"DVA Standard Error: {std_error_dva}\")\n",
    "print(f\"DVA Real Difference: {real_difference_dva}\")"
   ]
  },
  {
   "cell_type": "code",
   "execution_count": null,
   "metadata": {},
   "outputs": [],
   "source": []
  },
  {
   "cell_type": "code",
   "execution_count": null,
   "metadata": {},
   "outputs": [],
   "source": []
  },
  {
   "cell_type": "code",
   "execution_count": null,
   "metadata": {},
   "outputs": [],
   "source": []
  }
 ],
 "metadata": {
  "kernelspec": {
   "display_name": "Python 3",
   "language": "python",
   "name": "python3"
  },
  "language_info": {
   "codemirror_mode": {
    "name": "ipython",
    "version": 3
   },
   "file_extension": ".py",
   "mimetype": "text/x-python",
   "name": "python",
   "nbconvert_exporter": "python",
   "pygments_lexer": "ipython3",
   "version": "3.6.9"
  }
 },
 "nbformat": 4,
 "nbformat_minor": 4
}
