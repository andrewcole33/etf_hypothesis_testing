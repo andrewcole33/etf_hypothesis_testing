{
 "cells": [
  {
   "cell_type": "markdown",
   "metadata": {},
   "source": [
    "# Rough start\n"
   ]
  },
  {
   "cell_type": "code",
   "execution_count": 287,
   "metadata": {},
   "outputs": [],
   "source": [
    "import pandas as pd\n",
    "import requests\n",
    "import matplotlib.pyplot as plt\n",
    "import seaborn as sns\n",
    "\n",
    "key_alphavantage = '9HXBL1MHLXSUW3XP'\n",
    "function = 'RSI'\n",
    "interval = 'daily'"
   ]
  },
  {
   "cell_type": "code",
   "execution_count": 288,
   "metadata": {},
   "outputs": [],
   "source": [
    "symbol1 = 'XLV'\n",
    "\n",
    "response = requests.get(f'https://www.alphavantage.co/query?function={function}&symbol={symbol1}&interval={interval}&time_period=10&series_type=open&apikey={key_alphavantage}')\n",
    "response = response.json()"
   ]
  },
  {
   "cell_type": "code",
   "execution_count": 289,
   "metadata": {},
   "outputs": [],
   "source": [
    "symbol2 = '.INX'\n",
    "\n",
    "response2 = requests.get(f'https://www.alphavantage.co/query?function={function}&symbol={symbol2}&interval=daily&time_period=10&series_type=open&apikey={key_alphavantage}')\n",
    "response2 = response2.json()"
   ]
  },
  {
   "cell_type": "code",
   "execution_count": 313,
   "metadata": {},
   "outputs": [
    {
     "data": {
      "text/plain": [
       "'2019-12-09'"
      ]
     },
     "execution_count": 313,
     "metadata": {},
     "output_type": "execute_result"
    }
   ],
   "source": [
    "l_keys = list(response[f'Technical Analysis: {function}'].keys())\n",
    "l_keys = l_keys[1:]"
   ]
  },
  {
   "cell_type": "code",
   "execution_count": 314,
   "metadata": {},
   "outputs": [],
   "source": [
    "l_keys2 = list(response2[f'Technical Analysis: {function}'].keys())\n",
    "l_keys2 = l_keys2[1:]"
   ]
  },
  {
   "cell_type": "markdown",
   "metadata": {},
   "source": [
    "ned"
   ]
  },
  {
   "cell_type": "code",
   "execution_count": 315,
   "metadata": {},
   "outputs": [],
   "source": [
    "date_rsi = {}\n",
    "\n",
    "count = 0\n",
    "for i in l_keys:\n",
    "    rsi = response[f'Technical Analysis: {function}'][i][f'{function}']\n",
    "    count += 1\n",
    "    date_rsi[f'{i}'] = float(rsi)"
   ]
  },
  {
   "cell_type": "code",
   "execution_count": 316,
   "metadata": {},
   "outputs": [],
   "source": [
    "date_rsi2 = {}\n",
    "\n",
    "count2 = 0 \n",
    "for i in l_keys2:\n",
    "    rsi2 = response2[f'Technical Analysis: {function}'][i][f'{function}']\n",
    "    count2 += 1\n",
    "    date_rsi2[f'{i}'] = float(rsi2)"
   ]
  },
  {
   "cell_type": "code",
   "execution_count": 317,
   "metadata": {},
   "outputs": [],
   "source": [
    "df = pd.DataFrame(date_rsi.items(), columns = ['date', f'{function}'])"
   ]
  },
  {
   "cell_type": "code",
   "execution_count": 318,
   "metadata": {},
   "outputs": [],
   "source": [
    "df2 = pd.DataFrame(date_rsi2.items(), columns = ['date', f'{function}'])"
   ]
  },
  {
   "cell_type": "code",
   "execution_count": 319,
   "metadata": {},
   "outputs": [],
   "source": [
    "year = [int(l_keys[i].split('-')[0]) for i in range(len(l_keys))]\n",
    "month = [int(l_keys[i].split('-')[1]) for i in range(len(l_keys))]\n",
    "day = [int(l_keys[i].split('-')[2]) for i in range(len(l_keys))]"
   ]
  },
  {
   "cell_type": "code",
   "execution_count": 320,
   "metadata": {},
   "outputs": [],
   "source": [
    "year2 = [int(l_keys2[i].split('-')[0]) for i in range(len(l_keys2))]\n",
    "month2 = [int(l_keys2[i].split('-')[1]) for i in range(len(l_keys2))]\n",
    "day2 = [int(l_keys2[i].split('-')[2]) for i in range(len(l_keys2))]"
   ]
  },
  {
   "cell_type": "code",
   "execution_count": 321,
   "metadata": {},
   "outputs": [],
   "source": [
    "df['year'] = year\n",
    "df['month'] = month\n",
    "df['day'] = day"
   ]
  },
  {
   "cell_type": "code",
   "execution_count": 322,
   "metadata": {},
   "outputs": [],
   "source": [
    "df2['year'] = year2\n",
    "df2['month'] = month2\n",
    "df2['day'] = day2"
   ]
  },
  {
   "cell_type": "code",
   "execution_count": 323,
   "metadata": {},
   "outputs": [],
   "source": [
    "df_2019 = df.loc[df['year'] == 2019]\n",
    "df_2018 = df.loc[df['year'] == 2018]\n",
    "df_2017 = df.loc[df['year'] == 2017]\n",
    "\n",
    "df171819 = df.loc[df['year'] >= 2017]\n",
    "\n",
    "\n",
    "df2_2019 = df2.loc[df2['year'] == 2019]\n",
    "df2_2018 = df2.loc[df2['year'] == 2018]\n",
    "df2_2017 = df2.loc[df2['year'] == 2017]\n",
    "\n",
    "df2_171819_2 = df2.loc[df2['year'] >= 2017]"
   ]
  },
  {
   "cell_type": "code",
   "execution_count": 326,
   "metadata": {},
   "outputs": [],
   "source": [
    "sample_means19 = []\n",
    "sample_means19_2 = []\n",
    "for i in range(20000):\n",
    "    sample19 = df_2019.sample(n=50, random_state=i) \n",
    "    sample_means19.append(sample19.RSI.mean())\n",
    "    \n",
    "    sample19_2 = df2_2019.sample(n=50, random_state=i) \n",
    "    sample_means19_2.append(sample19_2.RSI.mean()) \n",
    "    "
   ]
  },
  {
   "cell_type": "code",
   "execution_count": 327,
   "metadata": {},
   "outputs": [
    {
     "data": {
      "image/png": "[encoded data removed]",
      "text/plain": [
       "<Figure size 432x288 with 1 Axes>"
      ]
     },
     "metadata": {
      "needs_background": "light"
     },
     "output_type": "display_data"
    }
   ],
   "source": [
    "plt.hist(sample_means19, bins=500, color='blue', label='XLV 2019');\n",
    "plt.hist(sample_means19_2, bins=250, color='red', label='S&P500 2019');\n",
    "plt.legend();"
   ]
  },
  {
   "cell_type": "code",
   "execution_count": 328,
   "metadata": {},
   "outputs": [],
   "source": [
    "sample_means18 = []\n",
    "sample_means18_2 = []\n",
    "for i in range(20000):\n",
    "    sample18 = df_2018.sample(n=50, random_state=i) \n",
    "    sample_means18.append(sample18.RSI.mean()) \n",
    "    \n",
    "    sample18_2 = df2_2018.sample(n=50, random_state=i) \n",
    "    sample_means18_2.append(sample18_2.RSI.mean()) "
   ]
  },
  {
   "cell_type": "code",
   "execution_count": 262,
   "metadata": {},
   "outputs": [
    {
     "data": {
      "text/plain": [
       "<matplotlib.legend.Legend at 0x1a212e4650>"
      ]
     },
     "execution_count": 262,
     "metadata": {},
     "output_type": "execute_result"
    },
    {
     "data": {
      "image/png": "[encoded data removed]",
      "text/plain": [
       "<Figure size 432x288 with 1 Axes>"
      ]
     },
     "metadata": {
      "needs_background": "light"
     },
     "output_type": "display_data"
    }
   ],
   "source": [
    "plt.hist(sample_means18, bins=500, color='blue', label = 'XLV 2018');\n",
    "plt.hist(sample_means18_2, bins=500, color='red', label= 'S&P500 2018');\n",
    "plt.legend();"
   ]
  },
  {
   "cell_type": "code",
   "execution_count": 329,
   "metadata": {},
   "outputs": [],
   "source": [
    "sample_means17 = []\n",
    "sample_means17_2 = []\n",
    "for i in range(20000):\n",
    "    sample17 = df_2017.sample(n=50, random_state=i) \n",
    "    sample_means17.append(sample17.RSI.mean()) \n",
    "    \n",
    "    sample17_2 = df2_2017.sample(n=50, random_state=i) \n",
    "    sample_means17_2.append(sample17_2.RSI.mean()) "
   ]
  },
  {
   "cell_type": "code",
   "execution_count": 330,
   "metadata": {},
   "outputs": [
    {
     "data": {
      "image/png": "[encoded data removed]",
      "text/plain": [
       "<Figure size 432x288 with 1 Axes>"
      ]
     },
     "metadata": {
      "needs_background": "light"
     },
     "output_type": "display_data"
    }
   ],
   "source": [
    "plt.hist(sample_means17, bins=250, color='blue', label='XLV 2017');\n",
    "plt.hist(sample_means17_2, bins=250, color='red', label='S&P500 2017');\n",
    "plt.legend();"
   ]
  },
  {
   "cell_type": "code",
   "execution_count": null,
   "metadata": {},
   "outputs": [],
   "source": [
    "sample_means171819 = []\n",
    "sample_means171819_2 = []\n",
    "for i in range(10000):\n",
    "    sample171819 = df171819.sample(n=50, random_state=i) \n",
    "    sample_means171819.append(sample171819.RSI.mean()) \n",
    "    \n",
    "    sample171819_2 = df2_171819_2.sample(n=50, random_state=i) \n",
    "    sample_means171819_2.append(sample171819_2.RSI.mean()) "
   ]
  },
  {
   "cell_type": "code",
   "execution_count": null,
   "metadata": {},
   "outputs": [],
   "source": [
    "plt.hist(sample_means171819, bins=250, color = 'blue', label='XLV 2017-19');\n",
    "plt.hist(sample_means171819_2, bins=250, color = 'red', label='S&P500 2017-19');\n",
    "plt.legend();"
   ]
  },
  {
   "cell_type": "code",
   "execution_count": null,
   "metadata": {},
   "outputs": [],
   "source": []
  }
 ],
 "metadata": {
  "kernelspec": {
   "display_name": "Python 3",
   "language": "python",
   "name": "python3"
  },
  "language_info": {
   "codemirror_mode": {
    "name": "ipython",
    "version": 3
   },
   "file_extension": ".py",
   "mimetype": "text/x-python",
   "name": "python",
   "nbconvert_exporter": "python",
   "pygments_lexer": "ipython3",
   "version": "3.6.9"
  }
 },
 "nbformat": 4,
 "nbformat_minor": 4
}
