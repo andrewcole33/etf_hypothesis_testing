{
 "cells": [
  {
   "cell_type": "markdown",
   "metadata": {},
   "source": [
    "# Healthcare RSI Statistical significance\n",
    "## Null Hypothesis 1 - The RSI of the heathcare fund, XLV, is the same as the RSI for the S&P 500\n",
    "## Alternative Hypothesis 1 - The RSI of the heathcare fund, XLV, is different from the RSI for the S&P 500"
   ]
  },
  {
   "cell_type": "code",
   "execution_count": 1,
   "metadata": {},
   "outputs": [],
   "source": [
    "import pandas as pd\n",
    "import requests\n",
    "import matplotlib.pyplot as plt\n",
    "import seaborn as sns\n",
    "import numpy as np\n",
    "from scipy import stats\n",
    "from statsmodels.stats.power import zt_ind_solve_power\n",
    "\n",
    "key_alphavantage = '9HXBL1MHLXSUW3XP'\n",
    "function = 'RSI'\n",
    "interval = 'daily'"
   ]
  },
  {
   "cell_type": "code",
   "execution_count": 2,
   "metadata": {},
   "outputs": [],
   "source": [
    "symbol1 = 'XLV'\n",
    "\n",
    "response = requests.get(f'https://www.alphavantage.co/query?function={function}&symbol={symbol1}&interval={interval}&time_period=10&series_type=open&apikey={key_alphavantage}')\n",
    "response = response.json()"
   ]
  },
  {
   "cell_type": "code",
   "execution_count": 3,
   "metadata": {},
   "outputs": [],
   "source": [
    "symbol2 = '.INX'\n",
    "\n",
    "response2 = requests.get(f'https://www.alphavantage.co/query?function={function}&symbol={symbol2}&interval=daily&time_period=10&series_type=open&apikey={key_alphavantage}')\n",
    "response2 = response2.json()"
   ]
  },
  {
   "cell_type": "code",
   "execution_count": 4,
   "metadata": {},
   "outputs": [],
   "source": [
    "l_keys = list(response[f'Technical Analysis: {function}'].keys())\n",
    "l_keys = l_keys[1:]"
   ]
  },
  {
   "cell_type": "code",
   "execution_count": 5,
   "metadata": {},
   "outputs": [],
   "source": [
    "l_keys2 = list(response2[f'Technical Analysis: {function}'].keys())\n",
    "l_keys2 = l_keys2[1:]"
   ]
  },
  {
   "cell_type": "code",
   "execution_count": 6,
   "metadata": {},
   "outputs": [],
   "source": [
    "date_rsi = {}\n",
    "\n",
    "count = 0\n",
    "for i in l_keys:\n",
    "    rsi = response[f'Technical Analysis: {function}'][i][f'{function}']\n",
    "    count += 1\n",
    "    date_rsi[f'{i}'] = float(rsi)"
   ]
  },
  {
   "cell_type": "code",
   "execution_count": 7,
   "metadata": {},
   "outputs": [],
   "source": [
    "date_rsi2 = {}\n",
    "\n",
    "count2 = 0 \n",
    "for i in l_keys2:\n",
    "    rsi2 = response2[f'Technical Analysis: {function}'][i][f'{function}']\n",
    "    count2 += 1\n",
    "    date_rsi2[f'{i}'] = float(rsi2)"
   ]
  },
  {
   "cell_type": "code",
   "execution_count": null,
   "metadata": {},
   "outputs": [],
   "source": []
  },
  {
   "cell_type": "code",
   "execution_count": 8,
   "metadata": {},
   "outputs": [],
   "source": [
    "df = pd.DataFrame(date_rsi.items(), columns = ['date', f'{function}'])"
   ]
  },
  {
   "cell_type": "code",
   "execution_count": 9,
   "metadata": {},
   "outputs": [],
   "source": [
    "df2 = pd.DataFrame(date_rsi2.items(), columns = ['date', f'{function}'])"
   ]
  },
  {
   "cell_type": "code",
   "execution_count": 10,
   "metadata": {},
   "outputs": [],
   "source": [
    "year = [int(l_keys[i].split('-')[0]) for i in range(len(l_keys))]\n",
    "month = [int(l_keys[i].split('-')[1]) for i in range(len(l_keys))]\n",
    "day = [int(l_keys[i].split('-')[2]) for i in range(len(l_keys))]"
   ]
  },
  {
   "cell_type": "code",
   "execution_count": 11,
   "metadata": {},
   "outputs": [],
   "source": [
    "year2 = [int(l_keys2[i].split('-')[0]) for i in range(len(l_keys2))]\n",
    "month2 = [int(l_keys2[i].split('-')[1]) for i in range(len(l_keys2))]\n",
    "day2 = [int(l_keys2[i].split('-')[2]) for i in range(len(l_keys2))]"
   ]
  },
  {
   "cell_type": "code",
   "execution_count": 12,
   "metadata": {},
   "outputs": [],
   "source": [
    "df['year'] = year\n",
    "df['month'] = month\n",
    "df['day'] = day"
   ]
  },
  {
   "cell_type": "code",
   "execution_count": 13,
   "metadata": {},
   "outputs": [],
   "source": [
    "df2['year'] = year2\n",
    "df2['month'] = month2\n",
    "df2['day'] = day2"
   ]
  },
  {
   "cell_type": "code",
   "execution_count": 14,
   "metadata": {},
   "outputs": [],
   "source": [
    "df_2019 = df.loc[df['year'] == 2019]\n",
    "df_2018 = df.loc[df['year'] == 2018]\n",
    "df_2017 = df.loc[df['year'] == 2017]\n",
    "\n",
    "df171819 = df.loc[df['year'] >= 2017]\n",
    "\n",
    "\n",
    "df2_2019 = df2.loc[df2['year'] == 2019]\n",
    "df2_2018 = df2.loc[df2['year'] == 2018]\n",
    "df2_2017 = df2.loc[df2['year'] == 2017]\n",
    "\n",
    "df2_171819_2 = df2.loc[df2['year'] >= 2017]"
   ]
  },
  {
   "cell_type": "markdown",
   "metadata": {},
   "source": [
    "## Comparing the normalized RSI data for XLV and S&P500 "
   ]
  },
  {
   "cell_type": "markdown",
   "metadata": {},
   "source": [
    "### 2019 exclusive data"
   ]
  },
  {
   "cell_type": "code",
   "execution_count": 15,
   "metadata": {},
   "outputs": [],
   "source": [
    "sample_means19 = []\n",
    "sample_means19_2 = []\n",
    "\n",
    "for i in range(20000):\n",
    "    sample19 = df_2019.sample(n=50, random_state=i) \n",
    "    sample_means19.append(sample19.RSI.mean())\n",
    "    \n",
    "    sample19_2 = df2_2019.sample(n=50, random_state=i) \n",
    "    sample_means19_2.append(sample19_2.RSI.mean())"
   ]
  },
  {
   "cell_type": "markdown",
   "metadata": {},
   "source": [
    "### Evaluating z - score and statistical significance"
   ]
  },
  {
   "cell_type": "code",
   "execution_count": 16,
   "metadata": {},
   "outputs": [
    {
     "name": "stdout",
     "output_type": "stream",
     "text": [
      "The z_score is: -4.742707057467621\n",
      "The p-value is: 1.054405539720337e-06\n",
      "The standard deviation is 13.643736536004695\n",
      "The standard error is 0.8825399505314985\n"
     ]
    }
   ],
   "source": [
    "xlv_bar19 = df_2019.RSI.mean()  ### xlv population mean (subset)\n",
    "sp500_bar19 = df2_2019.RSI.mean() ### S&P500 population mean (universal population)\n",
    "\n",
    "stan_dev19 = np.std(df2_2019.RSI) ### S&P500 population standard dev\n",
    "stan_err19 = stan_dev19/np.sqrt(len(df2_2019))\n",
    "z_score19 = (xlv_bar19 - sp500_bar19) / (stan_dev19/np.sqrt(len(df2_2019)))\n",
    "\n",
    "print(f'The z_score is: {z_score19}')\n",
    "p_val19 = stats.norm.cdf(z_score19)\n",
    "\n",
    "print(f'The p-value is: {p_val19}')\n",
    "print(f'The standard deviation is {stan_dev19}')\n",
    "print(f'The standard error is {stan_err19}')   ### Z_score * Standard error = real difference between sample and pop means"
   ]
  },
  {
   "cell_type": "code",
   "execution_count": 17,
   "metadata": {},
   "outputs": [
    {
     "data": {
      "image/png": "[encoded data removed]",
      "text/plain": [
       "<Figure size 432x288 with 1 Axes>"
      ]
     },
     "metadata": {
      "needs_background": "light"
     },
     "output_type": "display_data"
    }
   ],
   "source": [
    "plt.hist(sample_means19, bins=500, color='blue', label='XLV 2019');\n",
    "plt.hist(sample_means19_2, bins=500, color='red', label='S&P500 2019');\n",
    "plt.title('RSI Histogram')\n",
    "plt.legend();"
   ]
  },
  {
   "cell_type": "markdown",
   "metadata": {},
   "source": [
    "### 2018 Exclusive"
   ]
  },
  {
   "cell_type": "code",
   "execution_count": 18,
   "metadata": {},
   "outputs": [],
   "source": [
    "sample_means18 = []\n",
    "sample_means18_2 = []\n",
    "for i in range(20000):\n",
    "    sample18 = df_2018.sample(n=50, random_state=i) \n",
    "    sample_means18.append(sample18.RSI.mean()) \n",
    "    \n",
    "    sample18_2 = df2_2018.sample(n=50, random_state=i) \n",
    "    sample_means18_2.append(sample18_2.RSI.mean()) "
   ]
  },
  {
   "cell_type": "code",
   "execution_count": 19,
   "metadata": {},
   "outputs": [
    {
     "name": "stdout",
     "output_type": "stream",
     "text": [
      "The z_score is: 2.699868731842883\n",
      "The p-value is: 0.0034683419823887565\n",
      "The standard deviation is 15.747675009726795\n",
      "The standard error is 0.9939844327942696\n"
     ]
    }
   ],
   "source": [
    "xlv_bar18 = df_2018.RSI.mean()  ### xlv population mean (subset)\n",
    "sp500_bar18 = df2_2018.RSI.mean() ### S&P500 population mean (universal population)\n",
    "\n",
    "stan_dev18 = np.std(df2_2018.RSI) ### S&P500 population standard dev\n",
    "stan_err18 = stan_dev18/np.sqrt(len(df2_2018))\n",
    "z_score18 = (xlv_bar18 - sp500_bar18) / stan_err18\n",
    "\n",
    "print(f'The z_score is: {z_score18}')\n",
    "#p_val18 = stats.norm.cdf(z_score18)   ### Survival function - since the sample distribution is to the right of the population\n",
    "p_val18 = stats.norm.sf(z_score18)\n",
    "print(f'The p-value is: {p_val18}')\n",
    "print(f'The standard deviation is {stan_dev18}')\n",
    "print(f'The standard error is {stan_err18}')   ### Z_score * Standard error = real difference between sample and pop means"
   ]
  },
  {
   "cell_type": "code",
   "execution_count": 20,
   "metadata": {},
   "outputs": [
    {
     "data": {
      "image/png": "[encoded data removed]",
      "text/plain": [
       "<Figure size 432x288 with 1 Axes>"
      ]
     },
     "metadata": {
      "needs_background": "light"
     },
     "output_type": "display_data"
    }
   ],
   "source": [
    "plt.hist(sample_means18, bins=500, color='blue', label = 'XLV 2018');\n",
    "plt.hist(sample_means18_2, bins=500, color='red', label= 'S&P500 2018');\n",
    "plt.title('RSI Histogram')\n",
    "plt.legend();"
   ]
  },
  {
   "cell_type": "markdown",
   "metadata": {},
   "source": [
    "### 2017 Exclusive"
   ]
  },
  {
   "cell_type": "code",
   "execution_count": 21,
   "metadata": {},
   "outputs": [],
   "source": [
    "sample_means17 = []\n",
    "sample_means17_2 = []\n",
    "for i in range(20000):\n",
    "    sample17 = df_2017.sample(n=50, random_state=i) \n",
    "    sample_means17.append(sample17.RSI.mean()) \n",
    "    \n",
    "    sample17_2 = df2_2017.sample(n=50, random_state=i) \n",
    "    sample_means17_2.append(sample17_2.RSI.mean()) "
   ]
  },
  {
   "cell_type": "code",
   "execution_count": 22,
   "metadata": {},
   "outputs": [
    {
     "name": "stdout",
     "output_type": "stream",
     "text": [
      "The z_score is: -5.6241731018342085\n",
      "The p-value is: 9.319933383486873e-09\n",
      "The standard deviation is 12.124269743940395\n",
      "The standard error is 0.7652771204023213\n"
     ]
    }
   ],
   "source": [
    "xlv_bar17 = df_2017.RSI.mean()  ### xlv population mean (subset)\n",
    "sp500_bar17 = df2_2017.RSI.mean() ### S&P500 population mean (universal population)\n",
    "\n",
    "stan_dev17 = np.std(df2_2017.RSI) ### S&P500 population standard dev\n",
    "stan_err17 = stan_dev17/np.sqrt(len(df2_2017))\n",
    "z_score17 = (xlv_bar17 - sp500_bar17) / stan_err17\n",
    "\n",
    "print(f'The z_score is: {z_score17}')\n",
    "p_val17 = stats.norm.cdf(z_score17)   ### Survival function - since the sample distribution is to the right of the population\n",
    "#p_val17 = stats.norm.sf(z_score17)\n",
    "print(f'The p-value is: {p_val17}')\n",
    "print(f'The standard deviation is {stan_dev17}')\n",
    "print(f'The standard error is {stan_err17}')   ### Z_score * Standard error = real difference between sample and pop means"
   ]
  },
  {
   "cell_type": "code",
   "execution_count": 23,
   "metadata": {},
   "outputs": [
    {
     "data": {
      "image/png": "[encoded data removed]",
      "text/plain": [
       "<Figure size 432x288 with 1 Axes>"
      ]
     },
     "metadata": {
      "needs_background": "light"
     },
     "output_type": "display_data"
    }
   ],
   "source": [
    "plt.hist(sample_means17, bins=500, color='blue', label='XLV 2017');\n",
    "plt.hist(sample_means17_2, bins=500, color='red', label='S&P500 2017');\n",
    "plt.title('RSI Histogram')\n",
    "plt.legend();"
   ]
  },
  {
   "cell_type": "code",
   "execution_count": null,
   "metadata": {},
   "outputs": [],
   "source": []
  },
  {
   "cell_type": "markdown",
   "metadata": {},
   "source": [
    "### 2017 Through 2019 YTD"
   ]
  },
  {
   "cell_type": "code",
   "execution_count": 95,
   "metadata": {},
   "outputs": [],
   "source": [
    "sample_means171819 = []\n",
    "sample_means171819_2 = []\n",
    "for i in range(10000):\n",
    "    sample171819 = df171819.sample(n=50, random_state=i) \n",
    "    sample_means171819.append(sample171819.RSI.mean()) \n",
    "        \n",
    "    sample171819_2 = df2_171819_2.sample(n=50, random_state=i) \n",
    "    sample_means171819_2.append(sample171819_2.RSI.mean()) "
   ]
  },
  {
   "cell_type": "code",
   "execution_count": 96,
   "metadata": {},
   "outputs": [
    {
     "name": "stdout",
     "output_type": "stream",
     "text": [
      "The z_score is: -3.5679423012244893\n",
      "The p-value is: 0.0001798978527782417\n",
      "The standard deviation is 14.487565516438528\n",
      "The standard error is 0.5322140176512441\n"
     ]
    }
   ],
   "source": [
    "xlv_bar171819 = df171819.RSI.mean()  ### xlv population mean (subset)\n",
    "sp500_bar171819 = df2_171819_2.RSI.mean() ### S&P500 population mean (universal population)\n",
    "\n",
    "stan_dev171819 = np.std(df2_171819_2.RSI) ### S&P500 population standard dev\n",
    "stan_err171819 = stan_dev171819/np.sqrt(len(df2_171819_2))\n",
    "z_score171819 = (xlv_bar171819 - sp500_bar171819) / stan_err171819\n",
    "\n",
    "print(f'The z_score is: {z_score171819}')\n",
    "p_val171819 = stats.norm.cdf(z_score171819)   \n",
    "print(f'The p-value is: {p_val171819}')\n",
    "print(f'The standard deviation is {stan_dev171819}')\n",
    "print(f'The standard error is {stan_err171819}') "
   ]
  },
  {
   "cell_type": "code",
   "execution_count": 134,
   "metadata": {},
   "outputs": [
    {
     "data": {
      "image/png": "[encoded data removed]",
      "text/plain": [
       "<Figure size 432x288 with 1 Axes>"
      ]
     },
     "metadata": {
      "needs_background": "light"
     },
     "output_type": "display_data"
    }
   ],
   "source": [
    "plt.hist(sample_means171819, bins=500, color = 'blue', label='XLV 2017-19');\n",
    "plt.hist(sample_means171819_2, bins=500, color = 'red', label='S&P500 2017-19');\n",
    "plt.title('RSI Histogram')\n",
    "plt.xlabel('RSI')\n",
    "plt.legend();"
   ]
  },
  {
   "cell_type": "markdown",
   "metadata": {},
   "source": [
    "### Current RSI & Price"
   ]
  },
  {
   "cell_type": "code",
   "execution_count": 54,
   "metadata": {},
   "outputs": [],
   "source": [
    "symbol = 'XLV'\n",
    "function = 'RSI'\n",
    "xlv_rsi = requests.get(f'https://www.alphavantage.co/query?function={function}&symbol={symbol}&interval=daily&time_period=10&series_type=open&apikey={key_alphavantage}')"
   ]
  },
  {
   "cell_type": "code",
   "execution_count": 98,
   "metadata": {},
   "outputs": [
    {
     "ename": "AttributeError",
     "evalue": "'dict' object has no attribute 'json'",
     "output_type": "error",
     "traceback": [
      "\u001b[0;31m---------------------------------------------------------------------------\u001b[0m",
      "\u001b[0;31mAttributeError\u001b[0m                            Traceback (most recent call last)",
      "\u001b[0;32m<ipython-input-98-bdc601e5dc46>\u001b[0m in \u001b[0;36m<module>\u001b[0;34m\u001b[0m\n\u001b[0;32m----> 1\u001b[0;31m \u001b[0mxlv_rsi\u001b[0m \u001b[0;34m=\u001b[0m \u001b[0mxlv_rsi\u001b[0m\u001b[0;34m.\u001b[0m\u001b[0mjson\u001b[0m\u001b[0;34m(\u001b[0m\u001b[0;34m)\u001b[0m\u001b[0;34m\u001b[0m\u001b[0;34m\u001b[0m\u001b[0m\n\u001b[0m",
      "\u001b[0;31mAttributeError\u001b[0m: 'dict' object has no attribute 'json'"
     ]
    }
   ],
   "source": [
    "xlv_rsi = xlv_rsi.json()"
   ]
  },
  {
   "cell_type": "code",
   "execution_count": 99,
   "metadata": {},
   "outputs": [
    {
     "data": {
      "text/plain": [
       "['67.4025',\n",
       " '66.9611',\n",
       " '64.6645',\n",
       " '75.9496',\n",
       " '75.0204',\n",
       " '72.5840',\n",
       " '69.1720',\n",
       " '62.4232',\n",
       " '88.4782',\n",
       " '88.1252',\n",
       " '87.7885']"
      ]
     },
     "execution_count": 99,
     "metadata": {},
     "output_type": "execute_result"
    }
   ],
   "source": [
    "xlv_10day = [pair['RSI'] for pair in list(xlv_rsi['Technical Analysis: RSI'].values())[0:11]]\n",
    "xlv_10day"
   ]
  },
  {
   "cell_type": "code",
   "execution_count": 100,
   "metadata": {},
   "outputs": [],
   "source": [
    "symbol = '.INX' ### S&P500\n",
    "function = 'RSI'\n",
    "sp500_rsi = requests.get(f'https://www.alphavantage.co/query?function={function}&symbol={symbol}&interval=daily&time_period=10&series_type=open&apikey={key_alphavantage}')"
   ]
  },
  {
   "cell_type": "code",
   "execution_count": 101,
   "metadata": {},
   "outputs": [],
   "source": [
    "sp500_rsi = sp500_rsi.json()"
   ]
  },
  {
   "cell_type": "code",
   "execution_count": 102,
   "metadata": {},
   "outputs": [
    {
     "data": {
      "text/plain": [
       "['61.6553',\n",
       " '59.6041',\n",
       " '59.4653',\n",
       " '62.6987',\n",
       " '60.5482',\n",
       " '55.6504',\n",
       " '49.9493',\n",
       " '43.2213',\n",
       " '75.0851',\n",
       " '78.1440',\n",
       " '77.7296']"
      ]
     },
     "execution_count": 102,
     "metadata": {},
     "output_type": "execute_result"
    }
   ],
   "source": [
    "sp500_10day = [pair['RSI'] for pair in list(sp500_rsi['Technical Analysis: RSI'].values())[0:11]]\n",
    "sp500_10day"
   ]
  },
  {
   "cell_type": "markdown",
   "metadata": {},
   "source": [
    "## Cohen's D and Power"
   ]
  },
  {
   "cell_type": "code",
   "execution_count": 103,
   "metadata": {},
   "outputs": [],
   "source": [
    "def cohen_d(xlv, sp500):\n",
    "\n",
    "    diff_mean = xlv.mean() - sp500.mean()\n",
    "\n",
    "    n_xlv = len(xlv)\n",
    "    n_sp500 = len(sp500)\n",
    "    var_xlv = xlv.var()\n",
    "    var_sp500 = sp500.var()\n",
    "\n",
    "    pooled_var = (n_xlv * var_xlv + n_sp500 * var_sp500) / (n_xlv + n_sp500)\n",
    "\n",
    "    cod = diff_mean / np.sqrt(pooled_var)\n",
    "\n",
    "    return cod"
   ]
  },
  {
   "cell_type": "markdown",
   "metadata": {},
   "source": [
    "### 2019"
   ]
  },
  {
   "cell_type": "code",
   "execution_count": 104,
   "metadata": {},
   "outputs": [],
   "source": [
    "cod19 = cohen_d(df_2019['RSI'], df2_2019['RSI'])"
   ]
  },
  {
   "cell_type": "code",
   "execution_count": 105,
   "metadata": {},
   "outputs": [
    {
     "name": "stdout",
     "output_type": "stream",
     "text": [
      "0.931263916985638 -0.3151626984165812\n"
     ]
    }
   ],
   "source": [
    "n1_19 = len(df_2019['RSI'])\n",
    "n2_19 = len(df2_2019['RSI'])\n",
    "ratio = n1_19/n2_19\n",
    "xlv_19_power = zt_ind_solve_power(effect_size = cod19, nobs1=n1_19, power = None, alpha = .05) \n",
    "print(xlv_19_power, cod19)"
   ]
  },
  {
   "cell_type": "markdown",
   "metadata": {},
   "source": [
    "This value for power is close to 1, so there is minimal posibility for a Type 2 Error\n",
    "The cohen's d value is negative"
   ]
  },
  {
   "cell_type": "markdown",
   "metadata": {},
   "source": [
    "### 2018"
   ]
  },
  {
   "cell_type": "code",
   "execution_count": 106,
   "metadata": {},
   "outputs": [],
   "source": [
    "cod18 = cohen_d(df_2018['RSI'], df2_2018['RSI'])"
   ]
  },
  {
   "cell_type": "code",
   "execution_count": 107,
   "metadata": {},
   "outputs": [
    {
     "name": "stdout",
     "output_type": "stream",
     "text": [
      "0.48056801609630434 0.1705931324800668\n"
     ]
    }
   ],
   "source": [
    "n1_18 = len(df_2018['RSI'])\n",
    "n2_18 = len(df2_2018['RSI'])\n",
    "ratio = n1_18/n2_18\n",
    "xlv_18_power = zt_ind_solve_power(effect_size = cod18, nobs1=n1_18, power = None, alpha = .05) \n",
    "print(xlv_18_power, cod18)"
   ]
  },
  {
   "cell_type": "markdown",
   "metadata": {},
   "source": [
    "### 2017"
   ]
  },
  {
   "cell_type": "code",
   "execution_count": 108,
   "metadata": {},
   "outputs": [],
   "source": [
    "cod17 = cohen_d(df_2017['RSI'], df2_2017['RSI'])"
   ]
  },
  {
   "cell_type": "code",
   "execution_count": 109,
   "metadata": {},
   "outputs": [
    {
     "name": "stdout",
     "output_type": "stream",
     "text": [
      "0.9574432523182477 -0.3286465159491992\n"
     ]
    }
   ],
   "source": [
    "n1_17 = len(df_2017['RSI'])\n",
    "n2_17 = len(df2_2017['RSI'])\n",
    "ratio = n1_17/n2_17\n",
    "xlv_17_power = zt_ind_solve_power(effect_size = cod17, nobs1=n1_17, power = None, alpha = .05) \n",
    "print(xlv_17_power, cod17)"
   ]
  },
  {
   "cell_type": "markdown",
   "metadata": {},
   "source": [
    "### 2017 - 2019"
   ]
  },
  {
   "cell_type": "code",
   "execution_count": 110,
   "metadata": {},
   "outputs": [],
   "source": [
    "cod171819 = cohen_d(df171819['RSI'], df2_171819_2['RSI'])"
   ]
  },
  {
   "cell_type": "code",
   "execution_count": 112,
   "metadata": {},
   "outputs": [
    {
     "name": "stdout",
     "output_type": "stream",
     "text": [
      "Power= 0.7182418615083781\n",
      "Cohen D= -0.13183347431670678\n"
     ]
    }
   ],
   "source": [
    "n1_171819 = len(df171819['RSI'])\n",
    "n2_171819 = len(df2_171819_2['RSI'])\n",
    "ratio = n1_171819/n2_171819\n",
    "xlv_171819_power = zt_ind_solve_power(effect_size = cod171819, nobs1=n1_171819, power = None, alpha = .05) \n",
    "print(f'Power= {xlv_171819_power}\\nCohen D= {cod171819}')"
   ]
  },
  {
   "cell_type": "code",
   "execution_count": 113,
   "metadata": {},
   "outputs": [
    {
     "data": {
      "text/plain": [
       "-1.898908906882511"
      ]
     },
     "execution_count": 113,
     "metadata": {},
     "output_type": "execute_result"
    }
   ],
   "source": [
    "df171819['RSI'].mean() - df2_171819_2['RSI'].mean()"
   ]
  },
  {
   "cell_type": "markdown",
   "metadata": {},
   "source": [
    "## Conclusion"
   ]
  },
  {
   "cell_type": "markdown",
   "metadata": {},
   "source": [
    "This is something!"
   ]
  },
  {
   "cell_type": "markdown",
   "metadata": {},
   "source": [
    "## Null Hypothesis 2 - The RSI of the Johnson & Johnson, the largest holdings in the heathcare fund, XLV, is the same as the RSI for the S&P 500 {or xlv}\n",
    "## Alternative Hypothesis 2 - The RSI of the JNJ in the heathcare fund, XLV, is different from the RSI for the S&P 500 {or xlv}"
   ]
  },
  {
   "cell_type": "code",
   "execution_count": 63,
   "metadata": {},
   "outputs": [],
   "source": [
    "symbol_set = ['JNJ', 'MRK', 'UNH', 'PFE', 'ABT'] ### TOP 5 HOLDING SIZE IN THE XLV"
   ]
  },
  {
   "cell_type": "code",
   "execution_count": 132,
   "metadata": {},
   "outputs": [
    {
     "data": {
      "text/plain": [
       "{'Note': 'Thank you for using Alpha Vantage! Our standard API call frequency is 5 calls per minute and 500 calls per day. Please visit https://www.alphavantage.co/premium/ if you would like to target a higher API call frequency.'}"
      ]
     },
     "execution_count": 132,
     "metadata": {},
     "output_type": "execute_result"
    }
   ],
   "source": [
    "all_list = []\n",
    "for symbol in symbol_set:\n",
    "    response = requests.get(f'https://www.alphavantage.co/query?function={function}&symbol={symbol}&interval={interval}&time_period=10&series_type=open&apikey={key_alphavantage}')\n",
    "    jason = response.json()\n",
    "    all_list.append(jason)\n",
    "all_list[3]"
   ]
  },
  {
   "cell_type": "code",
   "execution_count": 133,
   "metadata": {},
   "outputs": [
    {
     "data": {
      "text/plain": [
       "[{'Note': 'Thank you for using Alpha Vantage! Our standard API call frequency is 5 calls per minute and 500 calls per day. Please visit https://www.alphavantage.co/premium/ if you would like to target a higher API call frequency.'},\n",
       " {'Note': 'Thank you for using Alpha Vantage! Our standard API call frequency is 5 calls per minute and 500 calls per day. Please visit https://www.alphavantage.co/premium/ if you would like to target a higher API call frequency.'},\n",
       " {'Note': 'Thank you for using Alpha Vantage! Our standard API call frequency is 5 calls per minute and 500 calls per day. Please visit https://www.alphavantage.co/premium/ if you would like to target a higher API call frequency.'},\n",
       " {'Note': 'Thank you for using Alpha Vantage! Our standard API call frequency is 5 calls per minute and 500 calls per day. Please visit https://www.alphavantage.co/premium/ if you would like to target a higher API call frequency.'},\n",
       " {'Note': 'Thank you for using Alpha Vantage! Our standard API call frequency is 5 calls per minute and 500 calls per day. Please visit https://www.alphavantage.co/premium/ if you would like to target a higher API call frequency.'}]"
      ]
     },
     "execution_count": 133,
     "metadata": {},
     "output_type": "execute_result"
    }
   ],
   "source": [
    "all_list"
   ]
  },
  {
   "cell_type": "code",
   "execution_count": 130,
   "metadata": {},
   "outputs": [
    {
     "ename": "TypeError",
     "evalue": "'list' object cannot be interpreted as an integer",
     "output_type": "error",
     "traceback": [
      "\u001b[0;31m---------------------------------------------------------------------------\u001b[0m",
      "\u001b[0;31mTypeError\u001b[0m                                 Traceback (most recent call last)",
      "\u001b[0;32m<ipython-input-130-e54be0cd6e47>\u001b[0m in \u001b[0;36m<module>\u001b[0;34m\u001b[0m\n\u001b[0;32m----> 1\u001b[0;31m \u001b[0;32mfor\u001b[0m \u001b[0mi\u001b[0m \u001b[0;32min\u001b[0m \u001b[0mrange\u001b[0m\u001b[0;34m(\u001b[0m\u001b[0mall_list\u001b[0m\u001b[0;34m)\u001b[0m\u001b[0;34m:\u001b[0m\u001b[0;34m\u001b[0m\u001b[0;34m\u001b[0m\u001b[0m\n\u001b[0m\u001b[1;32m      2\u001b[0m     \u001b[0;32mfor\u001b[0m \u001b[0mk\u001b[0m\u001b[0;34m,\u001b[0m \u001b[0mv\u001b[0m \u001b[0;32min\u001b[0m \u001b[0mall_list\u001b[0m\u001b[0;34m[\u001b[0m\u001b[0mi\u001b[0m\u001b[0;34m]\u001b[0m\u001b[0;34m[\u001b[0m\u001b[0;34m'Technical Analysis: RSI'\u001b[0m\u001b[0;34m]\u001b[0m\u001b[0;34m.\u001b[0m\u001b[0mitems\u001b[0m\u001b[0;34m(\u001b[0m\u001b[0;34m)\u001b[0m\u001b[0;34m:\u001b[0m\u001b[0;34m\u001b[0m\u001b[0;34m\u001b[0m\u001b[0m\n\u001b[1;32m      3\u001b[0m         \u001b[0mzip\u001b[0m\u001b[0;34m(\u001b[0m\u001b[0mk\u001b[0m\u001b[0;34m,\u001b[0m \u001b[0mv\u001b[0m\u001b[0;34m[\u001b[0m\u001b[0;34m'RSI'\u001b[0m\u001b[0;34m]\u001b[0m\u001b[0;34m)\u001b[0m\u001b[0;34m\u001b[0m\u001b[0;34m\u001b[0m\u001b[0m\n\u001b[1;32m      4\u001b[0m \u001b[0;34m\u001b[0m\u001b[0m\n",
      "\u001b[0;31mTypeError\u001b[0m: 'list' object cannot be interpreted as an integer"
     ]
    }
   ],
   "source": [
    "for i in range(all_list):\n",
    "    for k, v in all_list[i]['Technical Analysis: RSI'].items():\n",
    "        zip(k, v['RSI'])\n",
    "    "
   ]
  },
  {
   "cell_type": "code",
   "execution_count": 65,
   "metadata": {},
   "outputs": [],
   "source": [
    "dictjnj = {}\n",
    "\n",
    "lenny = len(all_list[0]['Technical Analysis: RSI'])\n",
    "for i in range(lenny):\n",
    "    date = list(all_list[0]['Technical Analysis: RSI'].keys())[i]\n",
    "    rsi = float(list(all_list[0]['Technical Analysis: RSI'].values())[i]['RSI'])\n",
    "    dictjnj[f'{date}'] = rsi\n",
    "df_jnj = pd.DataFrame(dictjnj.items(), columns = ['date', 'rsi'])\n",
    "\n",
    "year = []\n",
    "for i in range(lenny):\n",
    "    year.append(int(df_jnj['date'][i].split('-')[0]))"
   ]
  },
  {
   "cell_type": "code",
   "execution_count": 66,
   "metadata": {},
   "outputs": [],
   "source": [
    "df_jnj['year'] = year\n",
    "df_jnj.drop(0, inplace = True)"
   ]
  },
  {
   "cell_type": "code",
   "execution_count": 67,
   "metadata": {},
   "outputs": [],
   "source": [
    "df_jnj = df_jnj.loc[df_jnj['year'] >=2017] #2017 and newer data"
   ]
  },
  {
   "cell_type": "code",
   "execution_count": 68,
   "metadata": {},
   "outputs": [],
   "source": [
    "sample_meansjnj = []\n",
    "\n",
    "for i in range(20000):\n",
    "    samplejnj = df_jnj.sample(n=50, random_state=i) \n",
    "    sample_meansjnj.append(samplejnj.rsi.mean()) "
   ]
  },
  {
   "cell_type": "code",
   "execution_count": 74,
   "metadata": {},
   "outputs": [
    {
     "name": "stdout",
     "output_type": "stream",
     "text": [
      "The z_score is: -4.954691030604307\n",
      "The p-value is: 3.622265595407338e-07\n",
      "The standard deviation is 14.300068597971569\n",
      "The standard error is 0.5253261462444642\n"
     ]
    }
   ],
   "source": [
    "jnj_bar= df_jnj.rsi.mean()  ### johnson and johnson population mean (subset)\n",
    "#\n",
    "stan_dev171819xlv = np.std(df171819.RSI)\n",
    "z_scorejnj = (jnj_bar - xlv_bar171819) / (stan_dev171819xlv/np.sqrt(len(df171819)))\n",
    "p_valjnj = stats.norm.cdf(z_scorejnj)\n",
    "stan_err171819xlv = stan_dev171819xlv/np.sqrt(len(df171819))\n",
    "#\n",
    "print(f'The z_score is: {z_scorejnj}')\n",
    "p_valjnj = stats.norm.cdf(z_scorejnj)\n",
    "\n",
    "print(f'The p-value is: {p_valjnj}')\n",
    "print(f'The standard deviation is {stan_dev171819xlv}')\n",
    "print(f'The standard error is {stan_err171819xlv}')"
   ]
  },
  {
   "cell_type": "code",
   "execution_count": 135,
   "metadata": {},
   "outputs": [
    {
     "data": {
      "image/png": "[encoded data removed]",
      "text/plain": [
       "<Figure size 432x288 with 1 Axes>"
      ]
     },
     "metadata": {
      "needs_background": "light"
     },
     "output_type": "display_data"
    }
   ],
   "source": [
    "plt.hist(sample_meansjnj, bins=500, color='blue', label='JNJ 2017-2019');\n",
    "plt.hist(sample_means19, bins=500, color='red', label='XLV 2017-2019');\n",
    "plt.title('RSI 2017 - 2019')\n",
    "plt.xlabel('RSI')\n",
    "plt.legend();"
   ]
  },
  {
   "cell_type": "code",
   "execution_count": 78,
   "metadata": {},
   "outputs": [
    {
     "name": "stdout",
     "output_type": "stream",
     "text": [
      "-2.602828744939373\n",
      "-2.602828744939373\n"
     ]
    }
   ],
   "source": [
    "print(z_scorejnj * stan_err171819xlv)\n",
    "print(jnj_bar - xlv_bar171819)"
   ]
  },
  {
   "cell_type": "markdown",
   "metadata": {},
   "source": [
    "### Cohen's D for Johnson & Johnson and XLV - 2017-2019"
   ]
  },
  {
   "cell_type": "code",
   "execution_count": 82,
   "metadata": {},
   "outputs": [],
   "source": [
    "codjnj = cohen_d(df_jnj['rsi'], df171819['RSI'])"
   ]
  },
  {
   "cell_type": "code",
   "execution_count": 118,
   "metadata": {},
   "outputs": [
    {
     "name": "stdout",
     "output_type": "stream",
     "text": [
      "0.9374578892797565 -0.18150839890808018\n"
     ]
    }
   ],
   "source": [
    "n1_jnj = len(df_jnj['rsi'])\n",
    "n2_xlv = len(df171819['RSI'])\n",
    "ratio = n1_jnj/n2_xlv\n",
    "jnj_power = zt_ind_solve_power(effect_size = codjnj, nobs1=n1_jnj, power = None, alpha = .05) \n",
    "print(jnj_power, codjnj)"
   ]
  },
  {
   "cell_type": "code",
   "execution_count": null,
   "metadata": {},
   "outputs": [],
   "source": []
  },
  {
   "cell_type": "code",
   "execution_count": null,
   "metadata": {},
   "outputs": [],
   "source": []
  },
  {
   "cell_type": "code",
   "execution_count": null,
   "metadata": {},
   "outputs": [],
   "source": []
  },
  {
   "cell_type": "code",
   "execution_count": null,
   "metadata": {},
   "outputs": [],
   "source": []
  },
  {
   "cell_type": "code",
   "execution_count": null,
   "metadata": {},
   "outputs": [],
   "source": []
  },
  {
   "cell_type": "code",
   "execution_count": null,
   "metadata": {},
   "outputs": [],
   "source": []
  },
  {
   "cell_type": "code",
   "execution_count": null,
   "metadata": {},
   "outputs": [],
   "source": [
    "dictunh = {}\n",
    "\n",
    "lenny = len(all_list[2]['Technical Analysis: RSI'])\n",
    "for i in range(1, lenny):\n",
    "    date = list(all_list[2]['Technical Analysis: RSI'].keys())[i]\n",
    "    rsi = float(list(all_list[2]['Technical Analysis: RSI'].values())[i]['RSI'])\n",
    "    dictunh[f'{date}'] = rsi\n",
    "df_unh = pd.DataFrame(dictunh.items(), columns = ['date', 'rsi'])"
   ]
  },
  {
   "cell_type": "code",
   "execution_count": null,
   "metadata": {},
   "outputs": [],
   "source": [
    "dictpfe = {}\n",
    "\n",
    "lenny = len(all_list[3]['Technical Analysis: RSI'])\n",
    "for i in range(1, lenny):\n",
    "    date = list(all_list[3]['Technical Analysis: RSI'].keys())[i]\n",
    "    rsi = float(list(all_list[3]['Technical Analysis: RSI'].values())[i]['RSI'])\n",
    "    dictpfe[f'{date}'] = rsi\n",
    "df_pfe = pd.DataFrame(dictpfe.items(), columns = ['date', 'rsi'])"
   ]
  },
  {
   "cell_type": "code",
   "execution_count": null,
   "metadata": {},
   "outputs": [],
   "source": [
    "dictabt = {}\n",
    "\n",
    "lenny = len(all_list[4]['Technical Analysis: RSI'])\n",
    "for i in range(1, lenny):\n",
    "    date = list(all_list[1]['Technical Analysis: RSI'].keys())[i]\n",
    "    rsi = float(list(all_list[1]['Technical Analysis: RSI'].values())[i]['RSI'])\n",
    "    dictabt[f'{date}'] = rsi\n",
    "df_abt = pd.DataFrame(dictabt.items(), columns = ['date', 'rsi'])"
   ]
  },
  {
   "cell_type": "code",
   "execution_count": null,
   "metadata": {},
   "outputs": [],
   "source": [
    "xlv_bar = xlvdf.RSI.mean()  ### xlv population mean (subset)\n",
    "sp500_bar = sp500df.RSI.mean() ### S&P500 population mean (universal population)\n",
    "\n",
    "sp500_stan_dev = np.std(sp500df.RSI) ### S&P500 population standard dev\n",
    "sp500_stan_err = sp500stan_dev/np.sqrt(len(sp500df))\n",
    "xlv_z_score = (xlv_bar - sp500_bar) / (sp500stan_dev/np.sqrt(len(sp500df)))\n",
    "\n",
    "print(f'The z_score is: {xlv_z_score}')\n",
    "xlv_p_val = stats.norm.cdf(xlv_z_score)\n",
    "\n",
    "print(f'The p-value is: {xlv_p_val}')\n",
    "print(f'The standard deviation is {sp500_stan_dev}')\n",
    "print(f'The standard error is {sp500_stan_err}')"
   ]
  }
 ],
 "metadata": {
  "kernelspec": {
   "display_name": "Python 3",
   "language": "python",
   "name": "python3"
  },
  "language_info": {
   "codemirror_mode": {
    "name": "ipython",
    "version": 3
   },
   "file_extension": ".py",
   "mimetype": "text/x-python",
   "name": "python",
   "nbconvert_exporter": "python",
   "pygments_lexer": "ipython3",
   "version": "3.7.4"
  }
 },
 "nbformat": 4,
 "nbformat_minor": 4
}
