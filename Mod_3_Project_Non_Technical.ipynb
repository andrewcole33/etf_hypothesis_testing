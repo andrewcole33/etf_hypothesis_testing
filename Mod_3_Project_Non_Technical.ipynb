{
 "cells": [
  {
   "cell_type": "markdown",
   "metadata": {},
   "source": [
    "# Module 3 - Asset Movement - Non-Technical Document"
   ]
  },
  {
   "cell_type": "markdown",
   "metadata": {},
   "source": [
    "## Andrew Cole & Will Herzog"
   ]
  },
  {
   "cell_type": "markdown",
   "metadata": {},
   "source": [
    "Our main objective was to provide a prospective stakeholder with insights driven from statistical hypothesis testing on gathered data. Our perspective stakeholder is a young professional who is looking to begin a financial investment portfolio and is unaware of a good place to begin.\n",
    "\n",
    "In order to provide insights, we decided to look at the performance of a particular mutual fund's performance relative to its benchmark index fund. Mutual funds provide investors with diversified access to a variety of equities at a relatively low cost. The XLV healthcare mutual fund (ticker symbol: XLV) was selected due to it's strong performance history as well as it's heavy weight relative to it's benchmark index, the S&P 500 (ticker symbol: INX).\n",
    "\n",
    "In order to prove why the XLV is a good starting point, we constructed our hypothesis around the foudnational idea that a heavy weighted mutual fund would trend along with it's benchmark fund. The INX index returns on average around 8%, a return average higher than most other asset classes, so we would like to provide insights as to just how closely the sample mutual fund (XLV) tracks its benchmark fund (INX).\n",
    "\n",
    "These insights were then gathered and used to inform the stakeholder as to why the XLV was, in fact, a sound investment choice to be"
   ]
  },
  {
   "cell_type": "code",
   "execution_count": 18,
   "metadata": {},
   "outputs": [
    {
     "name": "stdout",
     "output_type": "stream",
     "text": [
      "The autoreload extension is already loaded. To reload it, use:\n",
      "  %reload_ext autoreload\n"
     ]
    }
   ],
   "source": [
    "# Here we are importing the necessary Python libraries which we will use to gather necessary data, perform operations & hypothesis testing, \n",
    "# as well as visualizations\n",
    "import json\n",
    "import requests\n",
    "import pandas as pd\n",
    "import numpy as np\n",
    "import matplotlib.pyplot as plt\n",
    "%matplotlib inline\n",
    "import scipy.stats as stats\n",
    "import math \n",
    "from statsmodels.stats.power import zt_ind_solve_power\n",
    "import asset_cleaner\n",
    "import test_statistics\n",
    "%load_ext autoreload\n",
    "%autoreload"
   ]
  },
  {
   "cell_type": "markdown",
   "metadata": {},
   "source": [
    "## Gathering & Organizing Data - XLV & S&P 500 \n"
   ]
  },
  {
   "cell_type": "markdown",
   "metadata": {},
   "source": [
    "The first thing we will do is gather the necessary economic data on both the XLV and INX funds. Data was collected from the alphavantage.co API. Data for the XLV and INX indices dates back to December 1999 and January 2000, respectively. Now that we have the relevant information for the XLV fund in a dataframe, we will perform operations on the dataframe in order to run our hypothesis testing on. In this case, we create the column \"day_pct_change\" which represents the daily change in price as a percentage.\n"
   ]
  },
  {
   "cell_type": "code",
   "execution_count": 19,
   "metadata": {},
   "outputs": [
    {
     "data": {
      "text/html": [
       "<div>\n",
       "<style scoped>\n",
       "    .dataframe tbody tr th:only-of-type {\n",
       "        vertical-align: middle;\n",
       "    }\n",
       "\n",
       "    .dataframe tbody tr th {\n",
       "        vertical-align: top;\n",
       "    }\n",
       "\n",
       "    .dataframe thead th {\n",
       "        text-align: right;\n",
       "    }\n",
       "</style>\n",
       "<table border=\"1\" class=\"dataframe\">\n",
       "  <thead>\n",
       "    <tr style=\"text-align: right;\">\n",
       "      <th></th>\n",
       "      <th>date</th>\n",
       "      <th>open</th>\n",
       "      <th>high</th>\n",
       "      <th>low</th>\n",
       "      <th>close</th>\n",
       "      <th>volume</th>\n",
       "      <th>day_pct_change</th>\n",
       "      <th>overall_pct_change</th>\n",
       "    </tr>\n",
       "  </thead>\n",
       "  <tbody>\n",
       "    <tr>\n",
       "      <td>0</td>\n",
       "      <td>2019-12-13</td>\n",
       "      <td>100.85</td>\n",
       "      <td>101.47</td>\n",
       "      <td>100.480</td>\n",
       "      <td>100.55</td>\n",
       "      <td>2932027.0</td>\n",
       "      <td>-0.297471</td>\n",
       "      <td>238.666218</td>\n",
       "    </tr>\n",
       "    <tr>\n",
       "      <td>1</td>\n",
       "      <td>2019-12-12</td>\n",
       "      <td>100.07</td>\n",
       "      <td>101.28</td>\n",
       "      <td>100.020</td>\n",
       "      <td>100.95</td>\n",
       "      <td>9769053.0</td>\n",
       "      <td>0.879384</td>\n",
       "      <td>240.013473</td>\n",
       "    </tr>\n",
       "    <tr>\n",
       "      <td>2</td>\n",
       "      <td>2019-12-11</td>\n",
       "      <td>100.01</td>\n",
       "      <td>100.27</td>\n",
       "      <td>99.820</td>\n",
       "      <td>100.02</td>\n",
       "      <td>6010787.0</td>\n",
       "      <td>0.009999</td>\n",
       "      <td>236.881105</td>\n",
       "    </tr>\n",
       "    <tr>\n",
       "      <td>3</td>\n",
       "      <td>2019-12-10</td>\n",
       "      <td>99.69</td>\n",
       "      <td>100.02</td>\n",
       "      <td>99.295</td>\n",
       "      <td>99.93</td>\n",
       "      <td>6027927.0</td>\n",
       "      <td>0.240746</td>\n",
       "      <td>236.577972</td>\n",
       "    </tr>\n",
       "    <tr>\n",
       "      <td>4</td>\n",
       "      <td>2019-12-09</td>\n",
       "      <td>100.45</td>\n",
       "      <td>100.47</td>\n",
       "      <td>99.710</td>\n",
       "      <td>99.71</td>\n",
       "      <td>5148857.0</td>\n",
       "      <td>-0.736685</td>\n",
       "      <td>235.836982</td>\n",
       "    </tr>\n",
       "  </tbody>\n",
       "</table>\n",
       "</div>"
      ],
      "text/plain": [
       "         date    open    high      low   close     volume  day_pct_change  \\\n",
       "0  2019-12-13  100.85  101.47  100.480  100.55  2932027.0       -0.297471   \n",
       "1  2019-12-12  100.07  101.28  100.020  100.95  9769053.0        0.879384   \n",
       "2  2019-12-11  100.01  100.27   99.820  100.02  6010787.0        0.009999   \n",
       "3  2019-12-10   99.69  100.02   99.295   99.93  6027927.0        0.240746   \n",
       "4  2019-12-09  100.45  100.47   99.710   99.71  5148857.0       -0.736685   \n",
       "\n",
       "   overall_pct_change  \n",
       "0          238.666218  \n",
       "1          240.013473  \n",
       "2          236.881105  \n",
       "3          236.577972  \n",
       "4          235.836982  "
      ]
     },
     "execution_count": 19,
     "metadata": {},
     "output_type": "execute_result"
    }
   ],
   "source": [
    "# We are using the asset_cleaner module in order to gather the XLV API data and transform it into a dataframe with operable columns. \n",
    "# This is the basis for all operations completed on XLV data. \n",
    "xlv_symbol = 'XLV'\n",
    "xlv_df = asset_cleaner.clean_asset_data(xlv_symbol)\n",
    "xlv_df.head()"
   ]
  },
  {
   "cell_type": "markdown",
   "metadata": {},
   "source": [
    "We will now repeat this process for the S&P 500 index (INX)."
   ]
  },
  {
   "cell_type": "code",
   "execution_count": 20,
   "metadata": {},
   "outputs": [
    {
     "data": {
      "text/html": [
       "<div>\n",
       "<style scoped>\n",
       "    .dataframe tbody tr th:only-of-type {\n",
       "        vertical-align: middle;\n",
       "    }\n",
       "\n",
       "    .dataframe tbody tr th {\n",
       "        vertical-align: top;\n",
       "    }\n",
       "\n",
       "    .dataframe thead th {\n",
       "        text-align: right;\n",
       "    }\n",
       "</style>\n",
       "<table border=\"1\" class=\"dataframe\">\n",
       "  <thead>\n",
       "    <tr style=\"text-align: right;\">\n",
       "      <th></th>\n",
       "      <th>date</th>\n",
       "      <th>open</th>\n",
       "      <th>high</th>\n",
       "      <th>low</th>\n",
       "      <th>close</th>\n",
       "      <th>volume</th>\n",
       "      <th>day_pct_change</th>\n",
       "      <th>overall_pct_change</th>\n",
       "    </tr>\n",
       "  </thead>\n",
       "  <tbody>\n",
       "    <tr>\n",
       "      <td>0</td>\n",
       "      <td>2019-12-13</td>\n",
       "      <td>3166.6499</td>\n",
       "      <td>3182.6799</td>\n",
       "      <td>3157.8501</td>\n",
       "      <td>3159.8701</td>\n",
       "      <td>6.970563e+08</td>\n",
       "      <td>-0.214100</td>\n",
       "      <td>115.066878</td>\n",
       "    </tr>\n",
       "    <tr>\n",
       "      <td>1</td>\n",
       "      <td>2019-12-12</td>\n",
       "      <td>3141.2300</td>\n",
       "      <td>3176.2800</td>\n",
       "      <td>3138.4700</td>\n",
       "      <td>3168.5701</td>\n",
       "      <td>3.990690e+09</td>\n",
       "      <td>0.870363</td>\n",
       "      <td>115.659017</td>\n",
       "    </tr>\n",
       "    <tr>\n",
       "      <td>2</td>\n",
       "      <td>2019-12-11</td>\n",
       "      <td>3135.7500</td>\n",
       "      <td>3143.9800</td>\n",
       "      <td>3133.2100</td>\n",
       "      <td>3141.6299</td>\n",
       "      <td>3.252540e+09</td>\n",
       "      <td>0.187512</td>\n",
       "      <td>113.825414</td>\n",
       "    </tr>\n",
       "    <tr>\n",
       "      <td>3</td>\n",
       "      <td>2019-12-10</td>\n",
       "      <td>3135.3601</td>\n",
       "      <td>3142.1201</td>\n",
       "      <td>3126.0901</td>\n",
       "      <td>3132.5200</td>\n",
       "      <td>3.343790e+09</td>\n",
       "      <td>-0.090583</td>\n",
       "      <td>113.205377</td>\n",
       "    </tr>\n",
       "    <tr>\n",
       "      <td>4</td>\n",
       "      <td>2019-12-09</td>\n",
       "      <td>3141.8601</td>\n",
       "      <td>3148.8701</td>\n",
       "      <td>3135.4600</td>\n",
       "      <td>3135.9600</td>\n",
       "      <td>3.345990e+09</td>\n",
       "      <td>-0.187790</td>\n",
       "      <td>113.439510</td>\n",
       "    </tr>\n",
       "  </tbody>\n",
       "</table>\n",
       "</div>"
      ],
      "text/plain": [
       "         date       open       high        low      close        volume  \\\n",
       "0  2019-12-13  3166.6499  3182.6799  3157.8501  3159.8701  6.970563e+08   \n",
       "1  2019-12-12  3141.2300  3176.2800  3138.4700  3168.5701  3.990690e+09   \n",
       "2  2019-12-11  3135.7500  3143.9800  3133.2100  3141.6299  3.252540e+09   \n",
       "3  2019-12-10  3135.3601  3142.1201  3126.0901  3132.5200  3.343790e+09   \n",
       "4  2019-12-09  3141.8601  3148.8701  3135.4600  3135.9600  3.345990e+09   \n",
       "\n",
       "   day_pct_change  overall_pct_change  \n",
       "0       -0.214100          115.066878  \n",
       "1        0.870363          115.659017  \n",
       "2        0.187512          113.825414  \n",
       "3       -0.090583          113.205377  \n",
       "4       -0.187790          113.439510  "
      ]
     },
     "execution_count": 20,
     "metadata": {},
     "output_type": "execute_result"
    }
   ],
   "source": [
    "sp_symbol = 'INX'\n",
    "sp_df = asset_cleaner.clean_asset_data(sp_symbol)\n",
    "sp_df.head()"
   ]
  },
  {
   "cell_type": "markdown",
   "metadata": {},
   "source": [
    "## Hypothesis Testing: XLV & S&P 500"
   ]
  },
  {
   "cell_type": "markdown",
   "metadata": {},
   "source": [
    "Now that all of our necessary data is gathered and average daily percent change is calculated for each of the indices, we will develop our hypothesis for testing. The XLV contains approximately 10% of the equities which make up the overall benchmark INX. Due to this weighting, one would expect for the average movements to trend in general accoreance with each other. These tests will determine just how much they trend together. "
   ]
  },
  {
   "cell_type": "markdown",
   "metadata": {},
   "source": [
    "Null Hypothesis: The daily avg. percent change in the XLV index fund **is not different** to that of the overall S&P 500\n",
    "\n",
    "Alternative Hypothesis: The daily avg. percebt change in the XLV index fund **is different** than that of the overall S&P 500"
   ]
  },
  {
   "cell_type": "code",
   "execution_count": 21,
   "metadata": {},
   "outputs": [],
   "source": [
    "# We are taking 5000 random samples of 50 different daily percent movements\n",
    "# of both XLV and INX daily percent changes, respectively. These average percent movements will then \n",
    "# be used to visualize the overall mean movement of each of the indices.\n",
    "\n",
    "xlv_avg_percent_moves = []\n",
    "sp_avg_percent_moves = []\n",
    "\n",
    "for i in range(5000):\n",
    "    \n",
    "    sample_xlv = xlv_df.sample(n = 50, random_state = i)\n",
    "    xlv_avg_percent_moves.append(sample_xlv.day_pct_change.mean())\n",
    "    \n",
    "    sample_sp = sp_df.sample(n = 50, random_state = i)\n",
    "    sp_avg_percent_moves.append(sample_sp.day_pct_change.mean())"
   ]
  },
  {
   "cell_type": "code",
   "execution_count": 22,
   "metadata": {},
   "outputs": [
    {
     "data": {
      "image/png": "[encoded data removed]",
      "text/plain": [
       "<Figure size 432x288 with 1 Axes>"
      ]
     },
     "metadata": {},
     "output_type": "display_data"
    }
   ],
   "source": [
    "# We are visualizing the histogram of both the XLV and INX indices on top of each other. \n",
    "# The y-axis represents the frequency of a mean ocurring, and the x-axis represents the daily\n",
    "# average percent movement.\n",
    "\n",
    "plt.style.use('ggplot')\n",
    "plt.hist(xlv_avg_percent_moves, bins = 500, color = 'red', label = 'XLV Mutual Fund');\n",
    "plt.hist(sp_avg_percent_moves, bins = 500, color = 'blue', label = 'S&P 500 Index');\n",
    "plt.xlabel('Avg. Daily % Change');\n",
    "plt.title('Daily Rate Change Histogram of XLV & INX Indices');\n",
    "plt.legend();"
   ]
  },
  {
   "cell_type": "markdown",
   "metadata": {},
   "source": [
    "The above graph shows us that there is etreme similarities in average daily percent change between both the INX and XLV indices. To quantify just how similar these two indices are in movement, we will conduct a series of statistical tests.\n",
    "\n",
    "The first statistic which we will obtain is a Z-stat. This Z-stat will tell us within how many standard deviations from the overall mean each of these indices is. Becuase the z-stat is so low, as shown below, we can be almost certain that the mean daily changes of each index are not different."
   ]
  },
  {
   "cell_type": "code",
   "execution_count": 23,
   "metadata": {},
   "outputs": [
    {
     "name": "stdout",
     "output_type": "stream",
     "text": [
      " Z-stat; 0.0 \n",
      " P-Value: 0.5 \n",
      " Standard Error: 0.0022410035177593108\n"
     ]
    }
   ],
   "source": [
    "# Here we are using a function which is contained in another module, test_statistics.py, \n",
    "# and imported for operation. The test calculates the Z-stat, P-value, and Standard Error,\n",
    "\n",
    "test_statistics.calculate_test_stats(sp_avg_percent_moves, sp_avg_percent_moves)"
   ]
  },
  {
   "cell_type": "markdown",
   "metadata": {},
   "source": [
    "The other two statistics, the P-value and Standard Error, further help reinforce our notions that there is no difference in means between the XVL and INX. The p-value represents the likelihood that the mean of the benchmark population (INX) is significantly different from that of the sample (XLV). A p-value of 0.05 would represent significant difference. Therefore, with a p-value of 0.5, we can confidently conclude that we fail to reject the null hypothesis. Furthermore, the standard error of the sample XLV, which represents the how spread out the sample XLV's data is compared to the INX benchmark data, is signfiicantly small. Further reinforcing our hypothesis result."
   ]
  },
  {
   "cell_type": "markdown",
   "metadata": {},
   "source": [
    "## Gathering & Organizing Data - Johnson & Johnson \n"
   ]
  },
  {
   "cell_type": "markdown",
   "metadata": {},
   "source": [
    "We have seen that the XLV closely trends with the INX in part due to the extremely close average daily price change of the two indices. As stated before, the XLV is one of the heaviest weighted funds within the S&P 500. Looking inwards, the larget componoent of the XLV fund is the Johnson & Johnson equity (JNJ). JNJ is the 9th heaviest weighted equity within the overall INX, so with the above knowledge we can presume that the weighting of the JNJ equity will result in close trending with the XLV and benchmark INX fund. We will repeat the data gathering and hypothesis testing for JNJ in relation to it's overall benchnmark INX."
   ]
  },
  {
   "cell_type": "code",
   "execution_count": 25,
   "metadata": {},
   "outputs": [
    {
     "data": {
      "text/html": [
       "<div>\n",
       "<style scoped>\n",
       "    .dataframe tbody tr th:only-of-type {\n",
       "        vertical-align: middle;\n",
       "    }\n",
       "\n",
       "    .dataframe tbody tr th {\n",
       "        vertical-align: top;\n",
       "    }\n",
       "\n",
       "    .dataframe thead th {\n",
       "        text-align: right;\n",
       "    }\n",
       "</style>\n",
       "<table border=\"1\" class=\"dataframe\">\n",
       "  <thead>\n",
       "    <tr style=\"text-align: right;\">\n",
       "      <th></th>\n",
       "      <th>date</th>\n",
       "      <th>open</th>\n",
       "      <th>high</th>\n",
       "      <th>low</th>\n",
       "      <th>close</th>\n",
       "      <th>volume</th>\n",
       "      <th>day_pct_change</th>\n",
       "      <th>overall_pct_change</th>\n",
       "    </tr>\n",
       "  </thead>\n",
       "  <tbody>\n",
       "    <tr>\n",
       "      <td>0</td>\n",
       "      <td>2019-12-13</td>\n",
       "      <td>141.10</td>\n",
       "      <td>141.80</td>\n",
       "      <td>140.3100</td>\n",
       "      <td>140.355</td>\n",
       "      <td>1346032.0</td>\n",
       "      <td>-0.527994</td>\n",
       "      <td>48.319772</td>\n",
       "    </tr>\n",
       "    <tr>\n",
       "      <td>1</td>\n",
       "      <td>2019-12-12</td>\n",
       "      <td>141.32</td>\n",
       "      <td>142.06</td>\n",
       "      <td>140.7300</td>\n",
       "      <td>141.340</td>\n",
       "      <td>5011366.0</td>\n",
       "      <td>0.014152</td>\n",
       "      <td>49.360668</td>\n",
       "    </tr>\n",
       "    <tr>\n",
       "      <td>2</td>\n",
       "      <td>2019-12-11</td>\n",
       "      <td>140.93</td>\n",
       "      <td>141.98</td>\n",
       "      <td>140.6300</td>\n",
       "      <td>140.980</td>\n",
       "      <td>6498780.0</td>\n",
       "      <td>0.035479</td>\n",
       "      <td>48.980239</td>\n",
       "    </tr>\n",
       "    <tr>\n",
       "      <td>3</td>\n",
       "      <td>2019-12-10</td>\n",
       "      <td>140.80</td>\n",
       "      <td>141.00</td>\n",
       "      <td>139.9100</td>\n",
       "      <td>139.990</td>\n",
       "      <td>5310334.0</td>\n",
       "      <td>-0.575284</td>\n",
       "      <td>47.934059</td>\n",
       "    </tr>\n",
       "    <tr>\n",
       "      <td>4</td>\n",
       "      <td>2019-12-09</td>\n",
       "      <td>140.39</td>\n",
       "      <td>140.81</td>\n",
       "      <td>140.0601</td>\n",
       "      <td>140.500</td>\n",
       "      <td>4240984.0</td>\n",
       "      <td>0.078353</td>\n",
       "      <td>48.473000</td>\n",
       "    </tr>\n",
       "  </tbody>\n",
       "</table>\n",
       "</div>"
      ],
      "text/plain": [
       "         date    open    high       low    close     volume  day_pct_change  \\\n",
       "0  2019-12-13  141.10  141.80  140.3100  140.355  1346032.0       -0.527994   \n",
       "1  2019-12-12  141.32  142.06  140.7300  141.340  5011366.0        0.014152   \n",
       "2  2019-12-11  140.93  141.98  140.6300  140.980  6498780.0        0.035479   \n",
       "3  2019-12-10  140.80  141.00  139.9100  139.990  5310334.0       -0.575284   \n",
       "4  2019-12-09  140.39  140.81  140.0601  140.500  4240984.0        0.078353   \n",
       "\n",
       "   overall_pct_change  \n",
       "0           48.319772  \n",
       "1           49.360668  \n",
       "2           48.980239  \n",
       "3           47.934059  \n",
       "4           48.473000  "
      ]
     },
     "execution_count": 25,
     "metadata": {},
     "output_type": "execute_result"
    }
   ],
   "source": [
    "# Loading and gathering data for JNJ into operable dataframe as done before for XLV/INX\n",
    "jj_symbol = 'JNJ'\n",
    "jj_df = asset_cleaner.clean_asset_data(jj_symbol)\n",
    "jj_df.head()"
   ]
  },
  {
   "cell_type": "markdown",
   "metadata": {},
   "source": [
    "## Hypothesis Testing: JNJ & INX"
   ]
  },
  {
   "cell_type": "markdown",
   "metadata": {},
   "source": [
    "We will now conduct the same hypothesis testing for the JNJ sample against the INX index. \n",
    "\n",
    "Null Hypothesis: The daily avg. percent change in the JNJ index fund **is not different** to that of the overall S&P 500\n",
    "\n",
    "Alternative Hypothesis: The daily avg. percent change in the JNJ index fund **is different** than that of the overall S&P 500"
   ]
  },
  {
   "cell_type": "code",
   "execution_count": 28,
   "metadata": {},
   "outputs": [],
   "source": [
    "# We are taking 5000 random samples of 50 different daily percent movements\n",
    "# of both JNJ and INX daily percent changes, respectively. These average percent movements will then \n",
    "# be used to visualize the overall mean movement of each of the indices.\n",
    "jj_avg_percent_moves = []\n",
    "\n",
    "for i in range(5000):\n",
    "    \n",
    "    sample_jj = jj_df.sample(n = 50, random_state = i)\n",
    "    jj_avg_percent_moves.append(sample_jj.day_pct_change.mean())"
   ]
  },
  {
   "cell_type": "code",
   "execution_count": 34,
   "metadata": {},
   "outputs": [
    {
     "data": {
      "image/png": "[encoded data removed]",
      "text/plain": [
       "<Figure size 432x288 with 1 Axes>"
      ]
     },
     "metadata": {},
     "output_type": "display_data"
    }
   ],
   "source": [
    "# We are visualizing the histogram of both the JNJ and INX indices on top of each other. \n",
    "# The y-axis represents the frequency of a mean ocurring, and the x-axis represents the daily\n",
    "# average percent movement.\n",
    "\n",
    "plt.style.use('ggplot')\n",
    "plt.hist(jj_avg_percent_moves, bins = 500, color = 'red', label = 'Johnston & Johnston');\n",
    "plt.hist(sp_avg_percent_moves, bins = 500, color = 'blue', label = 'S&P 500');\n",
    "plt.xlabel('Average Daily Percent Change')\n",
    "plt.title('Daily Rate Change of Johnston & Johnston Equity Histogram')\n",
    "# plt.hist(xlv_avg_percent_moves, bins = 500, color = 'pink', label = 'XLV');\n",
    "plt.legend();  "
   ]
  },
  {
   "cell_type": "markdown",
   "metadata": {},
   "source": [
    "The above graph once again shows the extreme similarities between the mean daily percent change of JNJ & INX indices. To confirm our findings and reject the null hypothesis, we will again conduct the z-test and obtain the p-value and standard error for statistical evidence."
   ]
  },
  {
   "cell_type": "code",
   "execution_count": 35,
   "metadata": {},
   "outputs": [
    {
     "name": "stdout",
     "output_type": "stream",
     "text": [
      " Z-stat; -0.0 \n",
      " P-Value: 0.5 \n",
      " Standard Error: 0.0022410035177593108\n"
     ]
    }
   ],
   "source": [
    "# Here we are using a function which is contained in another module, test_statistics.py, \n",
    "# and imported for operation. The test calculates the Z-stat, P-value, and Standard Error,\n",
    "test_statistics.calculate_test_stats(jj_avg_percent_moves, sp_avg_percent_moves)"
   ]
  },
  {
   "cell_type": "markdown",
   "metadata": {},
   "source": [
    "Once again, the test statistics allow us to confidently fail to reject the null hypothesis that the JNJ & INX mean daily percent changes are **not different**. "
   ]
  },
  {
   "cell_type": "markdown",
   "metadata": {},
   "source": [
    "## Gathered Insights"
   ]
  },
  {
   "cell_type": "markdown",
   "metadata": {},
   "source": [
    "Upon these findings, we can now take our statistical insights back to our stakeholder. From foundational investment practices, because our stakeholder would like to begin an investment portfolio, diversification of assets with aims of successful long term returns is essential when beginning a portfolio. Due to the XLV healthcare fund's sheer size and trending with it's benchmark INX (which returns an avg. annual return of 8%), we can recommend to the stakeholder that it is in fact a very solid mutual fund to begin their portfolio with. Furthermore, with portfolio diversification in mind, we can also recommend the JNJ equity for similar weighting & trending principles to it's benchmark S&P 500 index. "
   ]
  },
  {
   "cell_type": "code",
   "execution_count": null,
   "metadata": {},
   "outputs": [],
   "source": []
  }
 ],
 "metadata": {
  "kernelspec": {
   "display_name": "Python 3",
   "language": "python",
   "name": "python3"
  },
  "language_info": {
   "codemirror_mode": {
    "name": "ipython",
    "version": 3
   },
   "file_extension": ".py",
   "mimetype": "text/x-python",
   "name": "python",
   "nbconvert_exporter": "python",
   "pygments_lexer": "ipython3",
   "version": "3.7.4"
  }
 },
 "nbformat": 4,
 "nbformat_minor": 4
}
