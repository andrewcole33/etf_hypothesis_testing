{
 "cells": [
  {
   "cell_type": "markdown",
   "metadata": {},
   "source": [
    "# Module 3 - Asset Movement - Non-Technical Document"
   ]
  },
  {
   "cell_type": "markdown",
   "metadata": {},
   "source": [
    "## Andrew Cole & Will Herzog"
   ]
  },
  {
   "cell_type": "markdown",
   "metadata": {},
   "source": [
    "Our main objective was to provide a prospective stakeholder with insights driven from statistical hypothesis testing on gathered data. Our perspective stakeholder is a young professional who is looking to begin a financial investment portfolio and is unaware of a good place to begin.\n",
    "\n",
    "In order to provide insights, we decided to look at the performance of a particular mutual fund's performance relative to its benchmark index fund. Mutual funds provide investors with diversified access to a variety of equities at a relatively low cost. The XLV healthcare mutual fund (ticker symbol: XLV) was selected due to it's strong performance history as well as it's heavy weight relative to it's benchmark index, the S&P 500 (ticker symbol: INX).\n",
    "\n",
    "In order to prove why the XLV is a good starting point, we constructed our hypothesis around the foudnational idea that a heavy weighted mutual fund would trend along with it's benchmark fund. The INX index returns on average around 8%, a return average higher than most other asset classes, so we would like to provide insights as to just how closely the sample mutual fund (XLV) tracks its benchmark fund (INX).\n",
    "\n",
    "These insights were then gathered and used to inform the stakeholder as to why the XLV was, in fact, a sound investment choice to be"
   ]
  },
  {
   "cell_type": "code",
   "execution_count": 1,
   "metadata": {},
   "outputs": [],
   "source": [
    "# Here we are importing the necessary Python libraries which we will use to gather necessary data, perform operations & hypothesis testing, \n",
    "# as well as visualizations\n",
    "import json\n",
    "import requests\n",
    "import pandas as pd\n",
    "import numpy as np\n",
    "import matplotlib.pyplot as plt\n",
    "%matplotlib inline\n",
    "import scipy.stats as stats\n",
    "import math \n",
    "from statsmodels.stats.power import zt_ind_solve_power\n",
    "import asset_cleaner\n",
    "import test_statistics\n",
    "%load_ext autoreload\n",
    "%autoreload"
   ]
  },
  {
   "cell_type": "markdown",
   "metadata": {},
   "source": [
    "## Gathering & Organizing Data - XLV & S&P 500 \n"
   ]
  },
  {
   "cell_type": "markdown",
   "metadata": {},
   "source": [
    "The first thing we will do is gather the necessary economic data on both the XLV and INX funds. Data was collected from the alphavantage.co API. Data for the XLV and INX indices dates back to December 1999 and January 2000, respectively. Now that we have the relevant information for the XLV fund in a dataframe, we will perform operations on the dataframe in order to run our hypothesis testing on. In this case, we create the column \"day_pct_change\" which represents the daily change in price as a percentage.\n"
   ]
  },
  {
   "cell_type": "code",
   "execution_count": 2,
   "metadata": {},
   "outputs": [
    {
     "data": {
      "text/html": [
       "<div>\n",
       "<style scoped>\n",
       "    .dataframe tbody tr th:only-of-type {\n",
       "        vertical-align: middle;\n",
       "    }\n",
       "\n",
       "    .dataframe tbody tr th {\n",
       "        vertical-align: top;\n",
       "    }\n",
       "\n",
       "    .dataframe thead th {\n",
       "        text-align: right;\n",
       "    }\n",
       "</style>\n",
       "<table border=\"1\" class=\"dataframe\">\n",
       "  <thead>\n",
       "    <tr style=\"text-align: right;\">\n",
       "      <th></th>\n",
       "      <th>date</th>\n",
       "      <th>open</th>\n",
       "      <th>high</th>\n",
       "      <th>low</th>\n",
       "      <th>close</th>\n",
       "      <th>volume</th>\n",
       "      <th>day_pct_change</th>\n",
       "      <th>overall_pct_change</th>\n",
       "    </tr>\n",
       "  </thead>\n",
       "  <tbody>\n",
       "    <tr>\n",
       "      <td>0</td>\n",
       "      <td>2019-12-12</td>\n",
       "      <td>100.07</td>\n",
       "      <td>101.28</td>\n",
       "      <td>100.020</td>\n",
       "      <td>100.95</td>\n",
       "      <td>9769053.0</td>\n",
       "      <td>0.879384</td>\n",
       "      <td>240.013473</td>\n",
       "    </tr>\n",
       "    <tr>\n",
       "      <td>1</td>\n",
       "      <td>2019-12-11</td>\n",
       "      <td>100.01</td>\n",
       "      <td>100.27</td>\n",
       "      <td>99.820</td>\n",
       "      <td>100.02</td>\n",
       "      <td>6010787.0</td>\n",
       "      <td>0.009999</td>\n",
       "      <td>236.881105</td>\n",
       "    </tr>\n",
       "    <tr>\n",
       "      <td>2</td>\n",
       "      <td>2019-12-10</td>\n",
       "      <td>99.69</td>\n",
       "      <td>100.02</td>\n",
       "      <td>99.295</td>\n",
       "      <td>99.93</td>\n",
       "      <td>6027927.0</td>\n",
       "      <td>0.240746</td>\n",
       "      <td>236.577972</td>\n",
       "    </tr>\n",
       "    <tr>\n",
       "      <td>3</td>\n",
       "      <td>2019-12-09</td>\n",
       "      <td>100.45</td>\n",
       "      <td>100.47</td>\n",
       "      <td>99.710</td>\n",
       "      <td>99.71</td>\n",
       "      <td>5148857.0</td>\n",
       "      <td>-0.736685</td>\n",
       "      <td>235.836982</td>\n",
       "    </tr>\n",
       "    <tr>\n",
       "      <td>4</td>\n",
       "      <td>2019-12-06</td>\n",
       "      <td>100.27</td>\n",
       "      <td>100.75</td>\n",
       "      <td>100.200</td>\n",
       "      <td>100.41</td>\n",
       "      <td>5658514.0</td>\n",
       "      <td>0.139623</td>\n",
       "      <td>238.194678</td>\n",
       "    </tr>\n",
       "  </tbody>\n",
       "</table>\n",
       "</div>"
      ],
      "text/plain": [
       "         date    open    high      low   close     volume  day_pct_change  \\\n",
       "0  2019-12-12  100.07  101.28  100.020  100.95  9769053.0        0.879384   \n",
       "1  2019-12-11  100.01  100.27   99.820  100.02  6010787.0        0.009999   \n",
       "2  2019-12-10   99.69  100.02   99.295   99.93  6027927.0        0.240746   \n",
       "3  2019-12-09  100.45  100.47   99.710   99.71  5148857.0       -0.736685   \n",
       "4  2019-12-06  100.27  100.75  100.200  100.41  5658514.0        0.139623   \n",
       "\n",
       "   overall_pct_change  \n",
       "0          240.013473  \n",
       "1          236.881105  \n",
       "2          236.577972  \n",
       "3          235.836982  \n",
       "4          238.194678  "
      ]
     },
     "execution_count": 2,
     "metadata": {},
     "output_type": "execute_result"
    }
   ],
   "source": [
    "# We are using the asset_cleaner module in order to gather the XLV API data and transform it into a dataframe with operable columns. \n",
    "# This is the basis for all operations completed on XLV data. \n",
    "xlv_symbol = 'XLV'\n",
    "xlv_df = asset_cleaner.clean_asset_data(xlv_symbol)\n",
    "xlv_df.head()"
   ]
  },
  {
   "cell_type": "markdown",
   "metadata": {},
   "source": [
    "We will now repeat this process for the S&P 500 index (INX)."
   ]
  },
  {
   "cell_type": "code",
   "execution_count": 6,
   "metadata": {},
   "outputs": [
    {
     "data": {
      "text/html": [
       "<div>\n",
       "<style scoped>\n",
       "    .dataframe tbody tr th:only-of-type {\n",
       "        vertical-align: middle;\n",
       "    }\n",
       "\n",
       "    .dataframe tbody tr th {\n",
       "        vertical-align: top;\n",
       "    }\n",
       "\n",
       "    .dataframe thead th {\n",
       "        text-align: right;\n",
       "    }\n",
       "</style>\n",
       "<table border=\"1\" class=\"dataframe\">\n",
       "  <thead>\n",
       "    <tr style=\"text-align: right;\">\n",
       "      <th></th>\n",
       "      <th>date</th>\n",
       "      <th>open</th>\n",
       "      <th>high</th>\n",
       "      <th>low</th>\n",
       "      <th>close</th>\n",
       "      <th>volume</th>\n",
       "      <th>day_pct_change</th>\n",
       "      <th>overall_pct_change</th>\n",
       "    </tr>\n",
       "  </thead>\n",
       "  <tbody>\n",
       "    <tr>\n",
       "      <td>0</td>\n",
       "      <td>2019-12-12</td>\n",
       "      <td>3141.2300</td>\n",
       "      <td>3176.2800</td>\n",
       "      <td>3138.4700</td>\n",
       "      <td>3168.5701</td>\n",
       "      <td>2.217305e+09</td>\n",
       "      <td>0.870363</td>\n",
       "      <td>115.659017</td>\n",
       "    </tr>\n",
       "    <tr>\n",
       "      <td>1</td>\n",
       "      <td>2019-12-11</td>\n",
       "      <td>3135.7500</td>\n",
       "      <td>3143.9800</td>\n",
       "      <td>3133.2100</td>\n",
       "      <td>3141.6299</td>\n",
       "      <td>3.252540e+09</td>\n",
       "      <td>0.187512</td>\n",
       "      <td>113.825414</td>\n",
       "    </tr>\n",
       "    <tr>\n",
       "      <td>2</td>\n",
       "      <td>2019-12-10</td>\n",
       "      <td>3135.3601</td>\n",
       "      <td>3142.1201</td>\n",
       "      <td>3126.0901</td>\n",
       "      <td>3132.5200</td>\n",
       "      <td>3.343790e+09</td>\n",
       "      <td>-0.090583</td>\n",
       "      <td>113.205377</td>\n",
       "    </tr>\n",
       "    <tr>\n",
       "      <td>3</td>\n",
       "      <td>2019-12-09</td>\n",
       "      <td>3141.8601</td>\n",
       "      <td>3148.8701</td>\n",
       "      <td>3135.4600</td>\n",
       "      <td>3135.9600</td>\n",
       "      <td>3.345990e+09</td>\n",
       "      <td>-0.187790</td>\n",
       "      <td>113.439510</td>\n",
       "    </tr>\n",
       "    <tr>\n",
       "      <td>4</td>\n",
       "      <td>2019-12-06</td>\n",
       "      <td>3134.6201</td>\n",
       "      <td>3150.6001</td>\n",
       "      <td>3134.6201</td>\n",
       "      <td>3145.9099</td>\n",
       "      <td>3.479480e+09</td>\n",
       "      <td>0.360165</td>\n",
       "      <td>114.116719</td>\n",
       "    </tr>\n",
       "  </tbody>\n",
       "</table>\n",
       "</div>"
      ],
      "text/plain": [
       "         date       open       high        low      close        volume  \\\n",
       "0  2019-12-12  3141.2300  3176.2800  3138.4700  3168.5701  2.217305e+09   \n",
       "1  2019-12-11  3135.7500  3143.9800  3133.2100  3141.6299  3.252540e+09   \n",
       "2  2019-12-10  3135.3601  3142.1201  3126.0901  3132.5200  3.343790e+09   \n",
       "3  2019-12-09  3141.8601  3148.8701  3135.4600  3135.9600  3.345990e+09   \n",
       "4  2019-12-06  3134.6201  3150.6001  3134.6201  3145.9099  3.479480e+09   \n",
       "\n",
       "   day_pct_change  overall_pct_change  \n",
       "0        0.870363          115.659017  \n",
       "1        0.187512          113.825414  \n",
       "2       -0.090583          113.205377  \n",
       "3       -0.187790          113.439510  \n",
       "4        0.360165          114.116719  "
      ]
     },
     "execution_count": 6,
     "metadata": {},
     "output_type": "execute_result"
    }
   ],
   "source": [
    "sp_symbol = 'INX'\n",
    "sp_df = asset_cleaner.clean_asset_data(sp_symbol)\n",
    "sp_df.head()"
   ]
  },
  {
   "cell_type": "markdown",
   "metadata": {},
   "source": [
    "## Hypothesis Testing: XLV & S&P 500"
   ]
  },
  {
   "cell_type": "markdown",
   "metadata": {},
   "source": [
    "Now that all of our necessary data is gathered and average daily percent change is calculated for each of the indices, we will develop our hypothesis for testing. The XLV contains approximately 10% of the equities which make up the overall benchmark INX. Due to this weighting, one would expect for the average movements to trend in general accoreance with each other. These tests will determine just how much they trend together. "
   ]
  },
  {
   "cell_type": "markdown",
   "metadata": {},
   "source": [
    "Null Hypothesis: The daily avg. percent change in the XLV index fund **is not different** to that of the overall S&P 500\n",
    "Alternative Hypothesis: The daily avg. percebt change in the XLV index fund *is different* than that of the overall S&P 500"
   ]
  },
  {
   "cell_type": "code",
   "execution_count": 7,
   "metadata": {},
   "outputs": [],
   "source": [
    "# We are taking 5000 random samples of 50 different daily percent movements\n",
    "# of both XLV and INX daily percent changes, respectively. These average percent movements will then \n",
    "# be used to visualize the overall mean movement of each of the indices.\n",
    "\n",
    "xlv_avg_percent_moves = []\n",
    "sp_avg_percent_moves = []\n",
    "\n",
    "for i in range(5000):\n",
    "    \n",
    "    sample_xlv = xlv_df.sample(n = 50, random_state = i)\n",
    "    xlv_avg_percent_moves.append(sample_xlv.day_pct_change.mean())\n",
    "    \n",
    "    sample_sp = sp_df.sample(n = 50, random_state = i)\n",
    "    sp_avg_percent_moves.append(sample_sp.day_pct_change.mean())"
   ]
  },
  {
   "cell_type": "code",
   "execution_count": 8,
   "metadata": {},
   "outputs": [
    {
     "data": {
      "image/png": "[encoded data removed]",
      "text/plain": [
       "<Figure size 432x288 with 1 Axes>"
      ]
     },
     "metadata": {},
     "output_type": "display_data"
    }
   ],
   "source": [
    "# We are visualizing the histogram of both the XLV and INX indices on top of each other. \n",
    "# The y-axis represents the frequency of a mean ocurring, and the x-axis represents the daily\n",
    "# average percent movement.\n",
    "\n",
    "plt.style.use('ggplot')\n",
    "plt.hist(xlv_avg_percent_moves, bins = 500, color = 'red', label = 'XLV Mutual Fund');\n",
    "plt.hist(sp_avg_percent_moves, bins = 500, color = 'blue', label = 'S&P 500 Index');\n",
    "plt.xlabel('Avg. Daily % Change');\n",
    "plt.title('Daily Rate Change Histogram of XLV & INX Indices');\n",
    "plt.legend();"
   ]
  },
  {
   "cell_type": "markdown",
   "metadata": {},
   "source": [
    "The above graph shows us that there is etreme similarities in average daily percent change between both the INX and XLV indices. To quantify just how similar these two indices are in movement, we will conduct a series of statistical tests.\n",
    "\n",
    "The first statistic which we will obtain is a Z-stat. This Z-stat will tell us within how many standard deviations from the overall mean each of these indices is."
   ]
  },
  {
   "cell_type": "code",
   "execution_count": null,
   "metadata": {},
   "outputs": [],
   "source": []
  }
 ],
 "metadata": {
  "kernelspec": {
   "display_name": "Python 3",
   "language": "python",
   "name": "python3"
  },
  "language_info": {
   "codemirror_mode": {
    "name": "ipython",
    "version": 3
   },
   "file_extension": ".py",
   "mimetype": "text/x-python",
   "name": "python",
   "nbconvert_exporter": "python",
   "pygments_lexer": "ipython3",
   "version": "3.6.9"
  }
 },
 "nbformat": 4,
 "nbformat_minor": 4
}
