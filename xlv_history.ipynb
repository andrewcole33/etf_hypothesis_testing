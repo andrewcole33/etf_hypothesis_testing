{
 "cells": [
  {
   "cell_type": "code",
   "execution_count": 1,
   "metadata": {},
   "outputs": [],
   "source": [
    "import json\n",
    "import requests\n",
    "import pandas as pd\n",
    "import matplotlib.pyplot as plt\n",
    "import scipy.stats as stats\n",
    "import math"
   ]
  },
  {
   "cell_type": "code",
   "execution_count": 2,
   "metadata": {},
   "outputs": [],
   "source": [
    "alpha_key = 'Y8YQFOIVHPA381U4'\n",
    "function = 'TIME_SERIES_DAILY'\n",
    "symbol = 'XLV'\n"
   ]
  },
  {
   "cell_type": "markdown",
   "metadata": {},
   "source": [
    "## Load XLV API \n",
    "#### Create percent change column"
   ]
  },
  {
   "cell_type": "code",
   "execution_count": 3,
   "metadata": {},
   "outputs": [],
   "source": [
    "url = f\"https://www.alphavantage.co/query?function={function}&symbol={symbol}&outputsize=full&apikey={alpha_key}\""
   ]
  },
  {
   "cell_type": "code",
   "execution_count": 4,
   "metadata": {
    "scrolled": true
   },
   "outputs": [],
   "source": [
    "response = requests.get(url)\n",
    "xlv_file = response.json()"
   ]
  },
  {
   "cell_type": "code",
   "execution_count": 5,
   "metadata": {
    "scrolled": true
   },
   "outputs": [],
   "source": [
    "xlv_values = xlv_file['Time Series (Daily)']"
   ]
  },
  {
   "cell_type": "code",
   "execution_count": 6,
   "metadata": {},
   "outputs": [],
   "source": [
    "for value in xlv_values:\n",
    "    open_prices = []"
   ]
  },
  {
   "cell_type": "code",
   "execution_count": 7,
   "metadata": {
    "scrolled": true
   },
   "outputs": [],
   "source": [
    "df = pd.DataFrame(xlv_values)\n",
    "xlv_df = df.T\n",
    "column_head = ['open', 'high', 'low', 'close', 'volume']\n",
    "xlv_df.columns = column_head\n",
    "xlv_df.reset_index(inplace = True)"
   ]
  },
  {
   "cell_type": "code",
   "execution_count": 8,
   "metadata": {},
   "outputs": [],
   "source": [
    "xlv_df['open'] = xlv_df.open.astype(float)\n",
    "xlv_df['high'] = xlv_df.high.astype(float)\n",
    "xlv_df['low'] = xlv_df.low.astype(float)\n",
    "xlv_df['close'] = xlv_df.close.astype(float)\n",
    "xlv_df['volume'] = xlv_df.volume.astype(float)"
   ]
  },
  {
   "cell_type": "code",
   "execution_count": 9,
   "metadata": {},
   "outputs": [],
   "source": [
    "xlv_df['day_pct_change'] = (xlv_df['close']-xlv_df['open'])/xlv_df['open']*100"
   ]
  },
  {
   "cell_type": "code",
   "execution_count": 10,
   "metadata": {},
   "outputs": [],
   "source": [
    "for entry in xlv_df:\n",
    "    pct_change = (xlv_df['close'] - xlv_df['open'].iloc[-1])/xlv_df['open'].iloc[-1]\n",
    "    xlv_df['overall_pct_change'] = pct_change * 100"
   ]
  },
  {
   "cell_type": "code",
   "execution_count": 11,
   "metadata": {},
   "outputs": [
    {
     "data": {
      "text/html": [
       "<div>\n",
       "<style scoped>\n",
       "    .dataframe tbody tr th:only-of-type {\n",
       "        vertical-align: middle;\n",
       "    }\n",
       "\n",
       "    .dataframe tbody tr th {\n",
       "        vertical-align: top;\n",
       "    }\n",
       "\n",
       "    .dataframe thead th {\n",
       "        text-align: right;\n",
       "    }\n",
       "</style>\n",
       "<table border=\"1\" class=\"dataframe\">\n",
       "  <thead>\n",
       "    <tr style=\"text-align: right;\">\n",
       "      <th></th>\n",
       "      <th>index</th>\n",
       "      <th>open</th>\n",
       "      <th>high</th>\n",
       "      <th>low</th>\n",
       "      <th>close</th>\n",
       "      <th>volume</th>\n",
       "      <th>day_pct_change</th>\n",
       "      <th>overall_pct_change</th>\n",
       "    </tr>\n",
       "  </thead>\n",
       "  <tbody>\n",
       "    <tr>\n",
       "      <td>0</td>\n",
       "      <td>2019-12-11</td>\n",
       "      <td>100.01</td>\n",
       "      <td>100.27</td>\n",
       "      <td>99.880</td>\n",
       "      <td>99.99</td>\n",
       "      <td>658539.0</td>\n",
       "      <td>-0.019998</td>\n",
       "      <td>235.199464</td>\n",
       "    </tr>\n",
       "    <tr>\n",
       "      <td>1</td>\n",
       "      <td>2019-12-10</td>\n",
       "      <td>99.69</td>\n",
       "      <td>100.02</td>\n",
       "      <td>99.295</td>\n",
       "      <td>99.93</td>\n",
       "      <td>6024565.0</td>\n",
       "      <td>0.240746</td>\n",
       "      <td>234.998324</td>\n",
       "    </tr>\n",
       "    <tr>\n",
       "      <td>2</td>\n",
       "      <td>2019-12-09</td>\n",
       "      <td>100.45</td>\n",
       "      <td>100.47</td>\n",
       "      <td>99.710</td>\n",
       "      <td>99.71</td>\n",
       "      <td>5148857.0</td>\n",
       "      <td>-0.736685</td>\n",
       "      <td>234.260811</td>\n",
       "    </tr>\n",
       "    <tr>\n",
       "      <td>3</td>\n",
       "      <td>2019-12-06</td>\n",
       "      <td>100.27</td>\n",
       "      <td>100.75</td>\n",
       "      <td>100.200</td>\n",
       "      <td>100.41</td>\n",
       "      <td>5658514.0</td>\n",
       "      <td>0.139623</td>\n",
       "      <td>236.607442</td>\n",
       "    </tr>\n",
       "    <tr>\n",
       "      <td>4</td>\n",
       "      <td>2019-12-05</td>\n",
       "      <td>99.81</td>\n",
       "      <td>99.90</td>\n",
       "      <td>98.910</td>\n",
       "      <td>99.75</td>\n",
       "      <td>7390352.0</td>\n",
       "      <td>-0.060114</td>\n",
       "      <td>234.394904</td>\n",
       "    </tr>\n",
       "  </tbody>\n",
       "</table>\n",
       "</div>"
      ],
      "text/plain": [
       "        index    open    high      low   close     volume  day_pct_change  \\\n",
       "0  2019-12-11  100.01  100.27   99.880   99.99   658539.0       -0.019998   \n",
       "1  2019-12-10   99.69  100.02   99.295   99.93  6024565.0        0.240746   \n",
       "2  2019-12-09  100.45  100.47   99.710   99.71  5148857.0       -0.736685   \n",
       "3  2019-12-06  100.27  100.75  100.200  100.41  5658514.0        0.139623   \n",
       "4  2019-12-05   99.81   99.90   98.910   99.75  7390352.0       -0.060114   \n",
       "\n",
       "   overall_pct_change  \n",
       "0          235.199464  \n",
       "1          234.998324  \n",
       "2          234.260811  \n",
       "3          236.607442  \n",
       "4          234.394904  "
      ]
     },
     "execution_count": 11,
     "metadata": {},
     "output_type": "execute_result"
    }
   ],
   "source": [
    "xlv_df.head()"
   ]
  },
  {
   "cell_type": "markdown",
   "metadata": {},
   "source": [
    "## Load S&P API\n"
   ]
  },
  {
   "cell_type": "code",
   "execution_count": 12,
   "metadata": {},
   "outputs": [],
   "source": [
    "sp_symbol = '.INX'\n",
    "\n",
    "url_sp = f\"https://www.alphavantage.co/query?function={function}&symbol={sp_symbol}&outputsize=full&apikey={alpha_key}\""
   ]
  },
  {
   "cell_type": "code",
   "execution_count": 13,
   "metadata": {},
   "outputs": [],
   "source": [
    "response2 = requests.get(url_sp)\n",
    "sp_file = response2.json()"
   ]
  },
  {
   "cell_type": "code",
   "execution_count": 14,
   "metadata": {},
   "outputs": [],
   "source": [
    "sp_values = sp_file['Time Series (Daily)']\n",
    "sp_df = pd.DataFrame(sp_values)\n",
    "sp_df = sp_df.T\n",
    "sp_df.columns = column_head\n",
    "sp_df['open'] = sp_df.open.astype(float)\n",
    "sp_df['high'] = sp_df.high.astype(float)\n",
    "sp_df['low'] = sp_df.low.astype(float)\n",
    "sp_df['close'] = sp_df.close.astype(float)\n",
    "sp_df['volume'] = sp_df.volume.astype(float)"
   ]
  },
  {
   "cell_type": "code",
   "execution_count": 15,
   "metadata": {},
   "outputs": [],
   "source": [
    "sp_df['day_pct_change'] = (sp_df['close']-sp_df['open'])/sp_df['open']*100"
   ]
  },
  {
   "cell_type": "code",
   "execution_count": 16,
   "metadata": {},
   "outputs": [],
   "source": [
    "for entry in sp_df:\n",
    "    pct_change = (sp_df['close'] - sp_df['open'].iloc[-1])/sp_df['open'].iloc[-1]\n",
    "    sp_df['overall_pct_change'] = pct_change * 100"
   ]
  },
  {
   "cell_type": "code",
   "execution_count": 17,
   "metadata": {},
   "outputs": [
    {
     "data": {
      "text/html": [
       "<div>\n",
       "<style scoped>\n",
       "    .dataframe tbody tr th:only-of-type {\n",
       "        vertical-align: middle;\n",
       "    }\n",
       "\n",
       "    .dataframe tbody tr th {\n",
       "        vertical-align: top;\n",
       "    }\n",
       "\n",
       "    .dataframe thead th {\n",
       "        text-align: right;\n",
       "    }\n",
       "</style>\n",
       "<table border=\"1\" class=\"dataframe\">\n",
       "  <thead>\n",
       "    <tr style=\"text-align: right;\">\n",
       "      <th></th>\n",
       "      <th>open</th>\n",
       "      <th>high</th>\n",
       "      <th>low</th>\n",
       "      <th>close</th>\n",
       "      <th>volume</th>\n",
       "      <th>day_pct_change</th>\n",
       "      <th>overall_pct_change</th>\n",
       "    </tr>\n",
       "  </thead>\n",
       "  <tbody>\n",
       "    <tr>\n",
       "      <td>count</td>\n",
       "      <td>5034.000000</td>\n",
       "      <td>5034.000000</td>\n",
       "      <td>5034.000000</td>\n",
       "      <td>5034.000000</td>\n",
       "      <td>5.034000e+03</td>\n",
       "      <td>5034.000000</td>\n",
       "      <td>5034.000000</td>\n",
       "    </tr>\n",
       "    <tr>\n",
       "      <td>mean</td>\n",
       "      <td>45.306005</td>\n",
       "      <td>45.571740</td>\n",
       "      <td>45.007637</td>\n",
       "      <td>45.305046</td>\n",
       "      <td>5.178174e+06</td>\n",
       "      <td>-0.002983</td>\n",
       "      <td>51.877458</td>\n",
       "    </tr>\n",
       "    <tr>\n",
       "      <td>std</td>\n",
       "      <td>21.750188</td>\n",
       "      <td>21.847649</td>\n",
       "      <td>21.644113</td>\n",
       "      <td>21.755622</td>\n",
       "      <td>5.490360e+06</td>\n",
       "      <td>0.997414</td>\n",
       "      <td>72.932020</td>\n",
       "    </tr>\n",
       "    <tr>\n",
       "      <td>min</td>\n",
       "      <td>21.750000</td>\n",
       "      <td>22.100000</td>\n",
       "      <td>21.000000</td>\n",
       "      <td>21.880000</td>\n",
       "      <td>9.000000e+02</td>\n",
       "      <td>-8.646889</td>\n",
       "      <td>-26.651022</td>\n",
       "    </tr>\n",
       "    <tr>\n",
       "      <td>25%</td>\n",
       "      <td>29.550000</td>\n",
       "      <td>29.730000</td>\n",
       "      <td>29.350000</td>\n",
       "      <td>29.550000</td>\n",
       "      <td>4.510750e+05</td>\n",
       "      <td>-0.484426</td>\n",
       "      <td>-0.938652</td>\n",
       "    </tr>\n",
       "    <tr>\n",
       "      <td>50%</td>\n",
       "      <td>32.905000</td>\n",
       "      <td>33.080000</td>\n",
       "      <td>32.680550</td>\n",
       "      <td>32.915000</td>\n",
       "      <td>4.409894e+06</td>\n",
       "      <td>0.021669</td>\n",
       "      <td>10.341938</td>\n",
       "    </tr>\n",
       "    <tr>\n",
       "      <td>75%</td>\n",
       "      <td>66.825000</td>\n",
       "      <td>67.357500</td>\n",
       "      <td>65.975000</td>\n",
       "      <td>66.855000</td>\n",
       "      <td>7.780256e+06</td>\n",
       "      <td>0.506674</td>\n",
       "      <td>124.120013</td>\n",
       "    </tr>\n",
       "    <tr>\n",
       "      <td>max</td>\n",
       "      <td>100.450000</td>\n",
       "      <td>100.750000</td>\n",
       "      <td>100.200000</td>\n",
       "      <td>100.410000</td>\n",
       "      <td>6.647018e+07</td>\n",
       "      <td>8.372274</td>\n",
       "      <td>236.607442</td>\n",
       "    </tr>\n",
       "  </tbody>\n",
       "</table>\n",
       "</div>"
      ],
      "text/plain": [
       "              open         high          low        close        volume  \\\n",
       "count  5034.000000  5034.000000  5034.000000  5034.000000  5.034000e+03   \n",
       "mean     45.306005    45.571740    45.007637    45.305046  5.178174e+06   \n",
       "std      21.750188    21.847649    21.644113    21.755622  5.490360e+06   \n",
       "min      21.750000    22.100000    21.000000    21.880000  9.000000e+02   \n",
       "25%      29.550000    29.730000    29.350000    29.550000  4.510750e+05   \n",
       "50%      32.905000    33.080000    32.680550    32.915000  4.409894e+06   \n",
       "75%      66.825000    67.357500    65.975000    66.855000  7.780256e+06   \n",
       "max     100.450000   100.750000   100.200000   100.410000  6.647018e+07   \n",
       "\n",
       "       day_pct_change  overall_pct_change  \n",
       "count     5034.000000         5034.000000  \n",
       "mean        -0.002983           51.877458  \n",
       "std          0.997414           72.932020  \n",
       "min         -8.646889          -26.651022  \n",
       "25%         -0.484426           -0.938652  \n",
       "50%          0.021669           10.341938  \n",
       "75%          0.506674          124.120013  \n",
       "max          8.372274          236.607442  "
      ]
     },
     "execution_count": 17,
     "metadata": {},
     "output_type": "execute_result"
    }
   ],
   "source": [
    "xlv_df.describe()"
   ]
  },
  {
   "cell_type": "code",
   "execution_count": 18,
   "metadata": {},
   "outputs": [
    {
     "data": {
      "text/html": [
       "<div>\n",
       "<style scoped>\n",
       "    .dataframe tbody tr th:only-of-type {\n",
       "        vertical-align: middle;\n",
       "    }\n",
       "\n",
       "    .dataframe tbody tr th {\n",
       "        vertical-align: top;\n",
       "    }\n",
       "\n",
       "    .dataframe thead th {\n",
       "        text-align: right;\n",
       "    }\n",
       "</style>\n",
       "<table border=\"1\" class=\"dataframe\">\n",
       "  <thead>\n",
       "    <tr style=\"text-align: right;\">\n",
       "      <th></th>\n",
       "      <th>open</th>\n",
       "      <th>high</th>\n",
       "      <th>low</th>\n",
       "      <th>close</th>\n",
       "      <th>volume</th>\n",
       "      <th>day_pct_change</th>\n",
       "      <th>overall_pct_change</th>\n",
       "    </tr>\n",
       "  </thead>\n",
       "  <tbody>\n",
       "    <tr>\n",
       "      <td>count</td>\n",
       "      <td>5018.000000</td>\n",
       "      <td>5018.000000</td>\n",
       "      <td>5018.000000</td>\n",
       "      <td>5018.000000</td>\n",
       "      <td>5.018000e+03</td>\n",
       "      <td>5018.000000</td>\n",
       "      <td>5018.000000</td>\n",
       "    </tr>\n",
       "    <tr>\n",
       "      <td>mean</td>\n",
       "      <td>1570.597865</td>\n",
       "      <td>1579.478507</td>\n",
       "      <td>1560.968013</td>\n",
       "      <td>1570.775398</td>\n",
       "      <td>3.090208e+09</td>\n",
       "      <td>0.016949</td>\n",
       "      <td>6.910015</td>\n",
       "    </tr>\n",
       "    <tr>\n",
       "      <td>std</td>\n",
       "      <td>580.669073</td>\n",
       "      <td>581.404970</td>\n",
       "      <td>579.761616</td>\n",
       "      <td>580.752697</td>\n",
       "      <td>1.474999e+09</td>\n",
       "      <td>1.138758</td>\n",
       "      <td>39.527153</td>\n",
       "    </tr>\n",
       "    <tr>\n",
       "      <td>min</td>\n",
       "      <td>679.280000</td>\n",
       "      <td>695.270000</td>\n",
       "      <td>666.790000</td>\n",
       "      <td>676.530000</td>\n",
       "      <td>3.507579e+08</td>\n",
       "      <td>-8.723105</td>\n",
       "      <td>-53.954058</td>\n",
       "    </tr>\n",
       "    <tr>\n",
       "      <td>25%</td>\n",
       "      <td>1151.155050</td>\n",
       "      <td>1159.525000</td>\n",
       "      <td>1141.940000</td>\n",
       "      <td>1151.037525</td>\n",
       "      <td>1.667910e+09</td>\n",
       "      <td>-0.447677</td>\n",
       "      <td>-21.658157</td>\n",
       "    </tr>\n",
       "    <tr>\n",
       "      <td>50%</td>\n",
       "      <td>1360.020000</td>\n",
       "      <td>1368.275000</td>\n",
       "      <td>1348.660000</td>\n",
       "      <td>1360.150000</td>\n",
       "      <td>3.218100e+09</td>\n",
       "      <td>0.051834</td>\n",
       "      <td>-7.425557</td>\n",
       "    </tr>\n",
       "    <tr>\n",
       "      <td>75%</td>\n",
       "      <td>1979.960000</td>\n",
       "      <td>1988.222450</td>\n",
       "      <td>1971.715000</td>\n",
       "      <td>1981.592475</td>\n",
       "      <td>3.917825e+09</td>\n",
       "      <td>0.520102</td>\n",
       "      <td>34.871021</td>\n",
       "    </tr>\n",
       "    <tr>\n",
       "      <td>max</td>\n",
       "      <td>3147.179900</td>\n",
       "      <td>3154.260000</td>\n",
       "      <td>3143.409900</td>\n",
       "      <td>3153.629900</td>\n",
       "      <td>1.145623e+10</td>\n",
       "      <td>10.789002</td>\n",
       "      <td>114.642158</td>\n",
       "    </tr>\n",
       "  </tbody>\n",
       "</table>\n",
       "</div>"
      ],
      "text/plain": [
       "              open         high          low        close        volume  \\\n",
       "count  5018.000000  5018.000000  5018.000000  5018.000000  5.018000e+03   \n",
       "mean   1570.597865  1579.478507  1560.968013  1570.775398  3.090208e+09   \n",
       "std     580.669073   581.404970   579.761616   580.752697  1.474999e+09   \n",
       "min     679.280000   695.270000   666.790000   676.530000  3.507579e+08   \n",
       "25%    1151.155050  1159.525000  1141.940000  1151.037525  1.667910e+09   \n",
       "50%    1360.020000  1368.275000  1348.660000  1360.150000  3.218100e+09   \n",
       "75%    1979.960000  1988.222450  1971.715000  1981.592475  3.917825e+09   \n",
       "max    3147.179900  3154.260000  3143.409900  3153.629900  1.145623e+10   \n",
       "\n",
       "       day_pct_change  overall_pct_change  \n",
       "count     5018.000000         5018.000000  \n",
       "mean         0.016949            6.910015  \n",
       "std          1.138758           39.527153  \n",
       "min         -8.723105          -53.954058  \n",
       "25%         -0.447677          -21.658157  \n",
       "50%          0.051834           -7.425557  \n",
       "75%          0.520102           34.871021  \n",
       "max         10.789002          114.642158  "
      ]
     },
     "execution_count": 18,
     "metadata": {},
     "output_type": "execute_result"
    }
   ],
   "source": [
    "sp_df.describe()"
   ]
  },
  {
   "cell_type": "markdown",
   "metadata": {},
   "source": [
    "## Hypothesis 1 Testing: Average Returns"
   ]
  },
  {
   "cell_type": "markdown",
   "metadata": {},
   "source": [
    "#### H0: The daily avg percent change in the XLV index fund is <= to that of the overall S&P 500 \n",
    "#### HA: The daily avg percent change in the XLV index fund is greater than the S&P 500 "
   ]
  },
  {
   "cell_type": "code",
   "execution_count": 19,
   "metadata": {},
   "outputs": [],
   "source": [
    "xlv_avg_percent_moves = []\n",
    "sp_avg_percent_moves = []\n",
    "\n",
    "for i in range(5000):\n",
    "    \n",
    "    sample_xlv = xlv_df.sample(n = 50, random_state = i)\n",
    "    xlv_avg_percent_moves.append(sample_xlv.day_pct_change.mean())\n",
    "    \n",
    "    sample_sp = sp_df.sample(n = 50, random_state = i)\n",
    "    sp_avg_percent_moves.append(sample_sp.day_pct_change.mean())\n"
   ]
  },
  {
   "cell_type": "code",
   "execution_count": 20,
   "metadata": {},
   "outputs": [
    {
     "data": {
      "image/png": "[encoded data removed]",
      "text/plain": [
       "<Figure size 432x288 with 1 Axes>"
      ]
     },
     "metadata": {
      "needs_background": "light"
     },
     "output_type": "display_data"
    }
   ],
   "source": [
    "plt.hist(xlv_avg_percent_moves, bins = 500, color = 'red', label = 'XLV Index Fund');\n",
    "plt.hist(sp_avg_percent_moves, bins = 500, color = 'blue', label = 'S&P 500 Index Fund');\n",
    "plt.legend();"
   ]
  },
  {
   "cell_type": "code",
   "execution_count": 21,
   "metadata": {},
   "outputs": [],
   "source": [
    "#Z-test stat for S&P benchmark group\n",
    "import statistics\n",
    "x_hat = sum(xlv_avg_percent_moves)/len(xlv_avg_percent_moves)\n",
    "mu = sum(sp_avg_percent_moves)/len(xlv_avg_percent_moves)\n",
    "sigma = statistics.stdev(sp_avg_percent_moves)\n",
    "n = 5017"
   ]
  },
  {
   "cell_type": "code",
   "execution_count": 22,
   "metadata": {},
   "outputs": [
    {
     "name": "stdout",
     "output_type": "stream",
     "text": [
      "Z-statistic: -0.0018107023888433763\n",
      "P-Value: 0.49927763465459624\n"
     ]
    }
   ],
   "source": [
    "z_stat = (x_hat - mu)/sigma/math.sqrt(n)\n",
    "print(f\"Z-statistic: {z_stat}\")\n",
    "\n",
    "p_val = stats.norm.cdf(z_stat)\n",
    "print(f\"P-Value: {p_val}\")"
   ]
  },
  {
   "cell_type": "code",
   "execution_count": 23,
   "metadata": {},
   "outputs": [
    {
     "name": "stdout",
     "output_type": "stream",
     "text": [
      "T-test stat: -0.0021194002133081767\n"
     ]
    }
   ],
   "source": [
    "#take a t test to see if there is a statistical significance in difference of means\n",
    "S = statistics.stdev(xlv_avg_percent_moves)\n",
    "t_stat = (x_hat - mu)/S/math.sqrt(n)\n",
    "print(f\"T-test stat: {t_stat}\")"
   ]
  },
  {
   "cell_type": "markdown",
   "metadata": {},
   "source": [
    "*Due to the Z-stat and T-stat we fail to reject H0*"
   ]
  },
  {
   "cell_type": "code",
   "execution_count": 24,
   "metadata": {},
   "outputs": [
    {
     "name": "stdout",
     "output_type": "stream",
     "text": [
      "Standard_error: 0.002277601156903066\n"
     ]
    },
    {
     "data": {
      "text/plain": [
       "-4.124057855636819e-06"
      ]
     },
     "execution_count": 24,
     "metadata": {},
     "output_type": "execute_result"
    }
   ],
   "source": [
    "#z_score * SE = real difference in sample and population means\n",
    "std_error = sigma/math.sqrt(n)\n",
    "print(f\"Standard_error: {std_error}\")\n",
    "real_diff = std_error * z_stat\n",
    "real_diff"
   ]
  },
  {
   "cell_type": "markdown",
   "metadata": {},
   "source": [
    "## Johnson & Johnson Performance"
   ]
  },
  {
   "cell_type": "code",
   "execution_count": null,
   "metadata": {},
   "outputs": [],
   "source": []
  }
 ],
 "metadata": {
  "kernelspec": {
   "display_name": "Python 3",
   "language": "python",
   "name": "python3"
  },
  "language_info": {
   "codemirror_mode": {
    "name": "ipython",
    "version": 3
   },
   "file_extension": ".py",
   "mimetype": "text/x-python",
   "name": "python",
   "nbconvert_exporter": "python",
   "pygments_lexer": "ipython3",
   "version": "3.6.9"
  }
 },
 "nbformat": 4,
 "nbformat_minor": 4
}
