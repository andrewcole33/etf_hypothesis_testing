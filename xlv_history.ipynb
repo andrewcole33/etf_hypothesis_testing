{
 "cells": [
  {
   "cell_type": "code",
   "execution_count": 139,
   "metadata": {},
   "outputs": [],
   "source": [
    "import json\n",
    "import requests\n",
    "import pandas as pd"
   ]
  },
  {
   "cell_type": "markdown",
   "metadata": {},
   "source": [
    "## Load XLV API \n",
    "#### Create percent change column"
   ]
  },
  {
   "cell_type": "code",
   "execution_count": 140,
   "metadata": {},
   "outputs": [],
   "source": [
    "url = 'https://www.alphavantage.co/query?function=TIME_SERIES_DAILY&symbol=XLV&outputsize=full&apikey=Y8YQFOIVHPA381U4'"
   ]
  },
  {
   "cell_type": "code",
   "execution_count": 141,
   "metadata": {
    "scrolled": true
   },
   "outputs": [],
   "source": [
    "response = requests.get(url)\n",
    "xlv_file = response.json()"
   ]
  },
  {
   "cell_type": "code",
   "execution_count": 142,
   "metadata": {
    "scrolled": true
   },
   "outputs": [],
   "source": [
    "xlv_values = xlv_file['Time Series (Daily)']"
   ]
  },
  {
   "cell_type": "code",
   "execution_count": 143,
   "metadata": {},
   "outputs": [],
   "source": [
    "for value in xlv_values:\n",
    "    open_prices = []"
   ]
  },
  {
   "cell_type": "code",
   "execution_count": 148,
   "metadata": {
    "scrolled": true
   },
   "outputs": [],
   "source": [
    "df = pd.DataFrame(xlv_values)\n",
    "xlv_df = df.T\n",
    "column_head = ['open', 'high', 'low', 'close', 'volume']\n",
    "xlv_df.columns = column_head\n",
    "xlv_df.reset_index(inplace = True)"
   ]
  },
  {
   "cell_type": "code",
   "execution_count": 149,
   "metadata": {},
   "outputs": [],
   "source": [
    "xlv_df['open'] = xlv_df.open.astype(float)\n",
    "xlv_df['high'] = xlv_df.high.astype(float)\n",
    "xlv_df['low'] = xlv_df.low.astype(float)\n",
    "xlv_df['close'] = xlv_df.close.astype(float)\n",
    "xlv_df['volume'] = xlv_df.volume.astype(float)"
   ]
  },
  {
   "cell_type": "code",
   "execution_count": 150,
   "metadata": {},
   "outputs": [],
   "source": [
    "xlv_df['day_pct_change'] = (xlv_df['close']-xlv_df['open'])/xlv_df['open']*100"
   ]
  },
  {
   "cell_type": "code",
   "execution_count": 151,
   "metadata": {},
   "outputs": [],
   "source": [
    "for entry in xlv_df:\n",
    "    pct_change = (xlv_df['close'] - xlv_df['open'].iloc[-1])/xlv_df['open'].iloc[-1]\n",
    "    xlv_df['overall_pct_change'] = pct_change * 100"
   ]
  },
  {
   "cell_type": "code",
   "execution_count": 183,
   "metadata": {},
   "outputs": [
    {
     "data": {
      "text/html": [
       "<div>\n",
       "<style scoped>\n",
       "    .dataframe tbody tr th:only-of-type {\n",
       "        vertical-align: middle;\n",
       "    }\n",
       "\n",
       "    .dataframe tbody tr th {\n",
       "        vertical-align: top;\n",
       "    }\n",
       "\n",
       "    .dataframe thead th {\n",
       "        text-align: right;\n",
       "    }\n",
       "</style>\n",
       "<table border=\"1\" class=\"dataframe\">\n",
       "  <thead>\n",
       "    <tr style=\"text-align: right;\">\n",
       "      <th></th>\n",
       "      <th>index</th>\n",
       "      <th>open</th>\n",
       "      <th>high</th>\n",
       "      <th>low</th>\n",
       "      <th>close</th>\n",
       "      <th>volume</th>\n",
       "      <th>day_pct_change</th>\n",
       "      <th>overall_pct_change</th>\n",
       "    </tr>\n",
       "  </thead>\n",
       "  <tbody>\n",
       "    <tr>\n",
       "      <td>5029</td>\n",
       "      <td>1999-12-14</td>\n",
       "      <td>29.53</td>\n",
       "      <td>29.83</td>\n",
       "      <td>29.53</td>\n",
       "      <td>29.75</td>\n",
       "      <td>16000.0</td>\n",
       "      <td>0.745005</td>\n",
       "      <td>1.156069</td>\n",
       "    </tr>\n",
       "    <tr>\n",
       "      <td>5030</td>\n",
       "      <td>1999-12-13</td>\n",
       "      <td>29.69</td>\n",
       "      <td>29.95</td>\n",
       "      <td>29.69</td>\n",
       "      <td>29.69</td>\n",
       "      <td>10700.0</td>\n",
       "      <td>0.000000</td>\n",
       "      <td>0.952057</td>\n",
       "    </tr>\n",
       "    <tr>\n",
       "      <td>5031</td>\n",
       "      <td>1999-12-10</td>\n",
       "      <td>30.25</td>\n",
       "      <td>30.25</td>\n",
       "      <td>29.77</td>\n",
       "      <td>29.89</td>\n",
       "      <td>18800.0</td>\n",
       "      <td>-1.190083</td>\n",
       "      <td>1.632098</td>\n",
       "    </tr>\n",
       "    <tr>\n",
       "      <td>5032</td>\n",
       "      <td>1999-12-09</td>\n",
       "      <td>29.83</td>\n",
       "      <td>30.13</td>\n",
       "      <td>29.83</td>\n",
       "      <td>30.08</td>\n",
       "      <td>12100.0</td>\n",
       "      <td>0.838082</td>\n",
       "      <td>2.278137</td>\n",
       "    </tr>\n",
       "    <tr>\n",
       "      <td>5033</td>\n",
       "      <td>1999-12-08</td>\n",
       "      <td>29.41</td>\n",
       "      <td>29.73</td>\n",
       "      <td>29.41</td>\n",
       "      <td>29.63</td>\n",
       "      <td>38900.0</td>\n",
       "      <td>0.748045</td>\n",
       "      <td>0.748045</td>\n",
       "    </tr>\n",
       "  </tbody>\n",
       "</table>\n",
       "</div>"
      ],
      "text/plain": [
       "           index   open   high    low  close   volume  day_pct_change  \\\n",
       "5029  1999-12-14  29.53  29.83  29.53  29.75  16000.0        0.745005   \n",
       "5030  1999-12-13  29.69  29.95  29.69  29.69  10700.0        0.000000   \n",
       "5031  1999-12-10  30.25  30.25  29.77  29.89  18800.0       -1.190083   \n",
       "5032  1999-12-09  29.83  30.13  29.83  30.08  12100.0        0.838082   \n",
       "5033  1999-12-08  29.41  29.73  29.41  29.63  38900.0        0.748045   \n",
       "\n",
       "      overall_pct_change  \n",
       "5029            1.156069  \n",
       "5030            0.952057  \n",
       "5031            1.632098  \n",
       "5032            2.278137  \n",
       "5033            0.748045  "
      ]
     },
     "execution_count": 183,
     "metadata": {},
     "output_type": "execute_result"
    }
   ],
   "source": [
    "xlv_df.tail()"
   ]
  },
  {
   "cell_type": "markdown",
   "metadata": {},
   "source": [
    "## Load S&P API\n"
   ]
  },
  {
   "cell_type": "code",
   "execution_count": 172,
   "metadata": {},
   "outputs": [],
   "source": [
    "url_sp = 'https://www.alphavantage.co/query?function=TIME_SERIES_DAILY&symbol=.INX&outputsize=full&apikey=Y8YQFOIVHPA381U4'"
   ]
  },
  {
   "cell_type": "code",
   "execution_count": 176,
   "metadata": {},
   "outputs": [],
   "source": [
    "response2 = requests.get(url_sp)\n",
    "sp_file = response2.json()"
   ]
  },
  {
   "cell_type": "code",
   "execution_count": 178,
   "metadata": {},
   "outputs": [],
   "source": [
    "sp_values = sp_file['Time Series (Daily)']\n",
    "sp_df = pd.DataFrame(sp_values)\n",
    "sp_df = sp_df.T\n",
    "sp_df.columns = column_head\n",
    "sp_df['open'] = sp_df.open.astype(float)\n",
    "sp_df['high'] = sp_df.high.astype(float)\n",
    "sp_df['low'] = sp_df.low.astype(float)\n",
    "sp_df['close'] = sp_df.close.astype(float)\n",
    "sp_df['volume'] = sp_df.volume.astype(float)"
   ]
  },
  {
   "cell_type": "code",
   "execution_count": 179,
   "metadata": {},
   "outputs": [],
   "source": [
    "sp_df['day_pct_change'] = (sp_df['close']-sp_df['open'])/sp_df['open']*100"
   ]
  },
  {
   "cell_type": "code",
   "execution_count": 180,
   "metadata": {},
   "outputs": [],
   "source": [
    "for entry in sp_df:\n",
    "    pct_change = (sp_df['close'] - sp_df['open'].iloc[-1])/sp_df['open'].iloc[-1]\n",
    "    sp_df['overall_pct_change'] = pct_change * 100"
   ]
  },
  {
   "cell_type": "code",
   "execution_count": 181,
   "metadata": {},
   "outputs": [
    {
     "data": {
      "text/html": [
       "<div>\n",
       "<style scoped>\n",
       "    .dataframe tbody tr th:only-of-type {\n",
       "        vertical-align: middle;\n",
       "    }\n",
       "\n",
       "    .dataframe tbody tr th {\n",
       "        vertical-align: top;\n",
       "    }\n",
       "\n",
       "    .dataframe thead th {\n",
       "        text-align: right;\n",
       "    }\n",
       "</style>\n",
       "<table border=\"1\" class=\"dataframe\">\n",
       "  <thead>\n",
       "    <tr style=\"text-align: right;\">\n",
       "      <th></th>\n",
       "      <th>open</th>\n",
       "      <th>high</th>\n",
       "      <th>low</th>\n",
       "      <th>close</th>\n",
       "      <th>volume</th>\n",
       "      <th>day_pct_change</th>\n",
       "      <th>overall_pct_change</th>\n",
       "    </tr>\n",
       "  </thead>\n",
       "  <tbody>\n",
       "    <tr>\n",
       "      <td>2019-12-10</td>\n",
       "      <td>3135.3601</td>\n",
       "      <td>3142.1201</td>\n",
       "      <td>3126.0901</td>\n",
       "      <td>3138.4199</td>\n",
       "      <td>5.478405e+08</td>\n",
       "      <td>0.097590</td>\n",
       "      <td>113.606936</td>\n",
       "    </tr>\n",
       "    <tr>\n",
       "      <td>2019-12-09</td>\n",
       "      <td>3141.8601</td>\n",
       "      <td>3148.8701</td>\n",
       "      <td>3135.4600</td>\n",
       "      <td>3135.9600</td>\n",
       "      <td>3.345990e+09</td>\n",
       "      <td>-0.187790</td>\n",
       "      <td>113.439510</td>\n",
       "    </tr>\n",
       "    <tr>\n",
       "      <td>2019-12-06</td>\n",
       "      <td>3134.6201</td>\n",
       "      <td>3150.6001</td>\n",
       "      <td>3134.6201</td>\n",
       "      <td>3145.9099</td>\n",
       "      <td>3.479480e+09</td>\n",
       "      <td>0.360165</td>\n",
       "      <td>114.116719</td>\n",
       "    </tr>\n",
       "    <tr>\n",
       "      <td>2019-12-05</td>\n",
       "      <td>3119.2100</td>\n",
       "      <td>3119.4500</td>\n",
       "      <td>3103.7600</td>\n",
       "      <td>3117.4299</td>\n",
       "      <td>3.355750e+09</td>\n",
       "      <td>-0.057069</td>\n",
       "      <td>112.178315</td>\n",
       "    </tr>\n",
       "    <tr>\n",
       "      <td>2019-12-04</td>\n",
       "      <td>3103.5000</td>\n",
       "      <td>3119.3799</td>\n",
       "      <td>3102.5300</td>\n",
       "      <td>3112.7600</td>\n",
       "      <td>3.695030e+09</td>\n",
       "      <td>0.298373</td>\n",
       "      <td>111.860473</td>\n",
       "    </tr>\n",
       "  </tbody>\n",
       "</table>\n",
       "</div>"
      ],
      "text/plain": [
       "                 open       high        low      close        volume  \\\n",
       "2019-12-10  3135.3601  3142.1201  3126.0901  3138.4199  5.478405e+08   \n",
       "2019-12-09  3141.8601  3148.8701  3135.4600  3135.9600  3.345990e+09   \n",
       "2019-12-06  3134.6201  3150.6001  3134.6201  3145.9099  3.479480e+09   \n",
       "2019-12-05  3119.2100  3119.4500  3103.7600  3117.4299  3.355750e+09   \n",
       "2019-12-04  3103.5000  3119.3799  3102.5300  3112.7600  3.695030e+09   \n",
       "\n",
       "            day_pct_change  overall_pct_change  \n",
       "2019-12-10        0.097590          113.606936  \n",
       "2019-12-09       -0.187790          113.439510  \n",
       "2019-12-06        0.360165          114.116719  \n",
       "2019-12-05       -0.057069          112.178315  \n",
       "2019-12-04        0.298373          111.860473  "
      ]
     },
     "execution_count": 181,
     "metadata": {},
     "output_type": "execute_result"
    }
   ],
   "source": [
    "sp_df.head()"
   ]
  },
  {
   "cell_type": "code",
   "execution_count": 182,
   "metadata": {},
   "outputs": [
    {
     "data": {
      "text/html": [
       "<div>\n",
       "<style scoped>\n",
       "    .dataframe tbody tr th:only-of-type {\n",
       "        vertical-align: middle;\n",
       "    }\n",
       "\n",
       "    .dataframe tbody tr th {\n",
       "        vertical-align: top;\n",
       "    }\n",
       "\n",
       "    .dataframe thead th {\n",
       "        text-align: right;\n",
       "    }\n",
       "</style>\n",
       "<table border=\"1\" class=\"dataframe\">\n",
       "  <thead>\n",
       "    <tr style=\"text-align: right;\">\n",
       "      <th></th>\n",
       "      <th>open</th>\n",
       "      <th>high</th>\n",
       "      <th>low</th>\n",
       "      <th>close</th>\n",
       "      <th>volume</th>\n",
       "      <th>day_pct_change</th>\n",
       "      <th>overall_pct_change</th>\n",
       "    </tr>\n",
       "  </thead>\n",
       "  <tbody>\n",
       "    <tr>\n",
       "      <td>2000-01-07</td>\n",
       "      <td>1403.45</td>\n",
       "      <td>1441.47</td>\n",
       "      <td>1400.7300</td>\n",
       "      <td>1441.47</td>\n",
       "      <td>1.225200e+09</td>\n",
       "      <td>2.709038</td>\n",
       "      <td>-1.890761</td>\n",
       "    </tr>\n",
       "    <tr>\n",
       "      <td>2000-01-06</td>\n",
       "      <td>1402.11</td>\n",
       "      <td>1411.90</td>\n",
       "      <td>1392.1000</td>\n",
       "      <td>1403.45</td>\n",
       "      <td>1.092300e+09</td>\n",
       "      <td>0.095570</td>\n",
       "      <td>-4.478475</td>\n",
       "    </tr>\n",
       "    <tr>\n",
       "      <td>2000-01-05</td>\n",
       "      <td>1399.42</td>\n",
       "      <td>1413.27</td>\n",
       "      <td>1377.6801</td>\n",
       "      <td>1402.11</td>\n",
       "      <td>1.085500e+09</td>\n",
       "      <td>0.192222</td>\n",
       "      <td>-4.569678</td>\n",
       "    </tr>\n",
       "    <tr>\n",
       "      <td>2000-01-04</td>\n",
       "      <td>1455.22</td>\n",
       "      <td>1455.22</td>\n",
       "      <td>1397.4301</td>\n",
       "      <td>1399.42</td>\n",
       "      <td>1.009000e+09</td>\n",
       "      <td>-3.834472</td>\n",
       "      <td>-4.752765</td>\n",
       "    </tr>\n",
       "    <tr>\n",
       "      <td>2000-01-03</td>\n",
       "      <td>1469.25</td>\n",
       "      <td>1478.00</td>\n",
       "      <td>1438.3600</td>\n",
       "      <td>1455.22</td>\n",
       "      <td>9.318000e+08</td>\n",
       "      <td>-0.954909</td>\n",
       "      <td>-0.954909</td>\n",
       "    </tr>\n",
       "  </tbody>\n",
       "</table>\n",
       "</div>"
      ],
      "text/plain": [
       "               open     high        low    close        volume  \\\n",
       "2000-01-07  1403.45  1441.47  1400.7300  1441.47  1.225200e+09   \n",
       "2000-01-06  1402.11  1411.90  1392.1000  1403.45  1.092300e+09   \n",
       "2000-01-05  1399.42  1413.27  1377.6801  1402.11  1.085500e+09   \n",
       "2000-01-04  1455.22  1455.22  1397.4301  1399.42  1.009000e+09   \n",
       "2000-01-03  1469.25  1478.00  1438.3600  1455.22  9.318000e+08   \n",
       "\n",
       "            day_pct_change  overall_pct_change  \n",
       "2000-01-07        2.709038           -1.890761  \n",
       "2000-01-06        0.095570           -4.478475  \n",
       "2000-01-05        0.192222           -4.569678  \n",
       "2000-01-04       -3.834472           -4.752765  \n",
       "2000-01-03       -0.954909           -0.954909  "
      ]
     },
     "execution_count": 182,
     "metadata": {},
     "output_type": "execute_result"
    }
   ],
   "source": [
    "sp_df.tail()"
   ]
  },
  {
   "cell_type": "code",
   "execution_count": null,
   "metadata": {},
   "outputs": [],
   "source": []
  }
 ],
 "metadata": {
  "kernelspec": {
   "display_name": "Python 3",
   "language": "python",
   "name": "python3"
  },
  "language_info": {
   "codemirror_mode": {
    "name": "ipython",
    "version": 3
   },
   "file_extension": ".py",
   "mimetype": "text/x-python",
   "name": "python",
   "nbconvert_exporter": "python",
   "pygments_lexer": "ipython3",
   "version": "3.6.9"
  }
 },
 "nbformat": 4,
 "nbformat_minor": 4
}
