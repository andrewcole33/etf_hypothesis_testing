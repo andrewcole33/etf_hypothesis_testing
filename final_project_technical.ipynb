{
 "cells": [
  {
   "cell_type": "markdown",
   "metadata": {},
   "source": [
    "# Module 3 Project - Asset Movements\n",
    "## Andrew Cole & Will Herzog"
   ]
  },
  {
   "cell_type": "code",
   "execution_count": 15,
   "metadata": {},
   "outputs": [
    {
     "name": "stdout",
     "output_type": "stream",
     "text": [
      "The autoreload extension is already loaded. To reload it, use:\n",
      "  %reload_ext autoreload\n"
     ]
    }
   ],
   "source": [
    "# Import libraries with proper aliases\n",
    "import json\n",
    "import requests\n",
    "import numpy as np\n",
    "import pandas as pd\n",
    "import matplotlib.pyplot as plt\n",
    "%matplotlib inline\n",
    "import scipy.stats as stats\n",
    "import math\n",
    "from statsmodels.stats.power import zt_ind_solve_power\n",
    "import asset_cleaner\n",
    "import test_statistics\n",
    "%load_ext autoreload\n",
    "%autoreload \n"
   ]
  },
  {
   "cell_type": "markdown",
   "metadata": {},
   "source": [
    "### Gathering XLV/S&P 500 API data and organizing into operable pandas DF"
   ]
  },
  {
   "cell_type": "code",
   "execution_count": 20,
   "metadata": {},
   "outputs": [
    {
     "data": {
      "text/html": [
       "<div>\n",
       "<style scoped>\n",
       "    .dataframe tbody tr th:only-of-type {\n",
       "        vertical-align: middle;\n",
       "    }\n",
       "\n",
       "    .dataframe tbody tr th {\n",
       "        vertical-align: top;\n",
       "    }\n",
       "\n",
       "    .dataframe thead th {\n",
       "        text-align: right;\n",
       "    }\n",
       "</style>\n",
       "<table border=\"1\" class=\"dataframe\">\n",
       "  <thead>\n",
       "    <tr style=\"text-align: right;\">\n",
       "      <th></th>\n",
       "      <th>date</th>\n",
       "      <th>open</th>\n",
       "      <th>high</th>\n",
       "      <th>low</th>\n",
       "      <th>close</th>\n",
       "      <th>volume</th>\n",
       "      <th>day_pct_change</th>\n",
       "      <th>overall_pct_change</th>\n",
       "    </tr>\n",
       "  </thead>\n",
       "  <tbody>\n",
       "    <tr>\n",
       "      <td>0</td>\n",
       "      <td>2019-12-12</td>\n",
       "      <td>100.07</td>\n",
       "      <td>101.28</td>\n",
       "      <td>100.020</td>\n",
       "      <td>100.49</td>\n",
       "      <td>4441501.0</td>\n",
       "      <td>0.419706</td>\n",
       "      <td>232.198347</td>\n",
       "    </tr>\n",
       "    <tr>\n",
       "      <td>1</td>\n",
       "      <td>2019-12-11</td>\n",
       "      <td>100.01</td>\n",
       "      <td>100.27</td>\n",
       "      <td>99.820</td>\n",
       "      <td>100.02</td>\n",
       "      <td>6010787.0</td>\n",
       "      <td>0.009999</td>\n",
       "      <td>230.644628</td>\n",
       "    </tr>\n",
       "    <tr>\n",
       "      <td>2</td>\n",
       "      <td>2019-12-10</td>\n",
       "      <td>99.69</td>\n",
       "      <td>100.02</td>\n",
       "      <td>99.295</td>\n",
       "      <td>99.93</td>\n",
       "      <td>6027927.0</td>\n",
       "      <td>0.240746</td>\n",
       "      <td>230.347107</td>\n",
       "    </tr>\n",
       "    <tr>\n",
       "      <td>3</td>\n",
       "      <td>2019-12-09</td>\n",
       "      <td>100.45</td>\n",
       "      <td>100.47</td>\n",
       "      <td>99.710</td>\n",
       "      <td>99.71</td>\n",
       "      <td>5148857.0</td>\n",
       "      <td>-0.736685</td>\n",
       "      <td>229.619835</td>\n",
       "    </tr>\n",
       "    <tr>\n",
       "      <td>4</td>\n",
       "      <td>2019-12-06</td>\n",
       "      <td>100.27</td>\n",
       "      <td>100.75</td>\n",
       "      <td>100.200</td>\n",
       "      <td>100.41</td>\n",
       "      <td>5658514.0</td>\n",
       "      <td>0.139623</td>\n",
       "      <td>231.933884</td>\n",
       "    </tr>\n",
       "  </tbody>\n",
       "</table>\n",
       "</div>"
      ],
      "text/plain": [
       "         date    open    high      low   close     volume  day_pct_change  \\\n",
       "0  2019-12-12  100.07  101.28  100.020  100.49  4441501.0        0.419706   \n",
       "1  2019-12-11  100.01  100.27   99.820  100.02  6010787.0        0.009999   \n",
       "2  2019-12-10   99.69  100.02   99.295   99.93  6027927.0        0.240746   \n",
       "3  2019-12-09  100.45  100.47   99.710   99.71  5148857.0       -0.736685   \n",
       "4  2019-12-06  100.27  100.75  100.200  100.41  5658514.0        0.139623   \n",
       "\n",
       "   overall_pct_change  \n",
       "0          232.198347  \n",
       "1          230.644628  \n",
       "2          230.347107  \n",
       "3          229.619835  \n",
       "4          231.933884  "
      ]
     },
     "execution_count": 20,
     "metadata": {},
     "output_type": "execute_result"
    }
   ],
   "source": [
    "# Load XLV-asset data and add series with the calculations of daily percent change as well as overall percent change\n",
    "xlv_symbol = 'XLV'\n",
    "xlv_df = asset_cleaner.clean_asset_data(xlv_symbol)\n",
    "xlv_df.head()"
   ]
  },
  {
   "cell_type": "code",
   "execution_count": 19,
   "metadata": {},
   "outputs": [
    {
     "data": {
      "text/html": [
       "<div>\n",
       "<style scoped>\n",
       "    .dataframe tbody tr th:only-of-type {\n",
       "        vertical-align: middle;\n",
       "    }\n",
       "\n",
       "    .dataframe tbody tr th {\n",
       "        vertical-align: top;\n",
       "    }\n",
       "\n",
       "    .dataframe thead th {\n",
       "        text-align: right;\n",
       "    }\n",
       "</style>\n",
       "<table border=\"1\" class=\"dataframe\">\n",
       "  <thead>\n",
       "    <tr style=\"text-align: right;\">\n",
       "      <th></th>\n",
       "      <th>date</th>\n",
       "      <th>open</th>\n",
       "      <th>high</th>\n",
       "      <th>low</th>\n",
       "      <th>close</th>\n",
       "      <th>volume</th>\n",
       "      <th>day_pct_change</th>\n",
       "      <th>overall_pct_change</th>\n",
       "    </tr>\n",
       "  </thead>\n",
       "  <tbody>\n",
       "    <tr>\n",
       "      <td>0</td>\n",
       "      <td>2019-12-12</td>\n",
       "      <td>3141.2300</td>\n",
       "      <td>3176.2800</td>\n",
       "      <td>3138.4700</td>\n",
       "      <td>3157.9299</td>\n",
       "      <td>1.150904e+09</td>\n",
       "      <td>0.531636</td>\n",
       "      <td>114.934824</td>\n",
       "    </tr>\n",
       "    <tr>\n",
       "      <td>1</td>\n",
       "      <td>2019-12-11</td>\n",
       "      <td>3135.7500</td>\n",
       "      <td>3143.9800</td>\n",
       "      <td>3133.2100</td>\n",
       "      <td>3141.6299</td>\n",
       "      <td>3.252540e+09</td>\n",
       "      <td>0.187512</td>\n",
       "      <td>113.825414</td>\n",
       "    </tr>\n",
       "    <tr>\n",
       "      <td>2</td>\n",
       "      <td>2019-12-10</td>\n",
       "      <td>3135.3601</td>\n",
       "      <td>3142.1201</td>\n",
       "      <td>3126.0901</td>\n",
       "      <td>3132.5200</td>\n",
       "      <td>3.343790e+09</td>\n",
       "      <td>-0.090583</td>\n",
       "      <td>113.205377</td>\n",
       "    </tr>\n",
       "    <tr>\n",
       "      <td>3</td>\n",
       "      <td>2019-12-09</td>\n",
       "      <td>3141.8601</td>\n",
       "      <td>3148.8701</td>\n",
       "      <td>3135.4600</td>\n",
       "      <td>3135.9600</td>\n",
       "      <td>3.345990e+09</td>\n",
       "      <td>-0.187790</td>\n",
       "      <td>113.439510</td>\n",
       "    </tr>\n",
       "    <tr>\n",
       "      <td>4</td>\n",
       "      <td>2019-12-06</td>\n",
       "      <td>3134.6201</td>\n",
       "      <td>3150.6001</td>\n",
       "      <td>3134.6201</td>\n",
       "      <td>3145.9099</td>\n",
       "      <td>3.479480e+09</td>\n",
       "      <td>0.360165</td>\n",
       "      <td>114.116719</td>\n",
       "    </tr>\n",
       "  </tbody>\n",
       "</table>\n",
       "</div>"
      ],
      "text/plain": [
       "         date       open       high        low      close        volume  \\\n",
       "0  2019-12-12  3141.2300  3176.2800  3138.4700  3157.9299  1.150904e+09   \n",
       "1  2019-12-11  3135.7500  3143.9800  3133.2100  3141.6299  3.252540e+09   \n",
       "2  2019-12-10  3135.3601  3142.1201  3126.0901  3132.5200  3.343790e+09   \n",
       "3  2019-12-09  3141.8601  3148.8701  3135.4600  3135.9600  3.345990e+09   \n",
       "4  2019-12-06  3134.6201  3150.6001  3134.6201  3145.9099  3.479480e+09   \n",
       "\n",
       "   day_pct_change  overall_pct_change  \n",
       "0        0.531636          114.934824  \n",
       "1        0.187512          113.825414  \n",
       "2       -0.090583          113.205377  \n",
       "3       -0.187790          113.439510  \n",
       "4        0.360165          114.116719  "
      ]
     },
     "execution_count": 19,
     "metadata": {},
     "output_type": "execute_result"
    }
   ],
   "source": [
    "#Load S&P 500 data\n",
    "sp_symbol = 'INX'\n",
    "sp_df = asset_cleaner.clean_asset_data(sp_symbol)\n",
    "sp_df.head()"
   ]
  },
  {
   "cell_type": "markdown",
   "metadata": {},
   "source": [
    "### Hypothesis Testing: Average Daily Returns (XLV - S&P 500)"
   ]
  },
  {
   "cell_type": "markdown",
   "metadata": {},
   "source": [
    "##### H0: The daily avg percent change in the XLV index fund is not different to that of the overall S&P 500\n",
    "##### HA: The daily avg percent change in the XLV index fund is different than the S&P 500"
   ]
  },
  {
   "cell_type": "code",
   "execution_count": 5,
   "metadata": {},
   "outputs": [],
   "source": [
    "xlv_avg_percent_moves = []\n",
    "sp_avg_percent_moves = []\n",
    "\n",
    "for i in range(5000):\n",
    "    \n",
    "    sample_xlv = xlv_df.sample(n = 50, random_state = i)\n",
    "    xlv_avg_percent_moves.append(sample_xlv.day_pct_change.mean())\n",
    "    \n",
    "    sample_sp = sp_df.sample(n = 50, random_state = i)\n",
    "    sp_avg_percent_moves.append(sample_sp.day_pct_change.mean())\n"
   ]
  },
  {
   "cell_type": "code",
   "execution_count": 6,
   "metadata": {},
   "outputs": [
    {
     "data": {
      "image/png": "[encoded data removed]",
      "text/plain": [
       "<Figure size 432x288 with 1 Axes>"
      ]
     },
     "metadata": {},
     "output_type": "display_data"
    }
   ],
   "source": [
    "plt.style.use('ggplot')\n",
    "plt.hist(xlv_avg_percent_moves, bins = 500, color = 'red', label = 'XLV Mutual Fund');\n",
    "plt.hist(sp_avg_percent_moves, bins = 500, color = 'blue', label = 'S&P 500 Index');\n",
    "plt.xlabel('Avg. Daily % Change');\n",
    "plt.title('Daily Rate Change Histogram of XLV & INX Indices');\n",
    "plt.legend();"
   ]
  },
  {
   "cell_type": "code",
   "execution_count": 9,
   "metadata": {},
   "outputs": [
    {
     "name": "stdout",
     "output_type": "stream",
     "text": [
      " Z-stat; -0.0018309119428792536 \n",
      " P-Value: 0.49926957222238827 \n",
      " Standard Error: 0.00229590774087437\n"
     ]
    }
   ],
   "source": [
    "# Calculate a z-stat, p-stat, and standard error for XLV sample and S&P500 benchmark\n",
    "test_statistics.calculate_test_stats(xlv_avg_percent_moves, sp_avg_percent_moves)"
   ]
  },
  {
   "cell_type": "code",
   "execution_count": 8,
   "metadata": {},
   "outputs": [
    {
     "name": "stdout",
     "output_type": "stream",
     "text": [
      "XLV-S&P Cohen's D: -0.01880839942055637\n"
     ]
    }
   ],
   "source": [
    "def cohen_d(xlv, sp500):\n",
    "\n",
    "    diff_mean = xlv.mean() - sp500.mean()\n",
    "\n",
    "    n_xlv = len(xlv)\n",
    "    n_sp500 = len(sp500)\n",
    "    var_xlv = xlv.var()\n",
    "    var_sp500 = sp500.var()\n",
    "\n",
    "    pooled_var = (n_xlv * var_xlv + n_sp500 * var_sp500) / (n_xlv + n_sp500)\n",
    "\n",
    "    cod = diff_mean / np.sqrt(pooled_var)\n",
    "\n",
    "    return cod\n",
    "\n",
    "xlv_sp_cohen_d = cohen_d(xlv_df['day_pct_change'], sp_df['day_pct_change'])\n",
    "print(f\"XLV-S&P Cohen's D: {xlv_sp_cohen_d}\")"
   ]
  },
  {
   "cell_type": "markdown",
   "metadata": {},
   "source": [
    "### Gathering Johnson & Johnson API data and organizing into operable pandas DF"
   ]
  },
  {
   "cell_type": "code",
   "execution_count": 24,
   "metadata": {},
   "outputs": [
    {
     "data": {
      "text/html": [
       "<div>\n",
       "<style scoped>\n",
       "    .dataframe tbody tr th:only-of-type {\n",
       "        vertical-align: middle;\n",
       "    }\n",
       "\n",
       "    .dataframe tbody tr th {\n",
       "        vertical-align: top;\n",
       "    }\n",
       "\n",
       "    .dataframe thead th {\n",
       "        text-align: right;\n",
       "    }\n",
       "</style>\n",
       "<table border=\"1\" class=\"dataframe\">\n",
       "  <thead>\n",
       "    <tr style=\"text-align: right;\">\n",
       "      <th></th>\n",
       "      <th>date</th>\n",
       "      <th>open</th>\n",
       "      <th>high</th>\n",
       "      <th>low</th>\n",
       "      <th>close</th>\n",
       "      <th>volume</th>\n",
       "      <th>day_pct_change</th>\n",
       "      <th>overall_pct_change</th>\n",
       "    </tr>\n",
       "  </thead>\n",
       "  <tbody>\n",
       "    <tr>\n",
       "      <td>0</td>\n",
       "      <td>2019-12-12</td>\n",
       "      <td>141.32</td>\n",
       "      <td>142.06</td>\n",
       "      <td>140.7300</td>\n",
       "      <td>140.904</td>\n",
       "      <td>2249238.0</td>\n",
       "      <td>-0.294367</td>\n",
       "      <td>48.320000</td>\n",
       "    </tr>\n",
       "    <tr>\n",
       "      <td>1</td>\n",
       "      <td>2019-12-11</td>\n",
       "      <td>140.93</td>\n",
       "      <td>141.98</td>\n",
       "      <td>140.6300</td>\n",
       "      <td>140.980</td>\n",
       "      <td>6498780.0</td>\n",
       "      <td>0.035479</td>\n",
       "      <td>48.400000</td>\n",
       "    </tr>\n",
       "    <tr>\n",
       "      <td>2</td>\n",
       "      <td>2019-12-10</td>\n",
       "      <td>140.80</td>\n",
       "      <td>141.00</td>\n",
       "      <td>139.9100</td>\n",
       "      <td>139.990</td>\n",
       "      <td>5310334.0</td>\n",
       "      <td>-0.575284</td>\n",
       "      <td>47.357895</td>\n",
       "    </tr>\n",
       "    <tr>\n",
       "      <td>3</td>\n",
       "      <td>2019-12-09</td>\n",
       "      <td>140.39</td>\n",
       "      <td>140.81</td>\n",
       "      <td>140.0601</td>\n",
       "      <td>140.500</td>\n",
       "      <td>4240984.0</td>\n",
       "      <td>0.078353</td>\n",
       "      <td>47.894737</td>\n",
       "    </tr>\n",
       "    <tr>\n",
       "      <td>4</td>\n",
       "      <td>2019-12-06</td>\n",
       "      <td>139.46</td>\n",
       "      <td>141.58</td>\n",
       "      <td>139.4600</td>\n",
       "      <td>140.380</td>\n",
       "      <td>6640427.0</td>\n",
       "      <td>0.659687</td>\n",
       "      <td>47.768421</td>\n",
       "    </tr>\n",
       "  </tbody>\n",
       "</table>\n",
       "</div>"
      ],
      "text/plain": [
       "         date    open    high       low    close     volume  day_pct_change  \\\n",
       "0  2019-12-12  141.32  142.06  140.7300  140.904  2249238.0       -0.294367   \n",
       "1  2019-12-11  140.93  141.98  140.6300  140.980  6498780.0        0.035479   \n",
       "2  2019-12-10  140.80  141.00  139.9100  139.990  5310334.0       -0.575284   \n",
       "3  2019-12-09  140.39  140.81  140.0601  140.500  4240984.0        0.078353   \n",
       "4  2019-12-06  139.46  141.58  139.4600  140.380  6640427.0        0.659687   \n",
       "\n",
       "   overall_pct_change  \n",
       "0           48.320000  \n",
       "1           48.400000  \n",
       "2           47.357895  \n",
       "3           47.894737  \n",
       "4           47.768421  "
      ]
     },
     "execution_count": 24,
     "metadata": {},
     "output_type": "execute_result"
    }
   ],
   "source": [
    "# Load JNJ data and add series with the calculations of daily percent change as well as overall percent change\n",
    "\n",
    "jj_symbol = 'JNJ'\n",
    "jj_df = asset_cleaner.clean_asset_data(jj_symbol)\n",
    "jj_df.head()"
   ]
  },
  {
   "cell_type": "markdown",
   "metadata": {},
   "source": [
    "### Hypothesis Testing: Average Daily Returns (Johnson & Johnson - S&P 500)"
   ]
  },
  {
   "cell_type": "markdown",
   "metadata": {},
   "source": [
    "##### H0: The daily avg percent change in the JNJ index fund is not different to that of the overall S&P 500\n",
    "##### HA: The daily avg percent change in the JNJ index fund is different than the S&P 500"
   ]
  },
  {
   "cell_type": "code",
   "execution_count": 25,
   "metadata": {},
   "outputs": [],
   "source": [
    "jj_avg_percent_moves = []\n",
    "\n",
    "for i in range(5000):\n",
    "    \n",
    "    sample_jj = jj_df.sample(n = 50, random_state = i)\n",
    "    jj_avg_percent_moves.append(sample_jj.day_pct_change.mean())\n"
   ]
  },
  {
   "cell_type": "code",
   "execution_count": 29,
   "metadata": {},
   "outputs": [
    {
     "data": {
      "image/png": "[encoded data removed]",
      "text/plain": [
       "<Figure size 432x288 with 1 Axes>"
      ]
     },
     "metadata": {},
     "output_type": "display_data"
    }
   ],
   "source": [
    "plt.style.use('ggplot')\n",
    "plt.hist(jj_avg_percent_moves, bins = 500, color = 'red', label = 'Johnston & Johnston');\n",
    "plt.hist(sp_avg_percent_moves, bins = 500, color = 'blue', label = 'S&P 500');\n",
    "plt.xlabel('Average Daily Percent Change')\n",
    "plt.title('Daily Rate Change of Johnston & Johnston Equity Histogram')\n",
    "# plt.hist(xlv_avg_percent_moves, bins = 500, color = 'pink', label = 'XLV');\n",
    "plt.legend();  "
   ]
  },
  {
   "cell_type": "code",
   "execution_count": 28,
   "metadata": {},
   "outputs": [
    {
     "name": "stdout",
     "output_type": "stream",
     "text": [
      " Z-stat; 0.00039900926405417016 \n",
      " P-Value: 0.5001591816614792 \n",
      " Standard Error: 0.00229590774087437\n"
     ]
    }
   ],
   "source": [
    "test_statistics.calculate_test_stats(jj_avg_percent_moves, sp_avg_percent_moves)"
   ]
  },
  {
   "cell_type": "code",
   "execution_count": 31,
   "metadata": {},
   "outputs": [
    {
     "name": "stdout",
     "output_type": "stream",
     "text": [
      "JNJ-S&P Cohen's D: 0.003550696100159145\n"
     ]
    }
   ],
   "source": [
    "def cohen_d(xlv, sp500):\n",
    "\n",
    "    diff_mean = xlv.mean() - sp500.mean()\n",
    "\n",
    "    n_xlv = len(xlv)\n",
    "    n_sp500 = len(sp500)\n",
    "    var_xlv = xlv.var()\n",
    "    var_sp500 = sp500.var()\n",
    "\n",
    "    pooled_var = (n_xlv * var_xlv + n_sp500 * var_sp500) / (n_xlv + n_sp500)\n",
    "\n",
    "    cod = diff_mean / np.sqrt(pooled_var)\n",
    "\n",
    "    return cod\n",
    "\n",
    "jj_sp_cohen_d = cohen_d(jj_df['day_pct_change'], sp_df['day_pct_change'])\n",
    "print(f\"JNJ-S&P Cohen's D: {jj_sp_cohen_d}\")"
   ]
  },
  {
   "cell_type": "code",
   "execution_count": null,
   "metadata": {},
   "outputs": [],
   "source": []
  }
 ],
 "metadata": {
  "kernelspec": {
   "display_name": "Python 3",
   "language": "python",
   "name": "python3"
  },
  "language_info": {
   "codemirror_mode": {
    "name": "ipython",
    "version": 3
   },
   "file_extension": ".py",
   "mimetype": "text/x-python",
   "name": "python",
   "nbconvert_exporter": "python",
   "pygments_lexer": "ipython3",
   "version": "3.6.9"
  }
 },
 "nbformat": 4,
 "nbformat_minor": 4
}
