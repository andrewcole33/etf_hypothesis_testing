{
 "cells": [
  {
   "cell_type": "markdown",
   "metadata": {},
   "source": [
    "# Module 3 Project - Asset Movements - Technical Document\n",
    "## Andrew Cole & Will Herzog"
   ]
  },
  {
   "cell_type": "code",
   "execution_count": 12,
   "metadata": {},
   "outputs": [
    {
     "name": "stdout",
     "output_type": "stream",
     "text": [
      "The autoreload extension is already loaded. To reload it, use:\n",
      "  %reload_ext autoreload\n"
     ]
    }
   ],
   "source": [
    "# Import libraries with proper aliases\n",
    "import json\n",
    "import requests\n",
    "import numpy as np\n",
    "import pandas as pd\n",
    "import matplotlib.pyplot as plt\n",
    "%matplotlib inline\n",
    "import scipy.stats as stats\n",
    "import math\n",
    "from statsmodels.stats.power import zt_ind_solve_power\n",
    "import asset_cleaner\n",
    "import test_statistics\n",
    "%load_ext autoreload\n",
    "%autoreload "
   ]
  },
  {
   "cell_type": "markdown",
   "metadata": {},
   "source": [
    "### Gathering XLV/S&P 500 API data and organizing into operable pandas DF"
   ]
  },
  {
   "cell_type": "code",
   "execution_count": 13,
   "metadata": {},
   "outputs": [
    {
     "data": {
      "text/html": [
       "<div>\n",
       "<style scoped>\n",
       "    .dataframe tbody tr th:only-of-type {\n",
       "        vertical-align: middle;\n",
       "    }\n",
       "\n",
       "    .dataframe tbody tr th {\n",
       "        vertical-align: top;\n",
       "    }\n",
       "\n",
       "    .dataframe thead th {\n",
       "        text-align: right;\n",
       "    }\n",
       "</style>\n",
       "<table border=\"1\" class=\"dataframe\">\n",
       "  <thead>\n",
       "    <tr style=\"text-align: right;\">\n",
       "      <th></th>\n",
       "      <th>date</th>\n",
       "      <th>open</th>\n",
       "      <th>high</th>\n",
       "      <th>low</th>\n",
       "      <th>close</th>\n",
       "      <th>volume</th>\n",
       "      <th>day_pct_change</th>\n",
       "      <th>overall_pct_change</th>\n",
       "    </tr>\n",
       "  </thead>\n",
       "  <tbody>\n",
       "    <tr>\n",
       "      <td>0</td>\n",
       "      <td>2019-12-13</td>\n",
       "      <td>100.85</td>\n",
       "      <td>101.47</td>\n",
       "      <td>100.470</td>\n",
       "      <td>100.665</td>\n",
       "      <td>3325531.0</td>\n",
       "      <td>-0.183441</td>\n",
       "      <td>239.053553</td>\n",
       "    </tr>\n",
       "    <tr>\n",
       "      <td>1</td>\n",
       "      <td>2019-12-12</td>\n",
       "      <td>100.07</td>\n",
       "      <td>101.28</td>\n",
       "      <td>100.020</td>\n",
       "      <td>100.950</td>\n",
       "      <td>9769053.0</td>\n",
       "      <td>0.879384</td>\n",
       "      <td>240.013473</td>\n",
       "    </tr>\n",
       "    <tr>\n",
       "      <td>2</td>\n",
       "      <td>2019-12-11</td>\n",
       "      <td>100.01</td>\n",
       "      <td>100.27</td>\n",
       "      <td>99.820</td>\n",
       "      <td>100.020</td>\n",
       "      <td>6010787.0</td>\n",
       "      <td>0.009999</td>\n",
       "      <td>236.881105</td>\n",
       "    </tr>\n",
       "    <tr>\n",
       "      <td>3</td>\n",
       "      <td>2019-12-10</td>\n",
       "      <td>99.69</td>\n",
       "      <td>100.02</td>\n",
       "      <td>99.295</td>\n",
       "      <td>99.930</td>\n",
       "      <td>6027927.0</td>\n",
       "      <td>0.240746</td>\n",
       "      <td>236.577972</td>\n",
       "    </tr>\n",
       "    <tr>\n",
       "      <td>4</td>\n",
       "      <td>2019-12-09</td>\n",
       "      <td>100.45</td>\n",
       "      <td>100.47</td>\n",
       "      <td>99.710</td>\n",
       "      <td>99.710</td>\n",
       "      <td>5148857.0</td>\n",
       "      <td>-0.736685</td>\n",
       "      <td>235.836982</td>\n",
       "    </tr>\n",
       "  </tbody>\n",
       "</table>\n",
       "</div>"
      ],
      "text/plain": [
       "         date    open    high      low    close     volume  day_pct_change  \\\n",
       "0  2019-12-13  100.85  101.47  100.470  100.665  3325531.0       -0.183441   \n",
       "1  2019-12-12  100.07  101.28  100.020  100.950  9769053.0        0.879384   \n",
       "2  2019-12-11  100.01  100.27   99.820  100.020  6010787.0        0.009999   \n",
       "3  2019-12-10   99.69  100.02   99.295   99.930  6027927.0        0.240746   \n",
       "4  2019-12-09  100.45  100.47   99.710   99.710  5148857.0       -0.736685   \n",
       "\n",
       "   overall_pct_change  \n",
       "0          239.053553  \n",
       "1          240.013473  \n",
       "2          236.881105  \n",
       "3          236.577972  \n",
       "4          235.836982  "
      ]
     },
     "metadata": {},
     "output_type": "display_data"
    },
    {
     "data": {
      "text/plain": [
       "(5034, 8)"
      ]
     },
     "execution_count": 13,
     "metadata": {},
     "output_type": "execute_result"
    }
   ],
   "source": [
    "# Load XLV-asset data and add series with the calculations of daily percent change as well as overall percent change\n",
    "xlv_symbol = 'XLV'\n",
    "xlv_df = asset_cleaner.clean_asset_data(xlv_symbol)\n",
    "display(xlv_df.head())\n",
    "xlv_df.shape"
   ]
  },
  {
   "cell_type": "code",
   "execution_count": 14,
   "metadata": {},
   "outputs": [
    {
     "data": {
      "text/html": [
       "<div>\n",
       "<style scoped>\n",
       "    .dataframe tbody tr th:only-of-type {\n",
       "        vertical-align: middle;\n",
       "    }\n",
       "\n",
       "    .dataframe tbody tr th {\n",
       "        vertical-align: top;\n",
       "    }\n",
       "\n",
       "    .dataframe thead th {\n",
       "        text-align: right;\n",
       "    }\n",
       "</style>\n",
       "<table border=\"1\" class=\"dataframe\">\n",
       "  <thead>\n",
       "    <tr style=\"text-align: right;\">\n",
       "      <th></th>\n",
       "      <th>date</th>\n",
       "      <th>open</th>\n",
       "      <th>high</th>\n",
       "      <th>low</th>\n",
       "      <th>close</th>\n",
       "      <th>volume</th>\n",
       "      <th>day_pct_change</th>\n",
       "      <th>overall_pct_change</th>\n",
       "    </tr>\n",
       "  </thead>\n",
       "  <tbody>\n",
       "    <tr>\n",
       "      <td>0</td>\n",
       "      <td>2019-12-13</td>\n",
       "      <td>3166.6499</td>\n",
       "      <td>3182.6799</td>\n",
       "      <td>3156.5100</td>\n",
       "      <td>3163.7400</td>\n",
       "      <td>7.963713e+08</td>\n",
       "      <td>-0.091892</td>\n",
       "      <td>115.330271</td>\n",
       "    </tr>\n",
       "    <tr>\n",
       "      <td>1</td>\n",
       "      <td>2019-12-12</td>\n",
       "      <td>3141.2300</td>\n",
       "      <td>3176.2800</td>\n",
       "      <td>3138.4700</td>\n",
       "      <td>3168.5701</td>\n",
       "      <td>3.990690e+09</td>\n",
       "      <td>0.870363</td>\n",
       "      <td>115.659017</td>\n",
       "    </tr>\n",
       "    <tr>\n",
       "      <td>2</td>\n",
       "      <td>2019-12-11</td>\n",
       "      <td>3135.7500</td>\n",
       "      <td>3143.9800</td>\n",
       "      <td>3133.2100</td>\n",
       "      <td>3141.6299</td>\n",
       "      <td>3.252540e+09</td>\n",
       "      <td>0.187512</td>\n",
       "      <td>113.825414</td>\n",
       "    </tr>\n",
       "    <tr>\n",
       "      <td>3</td>\n",
       "      <td>2019-12-10</td>\n",
       "      <td>3135.3601</td>\n",
       "      <td>3142.1201</td>\n",
       "      <td>3126.0901</td>\n",
       "      <td>3132.5200</td>\n",
       "      <td>3.343790e+09</td>\n",
       "      <td>-0.090583</td>\n",
       "      <td>113.205377</td>\n",
       "    </tr>\n",
       "    <tr>\n",
       "      <td>4</td>\n",
       "      <td>2019-12-09</td>\n",
       "      <td>3141.8601</td>\n",
       "      <td>3148.8701</td>\n",
       "      <td>3135.4600</td>\n",
       "      <td>3135.9600</td>\n",
       "      <td>3.345990e+09</td>\n",
       "      <td>-0.187790</td>\n",
       "      <td>113.439510</td>\n",
       "    </tr>\n",
       "  </tbody>\n",
       "</table>\n",
       "</div>"
      ],
      "text/plain": [
       "         date       open       high        low      close        volume  \\\n",
       "0  2019-12-13  3166.6499  3182.6799  3156.5100  3163.7400  7.963713e+08   \n",
       "1  2019-12-12  3141.2300  3176.2800  3138.4700  3168.5701  3.990690e+09   \n",
       "2  2019-12-11  3135.7500  3143.9800  3133.2100  3141.6299  3.252540e+09   \n",
       "3  2019-12-10  3135.3601  3142.1201  3126.0901  3132.5200  3.343790e+09   \n",
       "4  2019-12-09  3141.8601  3148.8701  3135.4600  3135.9600  3.345990e+09   \n",
       "\n",
       "   day_pct_change  overall_pct_change  \n",
       "0       -0.091892          115.330271  \n",
       "1        0.870363          115.659017  \n",
       "2        0.187512          113.825414  \n",
       "3       -0.090583          113.205377  \n",
       "4       -0.187790          113.439510  "
      ]
     },
     "execution_count": 14,
     "metadata": {},
     "output_type": "execute_result"
    }
   ],
   "source": [
    "#Load S&P 500 data\n",
    "sp_symbol = 'INX'\n",
    "sp_df = asset_cleaner.clean_asset_data(sp_symbol)\n",
    "sp_df.head()"
   ]
  },
  {
   "cell_type": "markdown",
   "metadata": {},
   "source": [
    "### Hypothesis Testing: Average Daily Returns (XLV - S&P 500)"
   ]
  },
  {
   "cell_type": "markdown",
   "metadata": {},
   "source": [
    "##### H0: The daily avg percent change in the XLV index fund is not different to that of the overall S&P 500\n",
    "##### HA: The daily avg percent change in the XLV index fund is different than the S&P 500"
   ]
  },
  {
   "cell_type": "code",
   "execution_count": 15,
   "metadata": {},
   "outputs": [],
   "source": [
    "xlv_avg_percent_moves = []\n",
    "sp_avg_percent_moves = []\n",
    "\n",
    "for i in range(5000):\n",
    "    \n",
    "    sample_xlv = xlv_df.sample(n = 50, random_state = i)\n",
    "    xlv_avg_percent_moves.append(sample_xlv.day_pct_change.mean())\n",
    "    \n",
    "    sample_sp = sp_df.sample(n = 50, random_state = i)\n",
    "    sp_avg_percent_moves.append(sample_sp.day_pct_change.mean())\n"
   ]
  },
  {
   "cell_type": "code",
   "execution_count": 16,
   "metadata": {},
   "outputs": [
    {
     "data": {
      "image/png": "[encoded data removed]",
      "text/plain": [
       "<Figure size 432x288 with 1 Axes>"
      ]
     },
     "metadata": {},
     "output_type": "display_data"
    }
   ],
   "source": [
    "plt.style.use('ggplot')\n",
    "plt.hist(xlv_avg_percent_moves, bins = 500, color = 'red', label = 'XLV Mutual Fund');\n",
    "plt.hist(sp_avg_percent_moves, bins = 500, color = 'blue', label = 'S&P 500 Index');\n",
    "plt.xlabel('Avg. Daily % Change');\n",
    "plt.title('Daily Rate Change Histogram of XLV & INX Indices');\n",
    "plt.legend();"
   ]
  },
  {
   "cell_type": "code",
   "execution_count": 17,
   "metadata": {},
   "outputs": [
    {
     "name": "stdout",
     "output_type": "stream",
     "text": [
      " Z-stat; -0.0021196866762410215 \n",
      " P-Value: 0.49915436799689145 \n",
      " Standard Error: 0.0022410453619876574\n"
     ]
    }
   ],
   "source": [
    "# Calculate a z-stat, p-stat, and standard error for XLV sample and S&P500 benchmark\n",
    "test_statistics.calculate_test_stats(xlv_avg_percent_moves, sp_avg_percent_moves)"
   ]
  },
  {
   "cell_type": "code",
   "execution_count": 18,
   "metadata": {},
   "outputs": [
    {
     "name": "stdout",
     "output_type": "stream",
     "text": [
      "XLV-S&P Cohen's D: -0.018577801617461465\n"
     ]
    }
   ],
   "source": [
    "def cohen_d(xlv, sp500):\n",
    "\n",
    "    diff_mean = xlv.mean() - sp500.mean()\n",
    "\n",
    "    n_xlv = len(xlv)\n",
    "    n_sp500 = len(sp500)\n",
    "    var_xlv = xlv.var()\n",
    "    var_sp500 = sp500.var()\n",
    "\n",
    "    pooled_var = (n_xlv * var_xlv + n_sp500 * var_sp500) / (n_xlv + n_sp500)\n",
    "\n",
    "    cod = diff_mean / np.sqrt(pooled_var)\n",
    "\n",
    "    return cod\n",
    "\n",
    "xlv_sp_cohen_d = cohen_d(xlv_df['day_pct_change'], sp_df['day_pct_change'])\n",
    "print(f\"XLV-S&P Cohen's D: {xlv_sp_cohen_d}\")"
   ]
  },
  {
   "cell_type": "markdown",
   "metadata": {},
   "source": [
    "### Gathering Johnson & Johnson API data and organizing into operable pandas DF"
   ]
  },
  {
   "cell_type": "code",
   "execution_count": 19,
   "metadata": {},
   "outputs": [
    {
     "data": {
      "text/html": [
       "<div>\n",
       "<style scoped>\n",
       "    .dataframe tbody tr th:only-of-type {\n",
       "        vertical-align: middle;\n",
       "    }\n",
       "\n",
       "    .dataframe tbody tr th {\n",
       "        vertical-align: top;\n",
       "    }\n",
       "\n",
       "    .dataframe thead th {\n",
       "        text-align: right;\n",
       "    }\n",
       "</style>\n",
       "<table border=\"1\" class=\"dataframe\">\n",
       "  <thead>\n",
       "    <tr style=\"text-align: right;\">\n",
       "      <th></th>\n",
       "      <th>date</th>\n",
       "      <th>open</th>\n",
       "      <th>high</th>\n",
       "      <th>low</th>\n",
       "      <th>close</th>\n",
       "      <th>volume</th>\n",
       "      <th>day_pct_change</th>\n",
       "      <th>overall_pct_change</th>\n",
       "    </tr>\n",
       "  </thead>\n",
       "  <tbody>\n",
       "    <tr>\n",
       "      <td>0</td>\n",
       "      <td>2019-12-13</td>\n",
       "      <td>141.10</td>\n",
       "      <td>141.80</td>\n",
       "      <td>140.3100</td>\n",
       "      <td>140.3747</td>\n",
       "      <td>1337929.0</td>\n",
       "      <td>-0.514033</td>\n",
       "      <td>48.340590</td>\n",
       "    </tr>\n",
       "    <tr>\n",
       "      <td>1</td>\n",
       "      <td>2019-12-12</td>\n",
       "      <td>141.32</td>\n",
       "      <td>142.06</td>\n",
       "      <td>140.7300</td>\n",
       "      <td>141.3400</td>\n",
       "      <td>5011366.0</td>\n",
       "      <td>0.014152</td>\n",
       "      <td>49.360668</td>\n",
       "    </tr>\n",
       "    <tr>\n",
       "      <td>2</td>\n",
       "      <td>2019-12-11</td>\n",
       "      <td>140.93</td>\n",
       "      <td>141.98</td>\n",
       "      <td>140.6300</td>\n",
       "      <td>140.9800</td>\n",
       "      <td>6498780.0</td>\n",
       "      <td>0.035479</td>\n",
       "      <td>48.980239</td>\n",
       "    </tr>\n",
       "    <tr>\n",
       "      <td>3</td>\n",
       "      <td>2019-12-10</td>\n",
       "      <td>140.80</td>\n",
       "      <td>141.00</td>\n",
       "      <td>139.9100</td>\n",
       "      <td>139.9900</td>\n",
       "      <td>5310334.0</td>\n",
       "      <td>-0.575284</td>\n",
       "      <td>47.934059</td>\n",
       "    </tr>\n",
       "    <tr>\n",
       "      <td>4</td>\n",
       "      <td>2019-12-09</td>\n",
       "      <td>140.39</td>\n",
       "      <td>140.81</td>\n",
       "      <td>140.0601</td>\n",
       "      <td>140.5000</td>\n",
       "      <td>4240984.0</td>\n",
       "      <td>0.078353</td>\n",
       "      <td>48.473000</td>\n",
       "    </tr>\n",
       "  </tbody>\n",
       "</table>\n",
       "</div>"
      ],
      "text/plain": [
       "         date    open    high       low     close     volume  day_pct_change  \\\n",
       "0  2019-12-13  141.10  141.80  140.3100  140.3747  1337929.0       -0.514033   \n",
       "1  2019-12-12  141.32  142.06  140.7300  141.3400  5011366.0        0.014152   \n",
       "2  2019-12-11  140.93  141.98  140.6300  140.9800  6498780.0        0.035479   \n",
       "3  2019-12-10  140.80  141.00  139.9100  139.9900  5310334.0       -0.575284   \n",
       "4  2019-12-09  140.39  140.81  140.0601  140.5000  4240984.0        0.078353   \n",
       "\n",
       "   overall_pct_change  \n",
       "0           48.340590  \n",
       "1           49.360668  \n",
       "2           48.980239  \n",
       "3           47.934059  \n",
       "4           48.473000  "
      ]
     },
     "execution_count": 19,
     "metadata": {},
     "output_type": "execute_result"
    }
   ],
   "source": [
    "# Load JNJ data and add series with the calculations of daily percent change as well as overall percent change\n",
    "\n",
    "jj_symbol = 'JNJ'\n",
    "jj_df = asset_cleaner.clean_asset_data(jj_symbol)\n",
    "jj_df.head()"
   ]
  },
  {
   "cell_type": "markdown",
   "metadata": {},
   "source": [
    "### Hypothesis Testing: Average Daily Returns (Johnson & Johnson - S&P 500)"
   ]
  },
  {
   "cell_type": "markdown",
   "metadata": {},
   "source": [
    "##### H0: The daily avg percent change in the JNJ index fund is not different to that of the overall S&P 500\n",
    "##### HA: The daily avg percent change in the JNJ index fund is different than the S&P 500"
   ]
  },
  {
   "cell_type": "code",
   "execution_count": 20,
   "metadata": {},
   "outputs": [],
   "source": [
    "jj_avg_percent_moves = []\n",
    "\n",
    "for i in range(5000):\n",
    "    \n",
    "    sample_jj = jj_df.sample(n = 50, random_state = i)\n",
    "    jj_avg_percent_moves.append(sample_jj.day_pct_change.mean())\n"
   ]
  },
  {
   "cell_type": "code",
   "execution_count": 21,
   "metadata": {},
   "outputs": [
    {
     "data": {
      "image/png": "[encoded data removed]",
      "text/plain": [
       "<Figure size 432x288 with 1 Axes>"
      ]
     },
     "metadata": {},
     "output_type": "display_data"
    }
   ],
   "source": [
    "plt.style.use('ggplot')\n",
    "plt.hist(jj_avg_percent_moves, bins = 500, color = 'red', label = 'Johnston & Johnston');\n",
    "plt.hist(sp_avg_percent_moves, bins = 500, color = 'blue', label = 'S&P 500');\n",
    "plt.xlabel('Average Daily Percent Change')\n",
    "plt.title('Daily Rate Change of Johnston & Johnston Equity Histogram')\n",
    "# plt.hist(xlv_avg_percent_moves, bins = 500, color = 'pink', label = 'XLV');\n",
    "plt.legend();  "
   ]
  },
  {
   "cell_type": "code",
   "execution_count": 22,
   "metadata": {},
   "outputs": [
    {
     "name": "stdout",
     "output_type": "stream",
     "text": [
      " Z-stat; -1.6280212783206643e-05 \n",
      " P-Value: 0.49999350513478713 \n",
      " Standard Error: 0.0022410453619876574\n"
     ]
    }
   ],
   "source": [
    "test_statistics.calculate_test_stats(jj_avg_percent_moves, sp_avg_percent_moves)"
   ]
  },
  {
   "cell_type": "code",
   "execution_count": 23,
   "metadata": {},
   "outputs": [
    {
     "name": "stdout",
     "output_type": "stream",
     "text": [
      "JNJ-S&P Cohen's D: 0.0035906507188306685\n"
     ]
    }
   ],
   "source": [
    "def cohen_d(xlv, sp500):\n",
    "\n",
    "    diff_mean = xlv.mean() - sp500.mean()\n",
    "\n",
    "    n_xlv = len(xlv)\n",
    "    n_sp500 = len(sp500)\n",
    "    var_xlv = xlv.var()\n",
    "    var_sp500 = sp500.var()\n",
    "\n",
    "    pooled_var = (n_xlv * var_xlv + n_sp500 * var_sp500) / (n_xlv + n_sp500)\n",
    "\n",
    "    cod = diff_mean / np.sqrt(pooled_var)\n",
    "\n",
    "    return cod\n",
    "\n",
    "jj_sp_cohen_d = cohen_d(jj_df['day_pct_change'], sp_df['day_pct_change'])\n",
    "print(f\"JNJ-S&P Cohen's D: {jj_sp_cohen_d}\")"
   ]
  },
  {
   "cell_type": "code",
   "execution_count": null,
   "metadata": {},
   "outputs": [],
   "source": []
  },
  {
   "cell_type": "code",
   "execution_count": null,
   "metadata": {},
   "outputs": [],
   "source": []
  },
  {
   "cell_type": "markdown",
   "metadata": {},
   "source": [
    "# Healthcare RSI Statistical significance\n",
    "#### Will Herzog\n",
    "### Null Hypothesis - The RSI of the heathcare fund, XLV, is the same as the RSI for the S&P 500\n",
    "### Alternative Hypothesis - The RSI of the heathcare fund, XLV, is different from the RSI for the S&P 500"
   ]
  },
  {
   "cell_type": "markdown",
   "metadata": {},
   "source": [
    "Access the API, and retrieve the json file"
   ]
  },
  {
   "cell_type": "code",
   "execution_count": 24,
   "metadata": {},
   "outputs": [],
   "source": [
    "key_alphavantage = '9HXBL1MHLXSUW3XP'\n",
    "function = 'RSI'\n",
    "interval = 'daily'"
   ]
  },
  {
   "cell_type": "code",
   "execution_count": 25,
   "metadata": {},
   "outputs": [],
   "source": [
    "symbol1 = 'XLV'\n",
    "\n",
    "response = requests.get(f'https://www.alphavantage.co/query?function={function}&symbol={symbol1}&interval={interval}&time_period=10&series_type=open&apikey={key_alphavantage}')\n",
    "response = response.json()"
   ]
  },
  {
   "cell_type": "code",
   "execution_count": 26,
   "metadata": {},
   "outputs": [],
   "source": [
    "symbol2 = '.INX'\n",
    "\n",
    "response2 = requests.get(f'https://www.alphavantage.co/query?function={function}&symbol={symbol2}&interval=daily&time_period=10&series_type=open&apikey={key_alphavantage}')\n",
    "response2 = response2.json()"
   ]
  },
  {
   "cell_type": "markdown",
   "metadata": {},
   "source": [
    "Getting a list of dates for both the XLV and the S&P500 for further cleaning/prepping and retrieving RSI values"
   ]
  },
  {
   "cell_type": "code",
   "execution_count": 27,
   "metadata": {},
   "outputs": [],
   "source": [
    "xlv_dates= list(response[f'Technical Analysis: {function}'].keys())\n",
    "xlv_dates = xlv_dates[1:]"
   ]
  },
  {
   "cell_type": "code",
   "execution_count": 28,
   "metadata": {},
   "outputs": [],
   "source": [
    "sp500_dates = list(response2[f'Technical Analysis: {function}'].keys())\n",
    "sp500_dates = sp500_dates[1:]"
   ]
  },
  {
   "cell_type": "markdown",
   "metadata": {},
   "source": [
    "These cells create new dictionaries with just the information I'm looking at, the keys are the dates and the values are the corresponding RSIs"
   ]
  },
  {
   "cell_type": "code",
   "execution_count": 29,
   "metadata": {},
   "outputs": [],
   "source": [
    "xlv_dates_rsi = {}\n",
    "\n",
    "count = 0\n",
    "for i in xlv_dates:\n",
    "    rsi = response[f'Technical Analysis: {function}'][i][f'{function}']\n",
    "    count += 1\n",
    "    xlv_dates_rsi[f'{i}'] = float(rsi)"
   ]
  },
  {
   "cell_type": "code",
   "execution_count": 30,
   "metadata": {},
   "outputs": [],
   "source": [
    "sp500_dates_rsi = {}\n",
    "\n",
    "count2 = 0 \n",
    "for i in sp500_dates:\n",
    "    rsi2 = response2[f'Technical Analysis: {function}'][i][f'{function}']\n",
    "    count2 += 1\n",
    "    sp500_dates_rsi[f'{i}'] = float(rsi2)"
   ]
  },
  {
   "cell_type": "markdown",
   "metadata": {},
   "source": [
    "Below, I'm initializing the dataframes for the XLV and S&P500 data"
   ]
  },
  {
   "cell_type": "code",
   "execution_count": 31,
   "metadata": {},
   "outputs": [],
   "source": [
    "xlvdf = pd.DataFrame(xlv_dates_rsi.items(), columns = ['date', f'{function}'])"
   ]
  },
  {
   "cell_type": "code",
   "execution_count": 32,
   "metadata": {},
   "outputs": [],
   "source": [
    "sp500df = pd.DataFrame(sp500_dates_rsi.items(), columns = ['date', f'{function}'])"
   ]
  },
  {
   "cell_type": "markdown",
   "metadata": {},
   "source": [
    "Here I'm removing the hypen and seperating the date into seperate columns for year, month, and day"
   ]
  },
  {
   "cell_type": "code",
   "execution_count": 33,
   "metadata": {},
   "outputs": [],
   "source": [
    "year = [int(xlv_dates[i].split('-')[0]) for i in range(len(xlv_dates))]\n",
    "month = [int(xlv_dates[i].split('-')[1]) for i in range(len(xlv_dates))]\n",
    "day = [int(xlv_dates[i].split('-')[2]) for i in range(len(xlv_dates))]"
   ]
  },
  {
   "cell_type": "code",
   "execution_count": 34,
   "metadata": {},
   "outputs": [],
   "source": [
    "year2 = [int(sp500_dates[i].split('-')[0]) for i in range(len(sp500_dates))]\n",
    "month2 = [int(sp500_dates[i].split('-')[1]) for i in range(len(sp500_dates))]\n",
    "day2 = [int(sp500_dates[i].split('-')[2]) for i in range(len(sp500_dates))]"
   ]
  },
  {
   "cell_type": "code",
   "execution_count": 35,
   "metadata": {},
   "outputs": [],
   "source": [
    "xlvdf['year'] = year\n",
    "xlvdf['month'] = month\n",
    "xlvdf['day'] = day"
   ]
  },
  {
   "cell_type": "code",
   "execution_count": 36,
   "metadata": {},
   "outputs": [],
   "source": [
    "sp500df['year'] = year2\n",
    "sp500df['month'] = month2\n",
    "sp500df['day'] = day2"
   ]
  },
  {
   "cell_type": "markdown",
   "metadata": {},
   "source": [
    "Below, I'm restricting the data for dates after 2016.\n",
    "\n",
    "This will get us an accurate representation of current market dynamic."
   ]
  },
  {
   "cell_type": "code",
   "execution_count": 37,
   "metadata": {},
   "outputs": [],
   "source": [
    "xlvdf = xlvdf.loc[xlvdf['year'] >= 2017]\n",
    "sp500df = sp500df.loc[sp500df['year'] >= 2017]"
   ]
  },
  {
   "cell_type": "markdown",
   "metadata": {},
   "source": [
    "## Comparing the normalized RSI data for XLV and S&P500 "
   ]
  },
  {
   "cell_type": "markdown",
   "metadata": {},
   "source": [
    "### 2017 Through 2019 YTD\n",
    "Below, I'm taking a sampling distribution for the XLV and S&P500"
   ]
  },
  {
   "cell_type": "code",
   "execution_count": 38,
   "metadata": {},
   "outputs": [],
   "source": [
    "xlv_sample_means = []\n",
    "sp500_sample_means = []\n",
    "for i in range(10000):\n",
    "    xlv_sample = xlvdf.sample(n=50, random_state=i) \n",
    "    xlv_sample_means.append(xlv_sample.RSI.mean()) \n",
    "        \n",
    "    sp500_sample = sp500df.sample(n=50, random_state=i) \n",
    "    sp500_sample_means.append(sp500_sample.RSI.mean()) "
   ]
  },
  {
   "cell_type": "markdown",
   "metadata": {},
   "source": [
    "### Evaluating z - score and statistical significance"
   ]
  },
  {
   "cell_type": "code",
   "execution_count": 39,
   "metadata": {},
   "outputs": [
    {
     "name": "stdout",
     "output_type": "stream",
     "text": [
      "The z_score is: -3.5532242921711\n",
      "The p-value is: 0.0001902699297316012\n",
      "The standard deviation is 14.47839017477702\n",
      "The standard error is 0.5315184245640511\n"
     ]
    }
   ],
   "source": [
    "xlv_bar = xlvdf.RSI.mean()  ### xlv population mean (subset)\n",
    "sp500_bar = sp500df.RSI.mean() ### S&P500 population mean (universal population)\n",
    "\n",
    "sp500_stan_dev = np.std(sp500df.RSI) ### S&P500 population standard dev\n",
    "sp500_stan_err = sp500_stan_dev/np.sqrt(len(sp500df))\n",
    "xlv_z_score = (xlv_bar - sp500_bar) / (sp500_stan_dev/np.sqrt(len(sp500df)))\n",
    "\n",
    "print(f'The z_score is: {xlv_z_score}')\n",
    "xlv_p_val = stats.norm.cdf(xlv_z_score)\n",
    "\n",
    "print(f'The p-value is: {xlv_p_val}')\n",
    "print(f'The standard deviation is {sp500_stan_dev}')\n",
    "print(f'The standard error is {sp500_stan_err}')   ### Z_score * Standard error = real difference between sample and pop means"
   ]
  },
  {
   "cell_type": "markdown",
   "metadata": {},
   "source": [
    "This has a large z-score and, consequentialy a small p-value. Meaning there is a very small chance that we have accidentally rejected our null hypothesis."
   ]
  },
  {
   "cell_type": "markdown",
   "metadata": {},
   "source": [
    "### Plotting Histogram Visual "
   ]
  },
  {
   "cell_type": "code",
   "execution_count": 40,
   "metadata": {},
   "outputs": [
    {
     "data": {
      "image/png": "[encoded data removed]",
      "text/plain": [
       "<Figure size 432x288 with 1 Axes>"
      ]
     },
     "metadata": {},
     "output_type": "display_data"
    }
   ],
   "source": [
    "plt.hist(xlv_sample_means, bins=500, color = 'blue', label='XLV 2017-19');\n",
    "plt.hist(sp500_sample_means, bins=500, color = 'red', label='S&P500 2017-19');\n",
    "plt.title('RSI Histogram')\n",
    "plt.legend();"
   ]
  },
  {
   "cell_type": "markdown",
   "metadata": {},
   "source": [
    "## Cohen's D and Power - How significant is the Difference?"
   ]
  },
  {
   "cell_type": "markdown",
   "metadata": {},
   "source": [
    "By finding the Cohen's D and Power of these distributions we will be able to better interpret the actual significance of our findings."
   ]
  },
  {
   "cell_type": "code",
   "execution_count": 41,
   "metadata": {},
   "outputs": [],
   "source": [
    "def cohen_d(xlv, sp500):\n",
    "\n",
    "    diff_mean = xlv.mean() - sp500.mean()\n",
    "\n",
    "    n_xlv = len(xlv)\n",
    "    n_sp500 = len(sp500)\n",
    "    var_xlv = xlv.var()\n",
    "    var_sp500 = sp500.var()\n",
    "\n",
    "    pooled_var = (n_xlv * var_xlv + n_sp500 * var_sp500) / (n_xlv + n_sp500)\n",
    "\n",
    "    cod = diff_mean / np.sqrt(pooled_var)\n",
    "\n",
    "    return cod"
   ]
  },
  {
   "cell_type": "code",
   "execution_count": 42,
   "metadata": {},
   "outputs": [],
   "source": [
    "xlv_cod = cohen_d(xlvdf['RSI'], sp500df['RSI'])"
   ]
  },
  {
   "cell_type": "code",
   "execution_count": 43,
   "metadata": {},
   "outputs": [
    {
     "name": "stdout",
     "output_type": "stream",
     "text": [
      "Power = 0.7145397019706381\n",
      "Cohen D = -0.1311771083823407\n"
     ]
    }
   ],
   "source": [
    "n1_xlv = len(xlvdf['RSI'])\n",
    "n2_sp500 = len(sp500df['RSI'])\n",
    "ratio = n1_xlv/n2_sp500\n",
    "xlv_power = zt_ind_solve_power(effect_size = xlv_cod, nobs1=n1_xlv, power = None, alpha = .05) \n",
    "print(f'Power = {xlv_power}\\nCohen D = {xlv_cod}')"
   ]
  },
  {
   "cell_type": "code",
   "execution_count": 44,
   "metadata": {},
   "outputs": [
    {
     "data": {
      "text/plain": [
       "-1.8886041778974985"
      ]
     },
     "execution_count": 44,
     "metadata": {},
     "output_type": "execute_result"
    }
   ],
   "source": [
    "xlvdf['RSI'].mean() - sp500df['RSI'].mean()"
   ]
  },
  {
   "cell_type": "markdown",
   "metadata": {},
   "source": [
    "It can be inferred that there is a difference, but since power is less than .8, it is less significant. This can be attributed to the small Cohen's D value, less than |.2|, meaning there is a small effect on different populations"
   ]
  },
  {
   "cell_type": "markdown",
   "metadata": {},
   "source": [
    "### Null Hypothesis - The RSI of Johnson & Johnson, the largest holdings in the XLV, mirrors the RSI of the XLV\n",
    "### Alternative Hypothesis - The RSI of Johnson & Johnson, the largest holdings in the XLV, is different from the RSI of the XLV"
   ]
  },
  {
   "cell_type": "markdown",
   "metadata": {},
   "source": [
    "This was conducted with a similar process to above hypothesis"
   ]
  },
  {
   "cell_type": "code",
   "execution_count": 45,
   "metadata": {},
   "outputs": [],
   "source": [
    "symbol_list = ['JNJ'] "
   ]
  },
  {
   "cell_type": "code",
   "execution_count": 46,
   "metadata": {},
   "outputs": [],
   "source": [
    "all_list = []\n",
    "for symbol in symbol_list:\n",
    "    response = requests.get(f'https://www.alphavantage.co/query?function={function}&symbol={symbol}&interval={interval}&time_period=10&series_type=open&apikey={key_alphavantage}')\n",
    "    jason = response.json()\n",
    "    all_list.append(jason)"
   ]
  },
  {
   "cell_type": "code",
   "execution_count": 47,
   "metadata": {},
   "outputs": [],
   "source": [
    "dictjnj = {}\n",
    "\n",
    "len_jnj = len(all_list[0]['Technical Analysis: RSI'])\n",
    "for i in range(len_jnj):\n",
    "    date = list(all_list[0]['Technical Analysis: RSI'].keys())[i]\n",
    "    rsi = float(list(all_list[0]['Technical Analysis: RSI'].values())[i]['RSI'])\n",
    "    dictjnj[f'{date}'] = rsi\n",
    "df_jnj = pd.DataFrame(dictjnj.items(), columns = ['date', 'rsi'])\n",
    "\n",
    "year = []\n",
    "for i in range(len_jnj):\n",
    "    year.append(int(df_jnj['date'][i].split('-')[0]))"
   ]
  },
  {
   "cell_type": "code",
   "execution_count": 48,
   "metadata": {},
   "outputs": [],
   "source": [
    "df_jnj['year'] = year\n",
    "df_jnj.drop(0, inplace = True)"
   ]
  },
  {
   "cell_type": "markdown",
   "metadata": {},
   "source": [
    "Again, we restrict the data to 2017 and later data "
   ]
  },
  {
   "cell_type": "code",
   "execution_count": 49,
   "metadata": {},
   "outputs": [],
   "source": [
    "df_jnj = df_jnj.loc[df_jnj['year'] >= 2017] #2017 and newer data"
   ]
  },
  {
   "cell_type": "markdown",
   "metadata": {},
   "source": [
    "And take create sampling distributions to normalize our data"
   ]
  },
  {
   "cell_type": "code",
   "execution_count": 50,
   "metadata": {},
   "outputs": [],
   "source": [
    "jnj_sample_means = []\n",
    "\n",
    "for i in range(10000):\n",
    "    jnj_sample = df_jnj.sample(n=50, random_state=i) \n",
    "    jnj_sample_means.append(jnj_sample.rsi.mean()) "
   ]
  },
  {
   "cell_type": "code",
   "execution_count": 51,
   "metadata": {},
   "outputs": [
    {
     "name": "stdout",
     "output_type": "stream",
     "text": [
      "The z_score is: -4.917611908104116\n",
      "The p-value is: 4.3803188163740013e-07\n",
      "The standard deviation is 14.29634588522281\n",
      "The standard error is 0.524835368449615\n"
     ]
    }
   ],
   "source": [
    "jnj_bar= df_jnj.rsi.mean()  ### johnson and johnson population mean (subset)\n",
    "\n",
    "xlv_stan_dev = np.std(xlvdf.RSI)\n",
    "xlv_stan_err = xlv_stan_dev/np.sqrt(len(xlvdf))\n",
    "\n",
    "jnj_z_score = (jnj_bar - xlv_bar) / (xlv_stan_dev/np.sqrt(len(xlvdf)))\n",
    "jnj_p_val = stats.norm.cdf(jnj_z_score)\n",
    "p_valjnj = stats.norm.cdf(jnj_z_score)\n",
    "\n",
    "print(f'The z_score is: {jnj_z_score}')\n",
    "print(f'The p-value is: {jnj_p_val}')\n",
    "print(f'The standard deviation is {xlv_stan_dev}')\n",
    "print(f'The standard error is {xlv_stan_err}')"
   ]
  },
  {
   "cell_type": "markdown",
   "metadata": {},
   "source": [
    "The z-score is very large and as a result the p-value is almost 0, meaning that there is a minimal chance of falsely regecting our null hypothesis."
   ]
  },
  {
   "cell_type": "code",
   "execution_count": 57,
   "metadata": {},
   "outputs": [
    {
     "data": {
      "image/png": "[encoded data removed]",
      "text/plain": [
       "<Figure size 432x288 with 1 Axes>"
      ]
     },
     "metadata": {},
     "output_type": "display_data"
    }
   ],
   "source": [
    "plt.hist(jnj_sample_means, bins=500, color='blue', label='JNJ 2017-2019');\n",
    "plt.hist(xlv_sample_means, bins=500, color='red', label='XLV 2017-2019');\n",
    "plt.title('RSI 2017 - 2019')\n",
    "plt.legend();"
   ]
  },
  {
   "cell_type": "markdown",
   "metadata": {},
   "source": [
    "Below is an example of how the z-score when multiplied by the standard error is equivalent to the difference of the distributions."
   ]
  },
  {
   "cell_type": "code",
   "execution_count": 53,
   "metadata": {},
   "outputs": [
    {
     "name": "stdout",
     "output_type": "stream",
     "text": [
      "-2.580936657682038\n",
      "-2.580936657682038\n"
     ]
    }
   ],
   "source": [
    "print(jnj_z_score * xlv_stan_err)\n",
    "print(jnj_bar - xlv_bar)"
   ]
  },
  {
   "cell_type": "markdown",
   "metadata": {},
   "source": [
    "### Cohen's D for Johnson & Johnson and XLV - 2017-2019"
   ]
  },
  {
   "cell_type": "code",
   "execution_count": 54,
   "metadata": {},
   "outputs": [],
   "source": [
    "codjnj = cohen_d(df_jnj['rsi'], xlvdf['RSI'])"
   ]
  },
  {
   "cell_type": "code",
   "execution_count": 55,
   "metadata": {},
   "outputs": [
    {
     "name": "stdout",
     "output_type": "stream",
     "text": [
      "Power= 0.9337192026462193\n",
      "Cohen D= -0.17984402456369059\n"
     ]
    }
   ],
   "source": [
    "n1_jnj = len(df_jnj['rsi'])\n",
    "n2_xlv = len(xlvdf['RSI'])\n",
    "ratio = n1_jnj/n2_xlv\n",
    "jnj_power = zt_ind_solve_power(effect_size = codjnj, nobs1=n1_jnj, power = None, alpha = .05) \n",
    "print(f'Power= {jnj_power}\\nCohen D= {codjnj}')"
   ]
  },
  {
   "cell_type": "markdown",
   "metadata": {},
   "source": [
    "In contrast to the prior power analysis, the power is greater than .8, in spite of the relativly small Cohen's D, less than |.2|. Meaning that there is a decisive difference in the two groups, although the effect size is small."
   ]
  }
 ],
 "metadata": {
  "kernelspec": {
   "display_name": "Python 3",
   "language": "python",
   "name": "python3"
  },
  "language_info": {
   "codemirror_mode": {
    "name": "ipython",
    "version": 3
   },
   "file_extension": ".py",
   "mimetype": "text/x-python",
   "name": "python",
   "nbconvert_exporter": "python",
   "pygments_lexer": "ipython3",
   "version": "3.7.4"
  }
 },
 "nbformat": 4,
 "nbformat_minor": 4
}
